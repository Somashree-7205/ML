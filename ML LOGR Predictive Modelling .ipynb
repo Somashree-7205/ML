{
 "cells": [
  {
   "cell_type": "markdown",
   "metadata": {
    "colab_type": "text",
    "id": "HrZ7-nxcXLvy"
   },
   "source": [
    "# Problem Statement"
   ]
  },
  {
   "cell_type": "markdown",
   "metadata": {
    "colab_type": "text",
    "id": "t0h8pRHeXLv5"
   },
   "source": [
    "\n",
    "WHO is a specialized agency of the UN which is concerned with the world population health. Based upon the various parameters, WHO allocates budget for various areas to conduct various campaigns/initiatives to improve healthcare. Annual salary is an important variable which is considered to decide budget to be allocated for an area.  \n",
    "  \n",
    "Extraction of data was done from 1994 Census dataset.  \n",
    "  \n",
    "The goal here is to build a binary model to predict whether the salary is >50K or <50K."
   ]
  },
  {
   "cell_type": "markdown",
   "metadata": {
    "colab_type": "text",
    "id": "9dE_kg56XLv8"
   },
   "source": [
    "## Data Dictionary"
   ]
  },
  {
   "cell_type": "markdown",
   "metadata": {
    "colab_type": "text",
    "id": "kTLVHgQ8XLwA"
   },
   "source": [
    "1. <b>age:</b> age  \n",
    "2. <b>workclass:</b> workclass  \n",
    "3. <b>education:</b> highest education  \n",
    "4. <b>marrital status:</b> marital status  \n",
    "5. <b>occupation:</b> occupation  \n",
    "6. <b>sex:</b> sex  \n",
    "7. <b>capital gain:</b> income from investment sources other than salary/wages  \n",
    "8. <b>capital loss:</b> income from investment sources other than salary/wages  \n",
    "9. <b>working hours:</b> nummber of working hours per week  \n",
    "10. <b>salary:</b> salary  "
   ]
  },
  {
   "cell_type": "code",
   "execution_count": 1,
   "metadata": {
    "ExecuteTime": {
     "end_time": "2021-03-01T11:06:24.502902Z",
     "start_time": "2021-03-01T11:06:23.017557Z"
    },
    "colab": {},
    "colab_type": "code",
    "id": "OVZ9VG1hXLwD"
   },
   "outputs": [],
   "source": [
    "import numpy as np\n",
    "import pandas as pd\n",
    "import matplotlib.pyplot as plt   \n",
    "import seaborn as sns\n",
    "from sklearn.model_selection import train_test_split,GridSearchCV\n",
    "from sklearn.linear_model import LogisticRegression\n",
    "from sklearn import metrics\n",
    "from sklearn.metrics import roc_auc_score,roc_curve,classification_report,confusion_matrix,plot_confusion_matrix\n",
    "import warnings \n",
    "warnings.filterwarnings( \"ignore\")"
   ]
  },
  {
   "cell_type": "code",
   "execution_count": 2,
   "metadata": {
    "ExecuteTime": {
     "end_time": "2021-03-01T11:06:24.574710Z",
     "start_time": "2021-03-01T11:06:24.516865Z"
    },
    "colab": {},
    "colab_type": "code",
    "id": "VJJm2CfGXLwP"
   },
   "outputs": [],
   "source": [
    "df=pd.read_csv(\"adult.data-1.csv\")"
   ]
  },
  {
   "cell_type": "markdown",
   "metadata": {
    "colab_type": "text",
    "id": "imoOAX3GXLwX"
   },
   "source": [
    "### EDA"
   ]
  },
  {
   "cell_type": "code",
   "execution_count": 3,
   "metadata": {
    "ExecuteTime": {
     "end_time": "2021-03-01T11:06:29.343581Z",
     "start_time": "2021-03-01T11:06:29.325627Z"
    },
    "colab": {},
    "colab_type": "code",
    "id": "LTjN85hfXLwa",
    "outputId": "477775ac-502e-46f5-c0e8-c444b00bf076"
   },
   "outputs": [
    {
     "data": {
      "text/html": [
       "<div>\n",
       "<style scoped>\n",
       "    .dataframe tbody tr th:only-of-type {\n",
       "        vertical-align: middle;\n",
       "    }\n",
       "\n",
       "    .dataframe tbody tr th {\n",
       "        vertical-align: top;\n",
       "    }\n",
       "\n",
       "    .dataframe thead th {\n",
       "        text-align: right;\n",
       "    }\n",
       "</style>\n",
       "<table border=\"1\" class=\"dataframe\">\n",
       "  <thead>\n",
       "    <tr style=\"text-align: right;\">\n",
       "      <th></th>\n",
       "      <th>age</th>\n",
       "      <th>workclass</th>\n",
       "      <th>education</th>\n",
       "      <th>marrital status</th>\n",
       "      <th>occupation</th>\n",
       "      <th>sex</th>\n",
       "      <th>capital gain</th>\n",
       "      <th>capital loss</th>\n",
       "      <th>working hours per week</th>\n",
       "      <th>salary</th>\n",
       "    </tr>\n",
       "  </thead>\n",
       "  <tbody>\n",
       "    <tr>\n",
       "      <th>0</th>\n",
       "      <td>39</td>\n",
       "      <td>State-gov</td>\n",
       "      <td>Bachelors</td>\n",
       "      <td>Never-married</td>\n",
       "      <td>Adm-clerical</td>\n",
       "      <td>Male</td>\n",
       "      <td>2174</td>\n",
       "      <td>0</td>\n",
       "      <td>40</td>\n",
       "      <td>&lt;=50K</td>\n",
       "    </tr>\n",
       "    <tr>\n",
       "      <th>1</th>\n",
       "      <td>50</td>\n",
       "      <td>Self-emp-not-inc</td>\n",
       "      <td>Bachelors</td>\n",
       "      <td>Married-civ-spouse</td>\n",
       "      <td>Exec-managerial</td>\n",
       "      <td>Male</td>\n",
       "      <td>0</td>\n",
       "      <td>0</td>\n",
       "      <td>13</td>\n",
       "      <td>&lt;=50K</td>\n",
       "    </tr>\n",
       "    <tr>\n",
       "      <th>2</th>\n",
       "      <td>38</td>\n",
       "      <td>Private</td>\n",
       "      <td>HS-grad</td>\n",
       "      <td>Divorced</td>\n",
       "      <td>Handlers-cleaners</td>\n",
       "      <td>Male</td>\n",
       "      <td>0</td>\n",
       "      <td>0</td>\n",
       "      <td>40</td>\n",
       "      <td>&lt;=50K</td>\n",
       "    </tr>\n",
       "    <tr>\n",
       "      <th>3</th>\n",
       "      <td>53</td>\n",
       "      <td>Private</td>\n",
       "      <td>11th</td>\n",
       "      <td>Married-civ-spouse</td>\n",
       "      <td>Handlers-cleaners</td>\n",
       "      <td>Male</td>\n",
       "      <td>0</td>\n",
       "      <td>0</td>\n",
       "      <td>40</td>\n",
       "      <td>&lt;=50K</td>\n",
       "    </tr>\n",
       "    <tr>\n",
       "      <th>4</th>\n",
       "      <td>28</td>\n",
       "      <td>Private</td>\n",
       "      <td>Bachelors</td>\n",
       "      <td>Married-civ-spouse</td>\n",
       "      <td>Prof-specialty</td>\n",
       "      <td>Female</td>\n",
       "      <td>0</td>\n",
       "      <td>0</td>\n",
       "      <td>40</td>\n",
       "      <td>&lt;=50K</td>\n",
       "    </tr>\n",
       "  </tbody>\n",
       "</table>\n",
       "</div>"
      ],
      "text/plain": [
       "   age         workclass  education     marrital status         occupation  \\\n",
       "0   39         State-gov  Bachelors       Never-married       Adm-clerical   \n",
       "1   50  Self-emp-not-inc  Bachelors  Married-civ-spouse    Exec-managerial   \n",
       "2   38           Private    HS-grad            Divorced  Handlers-cleaners   \n",
       "3   53           Private       11th  Married-civ-spouse  Handlers-cleaners   \n",
       "4   28           Private  Bachelors  Married-civ-spouse     Prof-specialty   \n",
       "\n",
       "      sex  capital gain  capital loss  working hours per week  salary  \n",
       "0    Male          2174             0                      40   <=50K  \n",
       "1    Male             0             0                      13   <=50K  \n",
       "2    Male             0             0                      40   <=50K  \n",
       "3    Male             0             0                      40   <=50K  \n",
       "4  Female             0             0                      40   <=50K  "
      ]
     },
     "execution_count": 3,
     "metadata": {},
     "output_type": "execute_result"
    }
   ],
   "source": [
    "df.head()"
   ]
  },
  {
   "cell_type": "code",
   "execution_count": 4,
   "metadata": {
    "ExecuteTime": {
     "end_time": "2021-03-01T11:06:32.916187Z",
     "start_time": "2021-03-01T11:06:32.898236Z"
    },
    "colab": {},
    "colab_type": "code",
    "id": "JmesMGp_XLwn",
    "outputId": "80ca447c-c7c5-45a3-f283-abfece64cd79"
   },
   "outputs": [
    {
     "name": "stdout",
     "output_type": "stream",
     "text": [
      "<class 'pandas.core.frame.DataFrame'>\n",
      "RangeIndex: 32561 entries, 0 to 32560\n",
      "Data columns (total 10 columns):\n",
      " #   Column                  Non-Null Count  Dtype \n",
      "---  ------                  --------------  ----- \n",
      " 0   age                     32561 non-null  int64 \n",
      " 1   workclass               32561 non-null  object\n",
      " 2   education               32561 non-null  object\n",
      " 3   marrital status         32561 non-null  object\n",
      " 4   occupation              32561 non-null  object\n",
      " 5   sex                     32561 non-null  object\n",
      " 6   capital gain            32561 non-null  int64 \n",
      " 7   capital loss            32561 non-null  int64 \n",
      " 8   working hours per week  32561 non-null  int64 \n",
      " 9   salary                  32561 non-null  object\n",
      "dtypes: int64(4), object(6)\n",
      "memory usage: 2.5+ MB\n"
     ]
    }
   ],
   "source": [
    "df.info()"
   ]
  },
  {
   "cell_type": "markdown",
   "metadata": {
    "colab_type": "text",
    "id": "LNeNEe0rXLwy"
   },
   "source": [
    "There are no missing values. 6 variables are numeric and remaining categorical. Categorical variables are not in encoded format"
   ]
  },
  {
   "cell_type": "markdown",
   "metadata": {
    "colab_type": "text",
    "id": "YfkdoZ-hXLw2"
   },
   "source": [
    "### Check for duplicate data"
   ]
  },
  {
   "cell_type": "code",
   "execution_count": 5,
   "metadata": {
    "ExecuteTime": {
     "end_time": "2021-03-01T10:53:40.069774Z",
     "start_time": "2021-03-01T10:53:40.039857Z"
    },
    "colab": {},
    "colab_type": "code",
    "id": "WxC5ErgZXLw5",
    "outputId": "d7135a1a-80cc-4219-97c6-4627bfbb4d9d"
   },
   "outputs": [
    {
     "name": "stdout",
     "output_type": "stream",
     "text": [
      "Number of duplicate rows = 5864\n",
      "(32561, 10)\n"
     ]
    }
   ],
   "source": [
    "dups = df.duplicated()\n",
    "print('Number of duplicate rows = %d' % (dups.sum()))\n",
    "print(df.shape)"
   ]
  },
  {
   "cell_type": "markdown",
   "metadata": {
    "colab_type": "text",
    "id": "xlk2THbNXLxC"
   },
   "source": [
    "Do we need to remove the duplicate data over here? We have removed the duplicate data but when are the cases that we remove duplicate data?"
   ]
  },
  {
   "cell_type": "code",
   "execution_count": 6,
   "metadata": {
    "ExecuteTime": {
     "end_time": "2021-03-01T10:53:40.750167Z",
     "start_time": "2021-03-01T10:53:40.724206Z"
    },
    "colab": {},
    "colab_type": "code",
    "id": "BuUd7amaXLxE"
   },
   "outputs": [],
   "source": [
    "df.drop_duplicates(inplace=True) "
   ]
  },
  {
   "cell_type": "code",
   "execution_count": 7,
   "metadata": {
    "ExecuteTime": {
     "end_time": "2021-03-01T10:53:41.115629Z",
     "start_time": "2021-03-01T10:53:41.094648Z"
    },
    "colab": {},
    "colab_type": "code",
    "id": "8vBJ3HnVXLxK",
    "outputId": "b4c78f23-7380-400e-84b3-d92bbfb6676a"
   },
   "outputs": [
    {
     "name": "stdout",
     "output_type": "stream",
     "text": [
      "Number of duplicate rows = 0\n",
      "(26697, 10)\n"
     ]
    }
   ],
   "source": [
    "dups = df.duplicated()\n",
    "print('Number of duplicate rows = %d' % (dups.sum()))\n",
    "print(df.shape)"
   ]
  },
  {
   "cell_type": "markdown",
   "metadata": {
    "colab_type": "text",
    "id": "cKP7BLL9XLxU"
   },
   "source": [
    "### Geting unique counts of all Objects"
   ]
  },
  {
   "cell_type": "code",
   "execution_count": 8,
   "metadata": {
    "ExecuteTime": {
     "end_time": "2021-03-01T10:53:43.864585Z",
     "start_time": "2021-03-01T10:53:43.836658Z"
    },
    "colab": {},
    "colab_type": "code",
    "id": "yYMEWgbyXLxg",
    "outputId": "45eff666-533c-43f6-8c7e-a57450a27ef9",
    "scrolled": true
   },
   "outputs": [
    {
     "data": {
      "text/plain": [
       "age                        73\n",
       "workclass                   9\n",
       "education                  16\n",
       "marrital status             7\n",
       "occupation                 15\n",
       "sex                         2\n",
       "capital gain              119\n",
       "capital loss               92\n",
       "working hours per week     94\n",
       "salary                      2\n",
       "dtype: int64"
      ]
     },
     "execution_count": 8,
     "metadata": {},
     "output_type": "execute_result"
    }
   ],
   "source": [
    "df.nunique()"
   ]
  },
  {
   "cell_type": "code",
   "execution_count": 9,
   "metadata": {
    "scrolled": true
   },
   "outputs": [
    {
     "name": "stdout",
     "output_type": "stream",
     "text": [
      "workclass\n",
      "Private             17474\n",
      "Self-emp-not-inc     2447\n",
      "Local-gov            1980\n",
      "?                    1519\n",
      "State-gov            1246\n",
      "Self-emp-inc         1089\n",
      "Federal-gov           921\n",
      "Without-pay            14\n",
      "Never-worked            7\n",
      "Name: workclass, dtype: int64\n",
      "\n",
      "\n",
      "education\n",
      "HS-grad         7815\n",
      "Some-college    5692\n",
      "Bachelors       4461\n",
      "Masters         1606\n",
      "Assoc-voc       1281\n",
      "Assoc-acdm      1036\n",
      "11th             987\n",
      "10th             820\n",
      "7th-8th          611\n",
      "Prof-school      562\n",
      "9th              502\n",
      "Doctorate        399\n",
      "12th             397\n",
      "5th-6th          315\n",
      "1st-4th          164\n",
      "Preschool         49\n",
      "Name: education, dtype: int64\n",
      "\n",
      "\n",
      "marrital status\n",
      "Married-civ-spouse       12679\n",
      "Never-married             7698\n",
      "Divorced                  3930\n",
      "Separated                  978\n",
      "Widowed                    971\n",
      "Married-spouse-absent      418\n",
      "Married-AF-spouse           23\n",
      "Name: marrital status, dtype: int64\n",
      "\n",
      "\n",
      "occupation\n",
      "Prof-specialty       3703\n",
      "Exec-managerial      3531\n",
      "Sales                3009\n",
      "Craft-repair         2970\n",
      "Adm-clerical         2884\n",
      "Other-service        2626\n",
      "?                    1526\n",
      "Machine-op-inspct    1483\n",
      "Transport-moving     1372\n",
      "Handlers-cleaners    1033\n",
      "Farming-fishing       951\n",
      "Tech-support          841\n",
      "Protective-serv       614\n",
      "Priv-house-serv       145\n",
      "Armed-Forces            9\n",
      "Name: occupation, dtype: int64\n",
      "\n",
      "\n",
      "sex\n",
      "Male      17862\n",
      "Female     8835\n",
      "Name: sex, dtype: int64\n",
      "\n",
      "\n",
      "salary\n",
      " <=50K    19673\n",
      " >50K      7024\n",
      "Name: salary, dtype: int64\n",
      "\n",
      "\n"
     ]
    }
   ],
   "source": [
    "for feature in df.columns:\n",
    "    if df[feature].dtype=='object':\n",
    "        print(feature)\n",
    "        print(df[feature].value_counts())\n",
    "        print('\\n')"
   ]
  },
  {
   "cell_type": "code",
   "execution_count": 10,
   "metadata": {},
   "outputs": [],
   "source": [
    "# Replace ? marks\n",
    "df['workclass']=df['workclass'].str.replace('?','unk')\n",
    "df['occupation']=df['occupation'].str.replace('?','unk')"
   ]
  },
  {
   "cell_type": "code",
   "execution_count": 11,
   "metadata": {
    "ExecuteTime": {
     "end_time": "2021-03-01T10:53:51.005788Z",
     "start_time": "2021-03-01T10:53:50.980857Z"
    },
    "colab": {},
    "colab_type": "code",
    "id": "F2ioQYuFXLxy",
    "outputId": "a97ac020-8c4d-428d-8f90-82cf3711cb92"
   },
   "outputs": [
    {
     "data": {
      "text/html": [
       "<div>\n",
       "<style scoped>\n",
       "    .dataframe tbody tr th:only-of-type {\n",
       "        vertical-align: middle;\n",
       "    }\n",
       "\n",
       "    .dataframe tbody tr th {\n",
       "        vertical-align: top;\n",
       "    }\n",
       "\n",
       "    .dataframe thead th {\n",
       "        text-align: right;\n",
       "    }\n",
       "</style>\n",
       "<table border=\"1\" class=\"dataframe\">\n",
       "  <thead>\n",
       "    <tr style=\"text-align: right;\">\n",
       "      <th></th>\n",
       "      <th>age</th>\n",
       "      <th>capital gain</th>\n",
       "      <th>capital loss</th>\n",
       "      <th>working hours per week</th>\n",
       "    </tr>\n",
       "  </thead>\n",
       "  <tbody>\n",
       "    <tr>\n",
       "      <th>count</th>\n",
       "      <td>26697.000000</td>\n",
       "      <td>26697.000000</td>\n",
       "      <td>26697.000000</td>\n",
       "      <td>26697.000000</td>\n",
       "    </tr>\n",
       "    <tr>\n",
       "      <th>mean</th>\n",
       "      <td>39.987489</td>\n",
       "      <td>1304.600929</td>\n",
       "      <td>105.699330</td>\n",
       "      <td>40.852530</td>\n",
       "    </tr>\n",
       "    <tr>\n",
       "      <th>std</th>\n",
       "      <td>13.691269</td>\n",
       "      <td>8111.031099</td>\n",
       "      <td>441.214823</td>\n",
       "      <td>13.114255</td>\n",
       "    </tr>\n",
       "    <tr>\n",
       "      <th>min</th>\n",
       "      <td>17.000000</td>\n",
       "      <td>0.000000</td>\n",
       "      <td>0.000000</td>\n",
       "      <td>1.000000</td>\n",
       "    </tr>\n",
       "    <tr>\n",
       "      <th>25%</th>\n",
       "      <td>29.000000</td>\n",
       "      <td>0.000000</td>\n",
       "      <td>0.000000</td>\n",
       "      <td>38.000000</td>\n",
       "    </tr>\n",
       "    <tr>\n",
       "      <th>50%</th>\n",
       "      <td>39.000000</td>\n",
       "      <td>0.000000</td>\n",
       "      <td>0.000000</td>\n",
       "      <td>40.000000</td>\n",
       "    </tr>\n",
       "    <tr>\n",
       "      <th>75%</th>\n",
       "      <td>49.000000</td>\n",
       "      <td>0.000000</td>\n",
       "      <td>0.000000</td>\n",
       "      <td>46.000000</td>\n",
       "    </tr>\n",
       "    <tr>\n",
       "      <th>max</th>\n",
       "      <td>90.000000</td>\n",
       "      <td>99999.000000</td>\n",
       "      <td>4356.000000</td>\n",
       "      <td>99.000000</td>\n",
       "    </tr>\n",
       "  </tbody>\n",
       "</table>\n",
       "</div>"
      ],
      "text/plain": [
       "                age  capital gain  capital loss  working hours per week\n",
       "count  26697.000000  26697.000000  26697.000000            26697.000000\n",
       "mean      39.987489   1304.600929    105.699330               40.852530\n",
       "std       13.691269   8111.031099    441.214823               13.114255\n",
       "min       17.000000      0.000000      0.000000                1.000000\n",
       "25%       29.000000      0.000000      0.000000               38.000000\n",
       "50%       39.000000      0.000000      0.000000               40.000000\n",
       "75%       49.000000      0.000000      0.000000               46.000000\n",
       "max       90.000000  99999.000000   4356.000000               99.000000"
      ]
     },
     "execution_count": 11,
     "metadata": {},
     "output_type": "execute_result"
    }
   ],
   "source": [
    "df.describe()"
   ]
  },
  {
   "cell_type": "code",
   "execution_count": 12,
   "metadata": {},
   "outputs": [
    {
     "data": {
      "text/plain": [
       "0.8990148705847099"
      ]
     },
     "execution_count": 12,
     "metadata": {},
     "output_type": "execute_result"
    }
   ],
   "source": [
    "df[df['capital gain']==0].shape[0]/df.shape[0]"
   ]
  },
  {
   "cell_type": "code",
   "execution_count": 13,
   "metadata": {},
   "outputs": [
    {
     "data": {
      "text/plain": [
       "0.9435142525377384"
      ]
     },
     "execution_count": 13,
     "metadata": {},
     "output_type": "execute_result"
    }
   ],
   "source": [
    "df[df['capital loss']==0].shape[0]/df.shape[0]"
   ]
  },
  {
   "cell_type": "markdown",
   "metadata": {},
   "source": [
    "### Checking the spread of the data using boxplot for the continuous variables."
   ]
  },
  {
   "cell_type": "code",
   "execution_count": 14,
   "metadata": {
    "ExecuteTime": {
     "end_time": "2021-03-01T10:54:21.604182Z",
     "start_time": "2021-03-01T10:54:21.260073Z"
    },
    "scrolled": true
   },
   "outputs": [],
   "source": [
    "cols = ['age','capital gain','capital loss','working hours per week']\n"
   ]
  },
  {
   "cell_type": "markdown",
   "metadata": {
    "colab_type": "text",
    "id": "fb2rE0eIXLyG"
   },
   "source": [
    "### Treating the outliers.\n",
    "###### We can treat Outliers with the following code. We will treat the outliers for the 'Age' variable only."
   ]
  },
  {
   "cell_type": "code",
   "execution_count": 15,
   "metadata": {
    "ExecuteTime": {
     "end_time": "2021-03-01T10:54:36.180283Z",
     "start_time": "2021-03-01T10:54:36.176300Z"
    },
    "colab": {},
    "colab_type": "code",
    "id": "odGowVoMXLyI"
   },
   "outputs": [],
   "source": [
    "def remove_outlier(col):\n",
    "    sorted(col)\n",
    "    Q1,Q3=np.percentile(col,[25,75])\n",
    "    IQR=Q3-Q1\n",
    "    lower_range= Q1-(1.5 * IQR)\n",
    "    upper_range= Q3+(1.5 * IQR)\n",
    "    return lower_range, upper_range"
   ]
  },
  {
   "cell_type": "code",
   "execution_count": 16,
   "metadata": {
    "ExecuteTime": {
     "end_time": "2021-03-01T10:55:01.482785Z",
     "start_time": "2021-03-01T10:55:01.469784Z"
    }
   },
   "outputs": [],
   "source": [
    "for column in df.columns:\n",
    "    if df[column].dtype != 'object': \n",
    "        lr,ur=remove_outlier(df[column])\n",
    "        df[column]=np.where(df[column]>ur,ur,df[column])\n",
    "        df[column]=np.where(df[column]<lr,lr,df[column])"
   ]
  },
  {
   "cell_type": "code",
   "execution_count": 17,
   "metadata": {},
   "outputs": [
    {
     "data": {
      "text/plain": [
       "<AxesSubplot:xlabel='capital gain'>"
      ]
     },
     "execution_count": 17,
     "metadata": {},
     "output_type": "execute_result"
    },
    {
     "data": {
      "image/png": "[encoded data removed]",
      "text/plain": [
       "<Figure size 432x288 with 1 Axes>"
      ]
     },
     "metadata": {
      "needs_background": "light"
     },
     "output_type": "display_data"
    }
   ],
   "source": [
    "sns.boxplot(df['capital gain'])"
   ]
  },
  {
   "cell_type": "code",
   "execution_count": 18,
   "metadata": {
    "ExecuteTime": {
     "end_time": "2021-03-01T10:55:04.758990Z",
     "start_time": "2021-03-01T10:55:04.754963Z"
    },
    "colab": {},
    "colab_type": "code",
    "id": "AnOIHhwBXLyQ"
   },
   "outputs": [],
   "source": [
    "## This is a loop to treat outliers for all the non-'object' type varible\n",
    "\n",
    "# for column in df.columns:\n",
    "#     if df[column].dtype != 'object': \n",
    "#         lr,ur=remove_outlier(df[column])\n",
    "#         df[column]=np.where(df[column]>ur,ur,df[column])\n",
    "#         df[column]=np.where(df[column]<lr,lr,df[column])"
   ]
  },
  {
   "cell_type": "code",
   "execution_count": null,
   "metadata": {},
   "outputs": [],
   "source": []
  },
  {
   "cell_type": "code",
   "execution_count": 19,
   "metadata": {
    "ExecuteTime": {
     "end_time": "2021-03-01T10:55:23.930447Z",
     "start_time": "2021-03-01T10:55:23.590364Z"
    },
    "colab": {},
    "colab_type": "code",
    "id": "OO-uzF31XLyX",
    "outputId": "52ed18f9-f359-4868-dcf4-fd6f6b665dd4",
    "scrolled": true
   },
   "outputs": [],
   "source": [
    "cols = ['age','capital gain','capital loss','working hours per week']\n",
    "\n"
   ]
  },
  {
   "cell_type": "markdown",
   "metadata": {
    "colab_type": "text",
    "id": "FvaVP9G5XLyd"
   },
   "source": [
    "### Checking for Correlations."
   ]
  },
  {
   "cell_type": "code",
   "execution_count": 20,
   "metadata": {
    "ExecuteTime": {
     "end_time": "2021-03-01T10:55:27.657121Z",
     "start_time": "2021-03-01T10:55:27.634184Z"
    }
   },
   "outputs": [
    {
     "data": {
      "text/html": [
       "<div>\n",
       "<style scoped>\n",
       "    .dataframe tbody tr th:only-of-type {\n",
       "        vertical-align: middle;\n",
       "    }\n",
       "\n",
       "    .dataframe tbody tr th {\n",
       "        vertical-align: top;\n",
       "    }\n",
       "\n",
       "    .dataframe thead th {\n",
       "        text-align: right;\n",
       "    }\n",
       "</style>\n",
       "<table border=\"1\" class=\"dataframe\">\n",
       "  <thead>\n",
       "    <tr style=\"text-align: right;\">\n",
       "      <th></th>\n",
       "      <th>age</th>\n",
       "      <th>capital gain</th>\n",
       "      <th>capital loss</th>\n",
       "      <th>working hours per week</th>\n",
       "    </tr>\n",
       "  </thead>\n",
       "  <tbody>\n",
       "    <tr>\n",
       "      <th>age</th>\n",
       "      <td>1.000000</td>\n",
       "      <td>NaN</td>\n",
       "      <td>NaN</td>\n",
       "      <td>0.038187</td>\n",
       "    </tr>\n",
       "    <tr>\n",
       "      <th>capital gain</th>\n",
       "      <td>NaN</td>\n",
       "      <td>NaN</td>\n",
       "      <td>NaN</td>\n",
       "      <td>NaN</td>\n",
       "    </tr>\n",
       "    <tr>\n",
       "      <th>capital loss</th>\n",
       "      <td>NaN</td>\n",
       "      <td>NaN</td>\n",
       "      <td>NaN</td>\n",
       "      <td>NaN</td>\n",
       "    </tr>\n",
       "    <tr>\n",
       "      <th>working hours per week</th>\n",
       "      <td>0.038187</td>\n",
       "      <td>NaN</td>\n",
       "      <td>NaN</td>\n",
       "      <td>1.000000</td>\n",
       "    </tr>\n",
       "  </tbody>\n",
       "</table>\n",
       "</div>"
      ],
      "text/plain": [
       "                             age  capital gain  capital loss  \\\n",
       "age                     1.000000           NaN           NaN   \n",
       "capital gain                 NaN           NaN           NaN   \n",
       "capital loss                 NaN           NaN           NaN   \n",
       "working hours per week  0.038187           NaN           NaN   \n",
       "\n",
       "                        working hours per week  \n",
       "age                                   0.038187  \n",
       "capital gain                               NaN  \n",
       "capital loss                               NaN  \n",
       "working hours per week                1.000000  "
      ]
     },
     "execution_count": 20,
     "metadata": {},
     "output_type": "execute_result"
    }
   ],
   "source": [
    "correlation=df.corr()\n",
    "correlation"
   ]
  },
  {
   "cell_type": "code",
   "execution_count": 21,
   "metadata": {
    "ExecuteTime": {
     "end_time": "2021-03-01T10:55:30.778498Z",
     "start_time": "2021-03-01T10:55:30.596953Z"
    },
    "colab": {},
    "colab_type": "code",
    "id": "HzprqG5cXLyf",
    "outputId": "19dcb17e-c771-48be-a2fb-2caa9c8a7b73"
   },
   "outputs": [
    {
     "data": {
      "text/plain": [
       "<AxesSubplot:>"
      ]
     },
     "execution_count": 21,
     "metadata": {},
     "output_type": "execute_result"
    },
    {
     "data": {
      "image/png": "[encoded data removed]",
      "text/plain": [
       "<Figure size 432x288 with 2 Axes>"
      ]
     },
     "metadata": {
      "needs_background": "light"
     },
     "output_type": "display_data"
    }
   ],
   "source": [
    "sns.heatmap(correlation,annot=True)"
   ]
  },
  {
   "cell_type": "code",
   "execution_count": null,
   "metadata": {
    "ExecuteTime": {
     "end_time": "2021-03-01T10:55:37.584372Z",
     "start_time": "2021-03-01T10:55:37.564426Z"
    },
    "colab": {},
    "colab_type": "code",
    "id": "uTG0TH0uXLyo",
    "outputId": "4505879f-e181-4a90-c9f1-519682a2e25f"
   },
   "outputs": [],
   "source": []
  },
  {
   "cell_type": "markdown",
   "metadata": {
    "colab_type": "text",
    "id": "F1G2UbKcXLzB"
   },
   "source": [
    "There is hardly any correlation between the numeric variables"
   ]
  },
  {
   "cell_type": "code",
   "execution_count": 22,
   "metadata": {
    "ExecuteTime": {
     "end_time": "2021-03-01T10:56:07.438700Z",
     "start_time": "2021-03-01T10:55:48.935353Z"
    },
    "colab": {},
    "colab_type": "code",
    "id": "oAyLXiE0XLzD",
    "outputId": "762e5713-3df5-4331-c69d-dd9b146681e4"
   },
   "outputs": [
    {
     "data": {
      "text/plain": [
       "<seaborn.axisgrid.PairGrid at 0x216efe59df0>"
      ]
     },
     "execution_count": 22,
     "metadata": {},
     "output_type": "execute_result"
    },
    {
     "data": {
      "image/png": "[encoded data removed]",
      "text/plain": [
       "<Figure size 795x720 with 20 Axes>"
      ]
     },
     "metadata": {
      "needs_background": "light"
     },
     "output_type": "display_data"
    }
   ],
   "source": [
    "# Pairplot using sns\n",
    "sns.pairplot(df,diag_kind='kde',hue='salary')"
   ]
  },
  {
   "cell_type": "markdown",
   "metadata": {
    "colab_type": "text",
    "id": "4ITcSUaMXLzJ"
   },
   "source": [
    "### Converting all objects to categorical codes"
   ]
  },
  {
   "cell_type": "code",
   "execution_count": 23,
   "metadata": {
    "ExecuteTime": {
     "end_time": "2021-03-01T10:56:42.612437Z",
     "start_time": "2021-03-01T10:56:42.317584Z"
    },
    "colab": {},
    "colab_type": "code",
    "id": "x9zRoMpOXLzM",
    "outputId": "1535b154-cb99-4378-baad-0fe5eff3f317"
   },
   "outputs": [],
   "source": [
    "## We are coding up the 'education' variable in an ordinal manner\n",
    "\n",
    "df['education']=np.where(df['education'] =='Preschool', '1', df['education'])\n",
    "df['education']=np.where(df['education'] =='1st-4th', '2', df['education'])\n",
    "df['education']=np.where(df['education'] =='5th-6th', '3', df['education'])\n",
    "df['education']=np.where(df['education'] =='7th-8th', '4', df['education'])\n",
    "df['education']=np.where(df['education'] =='9th', '5', df['education'])\n",
    "df['education']=np.where(df['education'] =='10th', '6', df['education'])\n",
    "df['education']=np.where(df['education'] =='11th', '7', df['education'])\n",
    "df['education']=np.where(df['education'] =='12th', '8', df['education'])\n",
    "df['education']=np.where(df['education'] =='HS-grad', '9', df['education'])\n",
    "df['education']=np.where(df['education'] =='Prof-school', '9', df['education'])\n",
    "df['education']=np.where(df['education'] =='Assoc-acdm', '10', df['education'])\n",
    "df['education']=np.where(df['education'] =='Assoc-voc', '11', df['education'])\n",
    "df['education']=np.where(df['education'] =='Some-college', '12', df['education'])\n",
    "df['education']=np.where(df['education'] =='Bachelors', '13', df['education'])\n",
    "df['education']=np.where(df['education'] =='Masters', '14', df['education'])\n",
    "df['education']=np.where(df['education'] =='Doctorate', '15', df['education'])"
   ]
  },
  {
   "cell_type": "code",
   "execution_count": 24,
   "metadata": {
    "ExecuteTime": {
     "end_time": "2021-03-01T10:56:49.301562Z",
     "start_time": "2021-03-01T10:56:49.277593Z"
    }
   },
   "outputs": [],
   "source": [
    "## We are grouping certain types of 'workclass' under different categories\n",
    "\n",
    "df['workclass']=np.where(df['workclass'] =='Federal-gov', 'Government', df['workclass'])\n",
    "df['workclass']=np.where(df['workclass'] =='Local-gov', 'Government', df['workclass'])\n",
    "df['workclass']=np.where(df['workclass'] =='State-gov', 'Government', df['workclass'])\n",
    "\n",
    "df['workclass']=np.where(df['workclass'] =='Self-emp-inc', 'Others', df['workclass'])\n",
    "df['workclass']=np.where(df['workclass'] =='Self-emp-not-inc', 'Others', df['workclass'])\n",
    "df['workclass']=np.where(df['workclass'] =='unknown', 'Others', df['workclass'])\n",
    "df['workclass']=np.where(df['workclass'] =='Without-pay', 'Others', df['workclass'])\n",
    "df['workclass']=np.where(df['workclass'] =='Never-worked', 'Others', df['workclass'])"
   ]
  },
  {
   "cell_type": "code",
   "execution_count": 25,
   "metadata": {
    "ExecuteTime": {
     "end_time": "2021-03-01T10:57:46.940822Z",
     "start_time": "2021-03-01T10:57:46.912898Z"
    }
   },
   "outputs": [],
   "source": [
    "## We are grouping certain types of 'marritalstatus' under different categories\n",
    "\n",
    "df['marrital status']=np.where(df['marrital status'] =='Divorced', 'CurrentlySingle', df['marrital status'])\n",
    "df['marrital status']=np.where(df['marrital status'] =='Separated', 'CurrentlySingle', df['marrital status'])\n",
    "df['marrital status']=np.where(df['marrital status'] =='Never-married', 'CurrentlySingle', df['marrital status'])\n",
    "df['marrital status']=np.where(df['marrital status'] =='Widowed', 'CurrentlySingle', df['marrital status'])\n",
    "\n",
    "df['marrital status']=np.where(df['marrital status'] =='Married-civ-spouse', 'Married', df['marrital status'])\n",
    "df['marrital status']=np.where(df['marrital status'] =='Married-spouse-absent', 'Married', df['marrital status'])\n",
    "df['marrital status']=np.where(df['marrital status'] =='Married-AF-absent', 'Married', df['marrital status'])\n",
    "df['marrital status']=np.where(df['marrital status'] =='Married-AF-spouse', 'Married', df['marrital status'])"
   ]
  },
  {
   "cell_type": "code",
   "execution_count": 26,
   "metadata": {
    "ExecuteTime": {
     "end_time": "2021-03-01T10:57:58.628953Z",
     "start_time": "2021-03-01T10:57:58.551024Z"
    }
   },
   "outputs": [],
   "source": [
    "## We are grouping certain types of 'occupation' under different categories\n",
    "df['occupation']=np.where(df['occupation'] =='Adm-clerical', 'WhiteCollar', df['occupation'])\n",
    "df['occupation']=np.where(df['occupation'] =='Exec-managerial', 'WhiteCollar', df['occupation'])\n",
    "\n",
    "df['occupation']=np.where(df['occupation'] =='Craft-repair', 'BlueCollar', df['occupation'])\n",
    "df['occupation']=np.where(df['occupation'] =='Handlers-cleaners', 'BlueCollar', df['occupation'])\n",
    "df['occupation']=np.where(df['occupation'] =='Transport-moving', 'BlueCollar', df['occupation'])\n",
    "df['occupation']=np.where(df['occupation'] =='Farming-fishing', 'BlueCollar', df['occupation'])\n",
    "df['occupation']=np.where(df['occupation'] =='Machine-op-inspct', 'BlueCollar', df['occupation'])\n",
    "\n",
    "df['occupation']=np.where(df['occupation'] =='Tech-support', 'Service', df['occupation'])\n",
    "df['occupation']=np.where(df['occupation'] =='Other-service', 'Service', df['occupation'])\n",
    "df['occupation']=np.where(df['occupation'] =='Protective-serv', 'Service', df['occupation'])\n",
    "df['occupation']=np.where(df['occupation'] =='Priv-house-serv', 'Service', df['occupation'])\n",
    "df['occupation']=np.where(df['occupation'] =='Prof-specialty', 'Service', df['occupation'])\n",
    "\n",
    "df['occupation']=np.where(df['occupation'] =='unk', 'Unknown_Others', df['occupation'])\n",
    "df['occupation']=np.where(df['occupation'] =='Armed-Forces', 'Unknown_Others', df['occupation'])\n"
   ]
  },
  {
   "cell_type": "code",
   "execution_count": 27,
   "metadata": {},
   "outputs": [],
   "source": [
    "df.drop(['capital gain','capital loss'],axis=1,inplace=True)"
   ]
  },
  {
   "cell_type": "code",
   "execution_count": 28,
   "metadata": {},
   "outputs": [
    {
     "data": {
      "text/html": [
       "<div>\n",
       "<style scoped>\n",
       "    .dataframe tbody tr th:only-of-type {\n",
       "        vertical-align: middle;\n",
       "    }\n",
       "\n",
       "    .dataframe tbody tr th {\n",
       "        vertical-align: top;\n",
       "    }\n",
       "\n",
       "    .dataframe thead th {\n",
       "        text-align: right;\n",
       "    }\n",
       "</style>\n",
       "<table border=\"1\" class=\"dataframe\">\n",
       "  <thead>\n",
       "    <tr style=\"text-align: right;\">\n",
       "      <th></th>\n",
       "      <th>age</th>\n",
       "      <th>workclass</th>\n",
       "      <th>education</th>\n",
       "      <th>marrital status</th>\n",
       "      <th>occupation</th>\n",
       "      <th>sex</th>\n",
       "      <th>working hours per week</th>\n",
       "      <th>salary</th>\n",
       "    </tr>\n",
       "  </thead>\n",
       "  <tbody>\n",
       "    <tr>\n",
       "      <th>0</th>\n",
       "      <td>39.0</td>\n",
       "      <td>Government</td>\n",
       "      <td>13</td>\n",
       "      <td>CurrentlySingle</td>\n",
       "      <td>WhiteCollar</td>\n",
       "      <td>Male</td>\n",
       "      <td>40.0</td>\n",
       "      <td>&lt;=50K</td>\n",
       "    </tr>\n",
       "  </tbody>\n",
       "</table>\n",
       "</div>"
      ],
      "text/plain": [
       "    age   workclass education  marrital status   occupation   sex  \\\n",
       "0  39.0  Government        13  CurrentlySingle  WhiteCollar  Male   \n",
       "\n",
       "   working hours per week  salary  \n",
       "0                    40.0   <=50K  "
      ]
     },
     "execution_count": 28,
     "metadata": {},
     "output_type": "execute_result"
    }
   ],
   "source": [
    "df.head(1)"
   ]
  },
  {
   "cell_type": "code",
   "execution_count": 29,
   "metadata": {},
   "outputs": [
    {
     "name": "stdout",
     "output_type": "stream",
     "text": [
      "<class 'pandas.core.frame.DataFrame'>\n",
      "Int64Index: 26697 entries, 0 to 32560\n",
      "Data columns (total 8 columns):\n",
      " #   Column                  Non-Null Count  Dtype  \n",
      "---  ------                  --------------  -----  \n",
      " 0   age                     26697 non-null  float64\n",
      " 1   workclass               26697 non-null  object \n",
      " 2   education               26697 non-null  object \n",
      " 3   marrital status         26697 non-null  object \n",
      " 4   occupation              26697 non-null  object \n",
      " 5   sex                     26697 non-null  object \n",
      " 6   working hours per week  26697 non-null  float64\n",
      " 7   salary                  26697 non-null  object \n",
      "dtypes: float64(2), object(6)\n",
      "memory usage: 1.8+ MB\n"
     ]
    }
   ],
   "source": [
    "df.info()"
   ]
  },
  {
   "cell_type": "code",
   "execution_count": 30,
   "metadata": {
    "ExecuteTime": {
     "end_time": "2021-03-01T10:58:55.408427Z",
     "start_time": "2021-03-01T10:58:55.386487Z"
    }
   },
   "outputs": [],
   "source": [
    "## Converting the education variable to numeric\n",
    "\n",
    "df['education']=df['education'].astype(int)"
   ]
  },
  {
   "cell_type": "code",
   "execution_count": 31,
   "metadata": {
    "ExecuteTime": {
     "end_time": "2021-03-01T10:59:35.110770Z",
     "start_time": "2021-03-01T10:59:35.106743Z"
    }
   },
   "outputs": [],
   "source": [
    "## Converting the 'salary' Variable into numeric by using the LabelEncoder functionality inside sklearn.\n",
    "from sklearn.preprocessing import LabelEncoder\n",
    "\n",
    "## Defining a Label Encoder object instance\n",
    "LE=LabelEncoder()"
   ]
  },
  {
   "cell_type": "code",
   "execution_count": 32,
   "metadata": {
    "ExecuteTime": {
     "end_time": "2021-03-01T10:59:46.994953Z",
     "start_time": "2021-03-01T10:59:46.973016Z"
    }
   },
   "outputs": [
    {
     "data": {
      "text/html": [
       "<div>\n",
       "<style scoped>\n",
       "    .dataframe tbody tr th:only-of-type {\n",
       "        vertical-align: middle;\n",
       "    }\n",
       "\n",
       "    .dataframe tbody tr th {\n",
       "        vertical-align: top;\n",
       "    }\n",
       "\n",
       "    .dataframe thead th {\n",
       "        text-align: right;\n",
       "    }\n",
       "</style>\n",
       "<table border=\"1\" class=\"dataframe\">\n",
       "  <thead>\n",
       "    <tr style=\"text-align: right;\">\n",
       "      <th></th>\n",
       "      <th>age</th>\n",
       "      <th>workclass</th>\n",
       "      <th>education</th>\n",
       "      <th>marrital status</th>\n",
       "      <th>occupation</th>\n",
       "      <th>sex</th>\n",
       "      <th>working hours per week</th>\n",
       "      <th>salary</th>\n",
       "    </tr>\n",
       "  </thead>\n",
       "  <tbody>\n",
       "    <tr>\n",
       "      <th>0</th>\n",
       "      <td>39.0</td>\n",
       "      <td>Government</td>\n",
       "      <td>13</td>\n",
       "      <td>CurrentlySingle</td>\n",
       "      <td>WhiteCollar</td>\n",
       "      <td>Male</td>\n",
       "      <td>40.0</td>\n",
       "      <td>0</td>\n",
       "    </tr>\n",
       "    <tr>\n",
       "      <th>1</th>\n",
       "      <td>50.0</td>\n",
       "      <td>Others</td>\n",
       "      <td>13</td>\n",
       "      <td>Married</td>\n",
       "      <td>WhiteCollar</td>\n",
       "      <td>Male</td>\n",
       "      <td>26.0</td>\n",
       "      <td>0</td>\n",
       "    </tr>\n",
       "    <tr>\n",
       "      <th>2</th>\n",
       "      <td>38.0</td>\n",
       "      <td>Private</td>\n",
       "      <td>9</td>\n",
       "      <td>CurrentlySingle</td>\n",
       "      <td>BlueCollar</td>\n",
       "      <td>Male</td>\n",
       "      <td>40.0</td>\n",
       "      <td>0</td>\n",
       "    </tr>\n",
       "    <tr>\n",
       "      <th>3</th>\n",
       "      <td>53.0</td>\n",
       "      <td>Private</td>\n",
       "      <td>7</td>\n",
       "      <td>Married</td>\n",
       "      <td>BlueCollar</td>\n",
       "      <td>Male</td>\n",
       "      <td>40.0</td>\n",
       "      <td>0</td>\n",
       "    </tr>\n",
       "    <tr>\n",
       "      <th>4</th>\n",
       "      <td>28.0</td>\n",
       "      <td>Private</td>\n",
       "      <td>13</td>\n",
       "      <td>Married</td>\n",
       "      <td>Service</td>\n",
       "      <td>Female</td>\n",
       "      <td>40.0</td>\n",
       "      <td>0</td>\n",
       "    </tr>\n",
       "  </tbody>\n",
       "</table>\n",
       "</div>"
      ],
      "text/plain": [
       "    age   workclass  education  marrital status   occupation     sex  \\\n",
       "0  39.0  Government         13  CurrentlySingle  WhiteCollar    Male   \n",
       "1  50.0      Others         13          Married  WhiteCollar    Male   \n",
       "2  38.0     Private          9  CurrentlySingle   BlueCollar    Male   \n",
       "3  53.0     Private          7          Married   BlueCollar    Male   \n",
       "4  28.0     Private         13          Married      Service  Female   \n",
       "\n",
       "   working hours per week  salary  \n",
       "0                    40.0       0  \n",
       "1                    26.0       0  \n",
       "2                    40.0       0  \n",
       "3                    40.0       0  \n",
       "4                    40.0       0  "
      ]
     },
     "execution_count": 32,
     "metadata": {},
     "output_type": "execute_result"
    }
   ],
   "source": [
    "## Applying the created Label Encoder object for the target class\n",
    "## Assigning the 0 to <=50k and 1 to >50k\n",
    "\n",
    "df['salary']=LE.fit_transform(df['salary'])\n",
    "df.head()"
   ]
  },
  {
   "cell_type": "code",
   "execution_count": 33,
   "metadata": {},
   "outputs": [
    {
     "data": {
      "text/plain": [
       "0    19673\n",
       "1     7024\n",
       "Name: salary, dtype: int64"
      ]
     },
     "execution_count": 33,
     "metadata": {},
     "output_type": "execute_result"
    }
   ],
   "source": [
    "df['salary'].value_counts()"
   ]
  },
  {
   "cell_type": "code",
   "execution_count": 34,
   "metadata": {},
   "outputs": [
    {
     "data": {
      "text/plain": [
       "0    0.736899\n",
       "1    0.263101\n",
       "Name: salary, dtype: float64"
      ]
     },
     "execution_count": 34,
     "metadata": {},
     "output_type": "execute_result"
    }
   ],
   "source": [
    "# There is a class imbalance problem\n",
    "df['salary'].value_counts(normalize=True)"
   ]
  },
  {
   "cell_type": "code",
   "execution_count": 35,
   "metadata": {
    "ExecuteTime": {
     "end_time": "2021-03-01T11:00:13.775139Z",
     "start_time": "2021-03-01T11:00:13.695323Z"
    }
   },
   "outputs": [
    {
     "data": {
      "text/html": [
       "<div>\n",
       "<style scoped>\n",
       "    .dataframe tbody tr th:only-of-type {\n",
       "        vertical-align: middle;\n",
       "    }\n",
       "\n",
       "    .dataframe tbody tr th {\n",
       "        vertical-align: top;\n",
       "    }\n",
       "\n",
       "    .dataframe thead th {\n",
       "        text-align: right;\n",
       "    }\n",
       "</style>\n",
       "<table border=\"1\" class=\"dataframe\">\n",
       "  <thead>\n",
       "    <tr style=\"text-align: right;\">\n",
       "      <th></th>\n",
       "      <th>age</th>\n",
       "      <th>education</th>\n",
       "      <th>working hours per week</th>\n",
       "      <th>salary</th>\n",
       "      <th>workclass_Others</th>\n",
       "      <th>workclass_Private</th>\n",
       "      <th>workclass_unk</th>\n",
       "      <th>marrital status_Married</th>\n",
       "      <th>occupation_Sales</th>\n",
       "      <th>occupation_Service</th>\n",
       "      <th>occupation_Unknown_Others</th>\n",
       "      <th>occupation_WhiteCollar</th>\n",
       "      <th>sex_Male</th>\n",
       "    </tr>\n",
       "  </thead>\n",
       "  <tbody>\n",
       "    <tr>\n",
       "      <th>0</th>\n",
       "      <td>39.0</td>\n",
       "      <td>13</td>\n",
       "      <td>40.0</td>\n",
       "      <td>0</td>\n",
       "      <td>0</td>\n",
       "      <td>0</td>\n",
       "      <td>0</td>\n",
       "      <td>0</td>\n",
       "      <td>0</td>\n",
       "      <td>0</td>\n",
       "      <td>0</td>\n",
       "      <td>1</td>\n",
       "      <td>1</td>\n",
       "    </tr>\n",
       "    <tr>\n",
       "      <th>1</th>\n",
       "      <td>50.0</td>\n",
       "      <td>13</td>\n",
       "      <td>26.0</td>\n",
       "      <td>0</td>\n",
       "      <td>1</td>\n",
       "      <td>0</td>\n",
       "      <td>0</td>\n",
       "      <td>1</td>\n",
       "      <td>0</td>\n",
       "      <td>0</td>\n",
       "      <td>0</td>\n",
       "      <td>1</td>\n",
       "      <td>1</td>\n",
       "    </tr>\n",
       "    <tr>\n",
       "      <th>2</th>\n",
       "      <td>38.0</td>\n",
       "      <td>9</td>\n",
       "      <td>40.0</td>\n",
       "      <td>0</td>\n",
       "      <td>0</td>\n",
       "      <td>1</td>\n",
       "      <td>0</td>\n",
       "      <td>0</td>\n",
       "      <td>0</td>\n",
       "      <td>0</td>\n",
       "      <td>0</td>\n",
       "      <td>0</td>\n",
       "      <td>1</td>\n",
       "    </tr>\n",
       "    <tr>\n",
       "      <th>3</th>\n",
       "      <td>53.0</td>\n",
       "      <td>7</td>\n",
       "      <td>40.0</td>\n",
       "      <td>0</td>\n",
       "      <td>0</td>\n",
       "      <td>1</td>\n",
       "      <td>0</td>\n",
       "      <td>1</td>\n",
       "      <td>0</td>\n",
       "      <td>0</td>\n",
       "      <td>0</td>\n",
       "      <td>0</td>\n",
       "      <td>1</td>\n",
       "    </tr>\n",
       "    <tr>\n",
       "      <th>4</th>\n",
       "      <td>28.0</td>\n",
       "      <td>13</td>\n",
       "      <td>40.0</td>\n",
       "      <td>0</td>\n",
       "      <td>0</td>\n",
       "      <td>1</td>\n",
       "      <td>0</td>\n",
       "      <td>1</td>\n",
       "      <td>0</td>\n",
       "      <td>1</td>\n",
       "      <td>0</td>\n",
       "      <td>0</td>\n",
       "      <td>0</td>\n",
       "    </tr>\n",
       "  </tbody>\n",
       "</table>\n",
       "</div>"
      ],
      "text/plain": [
       "    age  education  working hours per week  salary  workclass_Others  \\\n",
       "0  39.0         13                    40.0       0                 0   \n",
       "1  50.0         13                    26.0       0                 1   \n",
       "2  38.0          9                    40.0       0                 0   \n",
       "3  53.0          7                    40.0       0                 0   \n",
       "4  28.0         13                    40.0       0                 0   \n",
       "\n",
       "   workclass_Private  workclass_unk  marrital status_Married  \\\n",
       "0                  0              0                        0   \n",
       "1                  0              0                        1   \n",
       "2                  1              0                        0   \n",
       "3                  1              0                        1   \n",
       "4                  1              0                        1   \n",
       "\n",
       "   occupation_Sales  occupation_Service  occupation_Unknown_Others  \\\n",
       "0                 0                   0                          0   \n",
       "1                 0                   0                          0   \n",
       "2                 0                   0                          0   \n",
       "3                 0                   0                          0   \n",
       "4                 0                   1                          0   \n",
       "\n",
       "   occupation_WhiteCollar  sex_Male  \n",
       "0                       1         1  \n",
       "1                       1         1  \n",
       "2                       0         1  \n",
       "3                       0         1  \n",
       "4                       0         0  "
      ]
     },
     "execution_count": 35,
     "metadata": {},
     "output_type": "execute_result"
    }
   ],
   "source": [
    "## Converting the other 'object' type variables as dummy variables\n",
    "\n",
    "df_dummy=pd.get_dummies(df,drop_first=True)\n",
    "df_dummy.head()"
   ]
  },
  {
   "cell_type": "markdown",
   "metadata": {
    "colab_type": "text",
    "id": "oKl09itOXLza"
   },
   "source": [
    "### Train Test Split"
   ]
  },
  {
   "cell_type": "code",
   "execution_count": 36,
   "metadata": {
    "ExecuteTime": {
     "end_time": "2021-03-01T11:00:26.487935Z",
     "start_time": "2021-03-01T11:00:26.481951Z"
    },
    "colab": {},
    "colab_type": "code",
    "id": "YNt9nBqhXLzc"
   },
   "outputs": [],
   "source": [
    "# Copy all the predictor variables into X dataframe\n",
    "x=df_dummy.drop('salary',axis=1)\n",
    "\n",
    "# Copy target into the y dataframe. \n",
    "y=df_dummy['salary']"
   ]
  },
  {
   "cell_type": "code",
   "execution_count": 37,
   "metadata": {},
   "outputs": [
    {
     "data": {
      "text/plain": [
       "0    0\n",
       "1    0\n",
       "2    0\n",
       "3    0\n",
       "4    0\n",
       "Name: salary, dtype: int32"
      ]
     },
     "execution_count": 37,
     "metadata": {},
     "output_type": "execute_result"
    }
   ],
   "source": [
    "y.head()"
   ]
  },
  {
   "cell_type": "code",
   "execution_count": 38,
   "metadata": {
    "ExecuteTime": {
     "end_time": "2021-03-01T11:00:34.698819Z",
     "start_time": "2021-03-01T11:00:34.436396Z"
    },
    "colab": {},
    "colab_type": "code",
    "id": "wSJ43-pXXLzk"
   },
   "outputs": [],
   "source": [
    "# Split X and y into training and test set in 70:30 ratio\n",
    "x_train,x_test,y_train,y_test=train_test_split(x,y,test_size=0.30,random_state=1,stratify=y)\n"
   ]
  },
  {
   "cell_type": "code",
   "execution_count": 39,
   "metadata": {},
   "outputs": [
    {
     "data": {
      "text/plain": [
       "0    0.736876\n",
       "1    0.263124\n",
       "Name: salary, dtype: float64"
      ]
     },
     "execution_count": 39,
     "metadata": {},
     "output_type": "execute_result"
    }
   ],
   "source": [
    "y_train.value_counts(normalize=True)"
   ]
  },
  {
   "cell_type": "code",
   "execution_count": 40,
   "metadata": {},
   "outputs": [
    {
     "data": {
      "text/plain": [
       "0    0.736954\n",
       "1    0.263046\n",
       "Name: salary, dtype: float64"
      ]
     },
     "execution_count": 40,
     "metadata": {},
     "output_type": "execute_result"
    }
   ],
   "source": [
    "y_test.value_counts(normalize=True)"
   ]
  },
  {
   "cell_type": "markdown",
   "metadata": {
    "colab_type": "text",
    "id": "VXQ9LBYHXLzt"
   },
   "source": [
    "### Logistic Regression Model\n",
    "\n",
    "We are making some adjustments to the parameters in the Logistic Regression Class to get a better accuracy. Details of which can be found out on the site scikit-learn mentioned below\n",
    "\n",
    "<a href='https://scikit-learn.org/stable/modules/generated/sklearn.linear_model.LogisticRegression.html'>scikit-learn</a>\n",
    "\n",
    ">Argument=solver{‘newton-cg’, ‘lbfgs’, ‘liblinear’, ‘sag’, ‘saga’}, default=’lbfgs’\n",
    "Algorithm to use in the optimization problem.\n",
    "\n",
    ">For small datasets, ‘liblinear’ is a good choice, whereas ‘sag’ and ‘saga’ are faster for large ones.\n",
    "\n",
    ">For multiclass problems, only ‘newton-cg’, ‘sag’, ‘saga’ and ‘lbfgs’ handle multinomial loss; ‘liblinear’ is limited to one-versus-rest schemes.\n",
    "\n",
    ">‘newton-cg’, ‘lbfgs’, ‘sag’ and ‘saga’ handle L2 or no penalty\n",
    "\n",
    ">‘liblinear’ and ‘saga’ also handle L1 penalty\n",
    "\n",
    ">‘saga’ also supports ‘elasticnet’ penalty\n",
    "\n",
    ">‘liblinear’ does not support setting penalty='none'\n",
    "\n",
    ">Note that ‘sag’ and ‘saga’ fast convergence is only guaranteed on features with approximately the same scale. You can preprocess the data with a scaler from sklearn.preprocessing.\n",
    "\n",
    ">New in version 0.17: Stochastic Average Gradient descent solver.\n",
    "\n",
    ">New in version 0.19: SAGA solver.\n",
    "\n",
    ">Changed in version 0.22: The default solver changed from ‘liblinear’ to ‘lbfgs’ in 0.22.\n",
    "\n",
    "<a href='https://towardsdatascience.com/dont-sweat-the-solver-stuff-aea7cddc3451'> Article on Solvers</a>\n",
    "\n"
   ]
  },
  {
   "cell_type": "code",
   "execution_count": 41,
   "metadata": {
    "ExecuteTime": {
     "end_time": "2021-03-01T11:00:52.196735Z",
     "start_time": "2021-03-01T11:00:45.683177Z"
    },
    "colab": {},
    "colab_type": "code",
    "id": "xgFtlk9xXLzv",
    "outputId": "937a40a3-20bd-4439-ae9d-d35321751c84"
   },
   "outputs": [
    {
     "name": "stderr",
     "output_type": "stream",
     "text": [
      "[Parallel(n_jobs=1)]: Using backend SequentialBackend with 1 concurrent workers.\n",
      "[Parallel(n_jobs=1)]: Done   1 out of   1 | elapsed:    0.0s finished\n"
     ]
    },
    {
     "data": {
      "text/plain": [
       "LogisticRegression(verbose=True)"
      ]
     },
     "execution_count": 41,
     "metadata": {},
     "output_type": "execute_result"
    }
   ],
   "source": [
    "# Fit the Logistic Regression model\n",
    "\n",
    "model=LogisticRegression(verbose=True)\n",
    "model.fit(x_train,y_train)"
   ]
  },
  {
   "cell_type": "markdown",
   "metadata": {
    "colab_type": "text",
    "id": "Kl-cgs-oXLz2"
   },
   "source": [
    "### Predicting on Training and Test dataset"
   ]
  },
  {
   "cell_type": "code",
   "execution_count": 42,
   "metadata": {
    "ExecuteTime": {
     "end_time": "2021-03-01T11:00:55.666820Z",
     "start_time": "2021-03-01T11:00:55.648872Z"
    },
    "colab": {},
    "colab_type": "code",
    "id": "pTV-GEDPXLz4"
   },
   "outputs": [],
   "source": [
    "ytrain_predcit=model.predict(x_train)\n",
    "ytest_predcit=model.predict(x_test)"
   ]
  },
  {
   "cell_type": "code",
   "execution_count": 43,
   "metadata": {},
   "outputs": [
    {
     "data": {
      "text/plain": [
       "array([0, 0, 0, ..., 0, 0, 0])"
      ]
     },
     "execution_count": 43,
     "metadata": {},
     "output_type": "execute_result"
    }
   ],
   "source": [
    "ytrain_predcit"
   ]
  },
  {
   "cell_type": "code",
   "execution_count": 44,
   "metadata": {},
   "outputs": [
    {
     "data": {
      "text/plain": [
       "array([0, 1, 0, ..., 0, 0, 0])"
      ]
     },
     "execution_count": 44,
     "metadata": {},
     "output_type": "execute_result"
    }
   ],
   "source": [
    "ytest_predcit"
   ]
  },
  {
   "cell_type": "markdown",
   "metadata": {
    "colab_type": "text",
    "id": "qPHLDmcvXL0A"
   },
   "source": [
    "### Getting the Predicted Classes and Probs"
   ]
  },
  {
   "cell_type": "code",
   "execution_count": 45,
   "metadata": {
    "ExecuteTime": {
     "end_time": "2021-03-01T11:00:57.068613Z",
     "start_time": "2021-03-01T11:00:56.917978Z"
    },
    "colab": {},
    "colab_type": "code",
    "id": "ClH1gIilXL0C",
    "outputId": "fe169bf0-67c7-466e-ea4e-fffdd71b83aa"
   },
   "outputs": [],
   "source": [
    "ytrain_predcit_prob=model.predict_proba(x_train)\n",
    "ytest_predcit_prob=model.predict_proba(x_test)"
   ]
  },
  {
   "cell_type": "code",
   "execution_count": 46,
   "metadata": {},
   "outputs": [
    {
     "data": {
      "text/html": [
       "<div>\n",
       "<style scoped>\n",
       "    .dataframe tbody tr th:only-of-type {\n",
       "        vertical-align: middle;\n",
       "    }\n",
       "\n",
       "    .dataframe tbody tr th {\n",
       "        vertical-align: top;\n",
       "    }\n",
       "\n",
       "    .dataframe thead th {\n",
       "        text-align: right;\n",
       "    }\n",
       "</style>\n",
       "<table border=\"1\" class=\"dataframe\">\n",
       "  <thead>\n",
       "    <tr style=\"text-align: right;\">\n",
       "      <th></th>\n",
       "      <th>0</th>\n",
       "      <th>1</th>\n",
       "    </tr>\n",
       "  </thead>\n",
       "  <tbody>\n",
       "    <tr>\n",
       "      <th>0</th>\n",
       "      <td>0.505308</td>\n",
       "      <td>0.494692</td>\n",
       "    </tr>\n",
       "    <tr>\n",
       "      <th>1</th>\n",
       "      <td>0.286393</td>\n",
       "      <td>0.713607</td>\n",
       "    </tr>\n",
       "    <tr>\n",
       "      <th>2</th>\n",
       "      <td>0.881854</td>\n",
       "      <td>0.118146</td>\n",
       "    </tr>\n",
       "    <tr>\n",
       "      <th>3</th>\n",
       "      <td>0.899542</td>\n",
       "      <td>0.100458</td>\n",
       "    </tr>\n",
       "    <tr>\n",
       "      <th>4</th>\n",
       "      <td>0.643837</td>\n",
       "      <td>0.356163</td>\n",
       "    </tr>\n",
       "  </tbody>\n",
       "</table>\n",
       "</div>"
      ],
      "text/plain": [
       "          0         1\n",
       "0  0.505308  0.494692\n",
       "1  0.286393  0.713607\n",
       "2  0.881854  0.118146\n",
       "3  0.899542  0.100458\n",
       "4  0.643837  0.356163"
      ]
     },
     "execution_count": 46,
     "metadata": {},
     "output_type": "execute_result"
    }
   ],
   "source": [
    "pd.DataFrame(ytest_predcit_prob).head()"
   ]
  },
  {
   "cell_type": "markdown",
   "metadata": {
    "colab_type": "text",
    "id": "6fyksw9dXL0L"
   },
   "source": [
    "## Model Evaluation"
   ]
  },
  {
   "cell_type": "code",
   "execution_count": 47,
   "metadata": {
    "ExecuteTime": {
     "end_time": "2021-03-01T11:00:58.678946Z",
     "start_time": "2021-03-01T11:00:58.669938Z"
    },
    "colab": {},
    "colab_type": "code",
    "id": "JG5YkoOTXL0M",
    "outputId": "0e537710-1626-49fe-b05b-a1c35459b54b"
   },
   "outputs": [
    {
     "data": {
      "text/plain": [
       "0.7979343928934554"
      ]
     },
     "execution_count": 47,
     "metadata": {},
     "output_type": "execute_result"
    }
   ],
   "source": [
    "# Accuracy - Training Data\n",
    "model.score(x_train,y_train)"
   ]
  },
  {
   "cell_type": "code",
   "execution_count": 48,
   "metadata": {},
   "outputs": [
    {
     "data": {
      "text/plain": [
       "0.7953807740324594"
      ]
     },
     "execution_count": 48,
     "metadata": {},
     "output_type": "execute_result"
    }
   ],
   "source": [
    "# Accuracy - Test Data\n",
    "model.score(x_test,y_test)"
   ]
  },
  {
   "cell_type": "markdown",
   "metadata": {
    "colab_type": "text",
    "id": "JB0l0y12XL0S"
   },
   "source": [
    "### AUC and ROC for the training data"
   ]
  },
  {
   "cell_type": "code",
   "execution_count": 49,
   "metadata": {
    "ExecuteTime": {
     "end_time": "2021-03-01T11:01:02.028421Z",
     "start_time": "2021-03-01T11:01:01.766092Z"
    },
    "colab": {},
    "colab_type": "code",
    "id": "OWU1VW_DXL0U",
    "outputId": "8ea5e1fe-b3cc-4386-dd0d-7a3c6aa23d48"
   },
   "outputs": [
    {
     "name": "stdout",
     "output_type": "stream",
     "text": [
      "AUC_Train 0.8489136883596682\n"
     ]
    },
    {
     "data": {
      "image/png": "[encoded data removed]",
      "text/plain": [
       "<Figure size 432x288 with 1 Axes>"
      ]
     },
     "metadata": {
      "needs_background": "light"
     },
     "output_type": "display_data"
    }
   ],
   "source": [
    "# predict probabilities\n",
    "probs=model.predict_proba(x_train)\n",
    "# keep probabilities for the positive outcome only\n",
    "probs=probs[:,1]\n",
    "# calculate AUC\n",
    "auc=roc_auc_score(y_train,probs)\n",
    "print('AUC_Train {}'.format(auc))\n",
    "# calculate roc curve\n",
    "train_FPR,train_TPR,threshold=roc_curve(y_train,probs)\n",
    "plt.plot([0,1],[0,1],linestyle='--')\n",
    "# plot the roc curve for the model\n",
    "plt.plot(train_FPR,train_TPR);"
   ]
  },
  {
   "cell_type": "code",
   "execution_count": 50,
   "metadata": {
    "ExecuteTime": {
     "end_time": "2021-03-01T11:01:02.701505Z",
     "start_time": "2021-03-01T11:01:02.692498Z"
    },
    "colab": {},
    "colab_type": "code",
    "id": "weSpIESCXL0a",
    "outputId": "115b3609-d00d-488a-c00e-6bab38a59baa"
   },
   "outputs": [],
   "source": [
    "# Accuracy - Test Data\n"
   ]
  },
  {
   "cell_type": "markdown",
   "metadata": {
    "colab_type": "text",
    "id": "3fKTZGD6XL0j"
   },
   "source": [
    "### AUC and ROC for the test data"
   ]
  },
  {
   "cell_type": "code",
   "execution_count": 51,
   "metadata": {
    "ExecuteTime": {
     "end_time": "2021-03-01T11:01:04.229257Z",
     "start_time": "2021-03-01T11:01:04.096610Z"
    },
    "colab": {},
    "colab_type": "code",
    "id": "sGA-6IxaXL0m",
    "outputId": "0b884c66-7362-4694-e72b-460e55e54525"
   },
   "outputs": [
    {
     "name": "stdout",
     "output_type": "stream",
     "text": [
      "AUC_Test 0.8491494876713159\n"
     ]
    },
    {
     "data": {
      "image/png": "[encoded data removed]",
      "text/plain": [
       "<Figure size 432x288 with 1 Axes>"
      ]
     },
     "metadata": {
      "needs_background": "light"
     },
     "output_type": "display_data"
    }
   ],
   "source": [
    "# predict probabilities\n",
    "probs=model.predict_proba(x_test)\n",
    "# keep probabilities for the positive outcome only\n",
    "probs=probs[:,1]\n",
    "# calculate AUC\n",
    "auc=roc_auc_score(y_test,probs)\n",
    "print('AUC_Test {}'.format(auc))\n",
    "# calculate roc curve\n",
    "test_FPR,test_TPR,threshold=roc_curve(y_test,probs)\n",
    "plt.plot([0,1],[0,1],linestyle='--')\n",
    "# plot the roc curve for the model\n",
    "plt.plot(test_FPR,test_TPR);"
   ]
  },
  {
   "cell_type": "markdown",
   "metadata": {
    "colab_type": "text",
    "id": "h-1AWIJaXL0z"
   },
   "source": [
    "### Confusion Matrix for the training data"
   ]
  },
  {
   "cell_type": "code",
   "execution_count": 52,
   "metadata": {
    "ExecuteTime": {
     "end_time": "2021-03-01T11:01:06.103972Z",
     "start_time": "2021-03-01T11:01:06.033159Z"
    }
   },
   "outputs": [
    {
     "data": {
      "text/plain": [
       "array([[12429,  1341],\n",
       "       [ 2435,  2482]], dtype=int64)"
      ]
     },
     "execution_count": 52,
     "metadata": {},
     "output_type": "execute_result"
    }
   ],
   "source": [
    "confusion_matrix(y_train,ytrain_predcit)"
   ]
  },
  {
   "cell_type": "code",
   "execution_count": 53,
   "metadata": {
    "ExecuteTime": {
     "end_time": "2021-03-01T11:01:06.740274Z",
     "start_time": "2021-03-01T11:01:06.509884Z"
    }
   },
   "outputs": [
    {
     "data": {
      "text/plain": [
       "<AxesSubplot:>"
      ]
     },
     "execution_count": 53,
     "metadata": {},
     "output_type": "execute_result"
    },
    {
     "data": {
      "image/png": "[encoded data removed]",
      "text/plain": [
       "<Figure size 432x288 with 2 Axes>"
      ]
     },
     "metadata": {
      "needs_background": "light"
     },
     "output_type": "display_data"
    }
   ],
   "source": [
    "sns.heatmap(confusion_matrix(y_train,ytrain_predcit),annot=True,fmt='g')"
   ]
  },
  {
   "cell_type": "code",
   "execution_count": 54,
   "metadata": {
    "ExecuteTime": {
     "end_time": "2021-03-01T11:01:09.930595Z",
     "start_time": "2021-03-01T11:01:09.902671Z"
    },
    "colab": {},
    "colab_type": "code",
    "id": "0JsOdRO-XL07",
    "outputId": "d4d8637b-5649-408c-b497-57c1f0fdc91f"
   },
   "outputs": [
    {
     "data": {
      "text/plain": [
       "<sklearn.metrics._plot.confusion_matrix.ConfusionMatrixDisplay at 0x216f3e14a00>"
      ]
     },
     "execution_count": 54,
     "metadata": {},
     "output_type": "execute_result"
    },
    {
     "data": {
      "image/png": "[encoded data removed]",
      "text/plain": [
       "<Figure size 432x288 with 2 Axes>"
      ]
     },
     "metadata": {
      "needs_background": "light"
     },
     "output_type": "display_data"
    }
   ],
   "source": [
    "plot_confusion_matrix(model,x_train,y_train)"
   ]
  },
  {
   "cell_type": "code",
   "execution_count": 55,
   "metadata": {},
   "outputs": [],
   "source": [
    "Accuracy=(12429+2482)/(12429+2482+2435+1341)"
   ]
  },
  {
   "cell_type": "code",
   "execution_count": 56,
   "metadata": {},
   "outputs": [
    {
     "data": {
      "text/plain": [
       "0.7979343928934554"
      ]
     },
     "execution_count": 56,
     "metadata": {},
     "output_type": "execute_result"
    }
   ],
   "source": [
    "Accuracy"
   ]
  },
  {
   "cell_type": "code",
   "execution_count": 57,
   "metadata": {},
   "outputs": [
    {
     "data": {
      "text/plain": [
       "0.5046766978446523"
      ]
     },
     "execution_count": 57,
     "metadata": {},
     "output_type": "execute_result"
    }
   ],
   "source": [
    "sensitivity=2482/(2483+2435)\n",
    "sensitivity"
   ]
  },
  {
   "cell_type": "code",
   "execution_count": 58,
   "metadata": {},
   "outputs": [
    {
     "name": "stdout",
     "output_type": "stream",
     "text": [
      "              precision    recall  f1-score   support\n",
      "\n",
      "           0       0.84      0.90      0.87     13770\n",
      "           1       0.65      0.50      0.57      4917\n",
      "\n",
      "    accuracy                           0.80     18687\n",
      "   macro avg       0.74      0.70      0.72     18687\n",
      "weighted avg       0.79      0.80      0.79     18687\n",
      "\n"
     ]
    }
   ],
   "source": [
    "print(classification_report(y_train,ytrain_predcit))"
   ]
  },
  {
   "cell_type": "markdown",
   "metadata": {
    "colab_type": "text",
    "id": "2izdT6sxXL1C"
   },
   "source": [
    "### Confusion Matrix for test data"
   ]
  },
  {
   "cell_type": "code",
   "execution_count": 59,
   "metadata": {
    "ExecuteTime": {
     "end_time": "2021-03-01T11:01:14.388532Z",
     "start_time": "2021-03-01T11:01:14.377561Z"
    },
    "colab": {},
    "colab_type": "code",
    "id": "MYv8v5BOXL1E",
    "outputId": "f855f65a-e079-4153-daf8-bd9f9678a92c"
   },
   "outputs": [
    {
     "data": {
      "text/plain": [
       "<sklearn.metrics._plot.confusion_matrix.ConfusionMatrixDisplay at 0x216f3e0c250>"
      ]
     },
     "execution_count": 59,
     "metadata": {},
     "output_type": "execute_result"
    },
    {
     "data": {
      "image/png": "[encoded data removed]",
      "text/plain": [
       "<Figure size 432x288 with 2 Axes>"
      ]
     },
     "metadata": {
      "needs_background": "light"
     },
     "output_type": "display_data"
    }
   ],
   "source": [
    "plot_confusion_matrix(model,x_test,y_test)"
   ]
  },
  {
   "cell_type": "code",
   "execution_count": 60,
   "metadata": {
    "ExecuteTime": {
     "end_time": "2021-03-01T11:01:15.421800Z",
     "start_time": "2021-03-01T11:01:15.257206Z"
    }
   },
   "outputs": [
    {
     "name": "stdout",
     "output_type": "stream",
     "text": [
      "              precision    recall  f1-score   support\n",
      "\n",
      "           0       0.83      0.90      0.87      5903\n",
      "           1       0.65      0.49      0.56      2107\n",
      "\n",
      "    accuracy                           0.80      8010\n",
      "   macro avg       0.74      0.70      0.71      8010\n",
      "weighted avg       0.78      0.80      0.79      8010\n",
      "\n"
     ]
    }
   ],
   "source": [
    "print(classification_report(y_test,ytest_predcit))"
   ]
  },
  {
   "cell_type": "code",
   "execution_count": 61,
   "metadata": {
    "ExecuteTime": {
     "end_time": "2021-03-01T11:01:16.041381Z",
     "start_time": "2021-03-01T11:01:16.025424Z"
    },
    "colab": {},
    "colab_type": "code",
    "id": "yz9kn6OZXL1a",
    "outputId": "4c7370a2-4212-4538-b50f-ec6e43ea921d"
   },
   "outputs": [],
   "source": [
    "# class inbalance prblm=sensitivity<0.5 so we can not rely only on accuracy"
   ]
  },
  {
   "cell_type": "markdown",
   "metadata": {
    "ExecuteTime": {
     "end_time": "2020-07-30T11:43:20.425949Z",
     "start_time": "2020-07-30T11:43:20.422956Z"
    }
   },
   "source": [
    "## Applying GridSearchCV for Logistic Regression"
   ]
  },
  {
   "cell_type": "code",
   "execution_count": 66,
   "metadata": {},
   "outputs": [],
   "source": [
    "grid={'penalty':['l1','l2','elesticnet','None'],\n",
    "      'solver':['lbfgs','liblinear'],\n",
    "      'tol':[0.01,0.0001]}"
   ]
  },
  {
   "cell_type": "code",
   "execution_count": 67,
   "metadata": {},
   "outputs": [],
   "source": [
    "model=LogisticRegression(max_iter=10000)\n",
    "grid_search=GridSearchCV(estimator=model,param_grid=grid,cv=3,scoring='recall',n_jobs=-1)"
   ]
  },
  {
   "cell_type": "code",
   "execution_count": 68,
   "metadata": {},
   "outputs": [
    {
     "data": {
      "text/plain": [
       "GridSearchCV(cv=3, estimator=LogisticRegression(max_iter=10000), n_jobs=-1,\n",
       "             param_grid={'penalty': ['l1', 'l2', 'elesticnet', 'None'],\n",
       "                         'solver': ['lbfgs', 'liblinear'],\n",
       "                         'tol': [0.01, 0.0001]},\n",
       "             scoring='recall')"
      ]
     },
     "execution_count": 68,
     "metadata": {},
     "output_type": "execute_result"
    }
   ],
   "source": [
    "grid_search.fit(x_train,y_train)"
   ]
  },
  {
   "cell_type": "code",
   "execution_count": 69,
   "metadata": {},
   "outputs": [
    {
     "data": {
      "text/plain": [
       "{'penalty': 'l1', 'solver': 'liblinear', 'tol': 0.0001}"
      ]
     },
     "execution_count": 69,
     "metadata": {},
     "output_type": "execute_result"
    }
   ],
   "source": [
    "grid_search.best_params_"
   ]
  },
  {
   "cell_type": "code",
   "execution_count": 70,
   "metadata": {},
   "outputs": [],
   "source": [
    "best_model=grid_search.best_estimator_"
   ]
  },
  {
   "cell_type": "code",
   "execution_count": 71,
   "metadata": {},
   "outputs": [
    {
     "data": {
      "text/plain": [
       "0.798951142505485"
      ]
     },
     "execution_count": 71,
     "metadata": {},
     "output_type": "execute_result"
    }
   ],
   "source": [
    "best_model.score(x_train,y_train)"
   ]
  },
  {
   "cell_type": "code",
   "execution_count": 72,
   "metadata": {},
   "outputs": [
    {
     "data": {
      "text/plain": [
       "0.797378277153558"
      ]
     },
     "execution_count": 72,
     "metadata": {},
     "output_type": "execute_result"
    }
   ],
   "source": [
    "best_model.score(x_test,y_test)"
   ]
  },
  {
   "cell_type": "code",
   "execution_count": 83,
   "metadata": {},
   "outputs": [],
   "source": [
    "y_train_predict=best_model.predict(x_train)\n",
    "y_test_predict=best_model.predict(x_test)"
   ]
  },
  {
   "cell_type": "code",
   "execution_count": 84,
   "metadata": {},
   "outputs": [
    {
     "data": {
      "text/plain": [
       "<sklearn.metrics._plot.confusion_matrix.ConfusionMatrixDisplay at 0x216f5f89f10>"
      ]
     },
     "execution_count": 84,
     "metadata": {},
     "output_type": "execute_result"
    },
    {
     "data": {
      "image/png": "[encoded data removed]",
      "text/plain": [
       "<Figure size 432x288 with 2 Axes>"
      ]
     },
     "metadata": {
      "needs_background": "light"
     },
     "output_type": "display_data"
    }
   ],
   "source": [
    "plot_confusion_matrix(best_model,x_train,y_train)"
   ]
  },
  {
   "cell_type": "code",
   "execution_count": 85,
   "metadata": {},
   "outputs": [
    {
     "name": "stdout",
     "output_type": "stream",
     "text": [
      "              precision    recall  f1-score   support\n",
      "\n",
      "           0       0.84      0.90      0.87     13770\n",
      "           1       0.65      0.52      0.58      4917\n",
      "\n",
      "    accuracy                           0.80     18687\n",
      "   macro avg       0.74      0.71      0.72     18687\n",
      "weighted avg       0.79      0.80      0.79     18687\n",
      "\n"
     ]
    }
   ],
   "source": [
    "print(classification_report(y_train,y_train_predict))"
   ]
  },
  {
   "cell_type": "code",
   "execution_count": 87,
   "metadata": {},
   "outputs": [
    {
     "name": "stdout",
     "output_type": "stream",
     "text": [
      "              precision    recall  f1-score   support\n",
      "\n",
      "           0       0.84      0.90      0.87      5903\n",
      "           1       0.65      0.51      0.57      2107\n",
      "\n",
      "    accuracy                           0.80      8010\n",
      "   macro avg       0.74      0.70      0.72      8010\n",
      "weighted avg       0.79      0.80      0.79      8010\n",
      "\n"
     ]
    }
   ],
   "source": [
    "print(classification_report(y_test,y_test_predict))"
   ]
  },
  {
   "cell_type": "code",
   "execution_count": null,
   "metadata": {},
   "outputs": [],
   "source": [
    "# With grid search cv the performance increased by 2% in train and test"
   ]
  },
  {
   "cell_type": "code",
   "execution_count": 77,
   "metadata": {},
   "outputs": [],
   "source": [
    "bal_model=LogisticRegression(penalty='l1',solver='liblinear',max_iter=10000,tol=0.0001,class_weight='balanced')"
   ]
  },
  {
   "cell_type": "code",
   "execution_count": 78,
   "metadata": {},
   "outputs": [
    {
     "data": {
      "text/plain": [
       "LogisticRegression(class_weight='balanced', max_iter=10000, penalty='l1',\n",
       "                   solver='liblinear')"
      ]
     },
     "execution_count": 78,
     "metadata": {},
     "output_type": "execute_result"
    }
   ],
   "source": [
    "bal_model.fit(x_train,y_train)"
   ]
  },
  {
   "cell_type": "code",
   "execution_count": 79,
   "metadata": {},
   "outputs": [],
   "source": [
    "y_train_predict=bal_model.predict(x_train)\n",
    "y_test_predict=bal_model.predict(x_test)"
   ]
  },
  {
   "cell_type": "code",
   "execution_count": 80,
   "metadata": {},
   "outputs": [
    {
     "name": "stdout",
     "output_type": "stream",
     "text": [
      "              precision    recall  f1-score   support\n",
      "\n",
      "           0       0.91      0.75      0.82     13770\n",
      "           1       0.53      0.80      0.64      4917\n",
      "\n",
      "    accuracy                           0.76     18687\n",
      "   macro avg       0.72      0.78      0.73     18687\n",
      "weighted avg       0.81      0.76      0.78     18687\n",
      " \n",
      "\n"
     ]
    },
    {
     "data": {
      "image/png": "[encoded data removed]",
      "text/plain": [
       "<Figure size 432x288 with 2 Axes>"
      ]
     },
     "metadata": {
      "needs_background": "light"
     },
     "output_type": "display_data"
    }
   ],
   "source": [
    "plot_confusion_matrix(bal_model,x_train,y_train)\n",
    "print(classification_report(y_train,y_train_predict),'\\n')"
   ]
  },
  {
   "cell_type": "code",
   "execution_count": 81,
   "metadata": {},
   "outputs": [
    {
     "name": "stdout",
     "output_type": "stream",
     "text": [
      "              precision    recall  f1-score   support\n",
      "\n",
      "           0       0.91      0.75      0.82      5903\n",
      "           1       0.53      0.80      0.64      2107\n",
      "\n",
      "    accuracy                           0.76      8010\n",
      "   macro avg       0.72      0.77      0.73      8010\n",
      "weighted avg       0.81      0.76      0.78      8010\n",
      " \n",
      "\n"
     ]
    },
    {
     "data": {
      "image/png": "[encoded data removed]",
      "text/plain": [
       "<Figure size 432x288 with 2 Axes>"
      ]
     },
     "metadata": {
      "needs_background": "light"
     },
     "output_type": "display_data"
    }
   ],
   "source": [
    "plot_confusion_matrix(bal_model,x_test,y_test)\n",
    "print(classification_report(y_test,y_test_predict),'\\n')"
   ]
  },
  {
   "cell_type": "code",
   "execution_count": null,
   "metadata": {},
   "outputs": [],
   "source": []
  },
  {
   "cell_type": "code",
   "execution_count": null,
   "metadata": {},
   "outputs": [],
   "source": []
  }
 ],
 "metadata": {
  "colab": {
   "name": "Adult_data- Logistic Regression_Solution.ipynb",
   "provenance": []
  },
  "kernelspec": {
   "display_name": "Python 3 (ipykernel)",
   "language": "python",
   "name": "python3"
  },
  "language_info": {
   "codemirror_mode": {
    "name": "ipython",
    "version": 3
   },
   "file_extension": ".py",
   "mimetype": "text/x-python",
   "name": "python",
   "nbconvert_exporter": "python",
   "pygments_lexer": "ipython3",
   "version": "3.9.13"
  },
  "toc": {
   "base_numbering": 1,
   "nav_menu": {},
   "number_sections": true,
   "sideBar": true,
   "skip_h1_title": false,
   "title_cell": "Table of Contents",
   "title_sidebar": "Contents",
   "toc_cell": false,
   "toc_position": {},
   "toc_section_display": true,
   "toc_window_display": false
  },
  "varInspector": {
   "cols": {
    "lenName": 16,
    "lenType": 16,
    "lenVar": 40
   },
   "kernels_config": {
    "python": {
     "delete_cmd_postfix": "",
     "delete_cmd_prefix": "del ",
     "library": "var_list.py",
     "varRefreshCmd": "print(var_dic_list())"
    },
    "r": {
     "delete_cmd_postfix": ") ",
     "delete_cmd_prefix": "rm(",
     "library": "var_list.r",
     "varRefreshCmd": "cat(var_dic_list()) "
    }
   },
   "types_to_exclude": [
    "module",
    "function",
    "builtin_function_or_method",
    "instance",
    "_Feature"
   ],
   "window_display": false
  }
 },
 "nbformat": 4,
 "nbformat_minor": 1
}
