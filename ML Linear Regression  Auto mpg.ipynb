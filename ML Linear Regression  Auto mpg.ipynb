{
 "cells": [
  {
   "cell_type": "code",
   "execution_count": 1,
   "id": "e0569272",
   "metadata": {},
   "outputs": [],
   "source": [
    "import numpy as np\n",
    "import pandas as pd"
   ]
  },
  {
   "cell_type": "code",
   "execution_count": 2,
   "id": "fffcefee",
   "metadata": {},
   "outputs": [],
   "source": [
    "import matplotlib.pyplot as plt\n",
    "import seaborn as sns\n",
    "\n",
    "# for randomized data splitting\n",
    "from sklearn.model_selection import train_test_split\n",
    "\n",
    "# to build linear regression model\n",
    "import statsmodels.api as sm\n",
    "\n",
    "#to check model perfomance \n",
    "from sklearn.metrics import mean_squared_error\n",
    "import warnings\n",
    "warnings.filterwarnings('ignore')"
   ]
  },
  {
   "cell_type": "code",
   "execution_count": 6,
   "id": "95bb46a9",
   "metadata": {},
   "outputs": [
    {
     "data": {
      "text/html": [
       "<div>\n",
       "<style scoped>\n",
       "    .dataframe tbody tr th:only-of-type {\n",
       "        vertical-align: middle;\n",
       "    }\n",
       "\n",
       "    .dataframe tbody tr th {\n",
       "        vertical-align: top;\n",
       "    }\n",
       "\n",
       "    .dataframe thead th {\n",
       "        text-align: right;\n",
       "    }\n",
       "</style>\n",
       "<table border=\"1\" class=\"dataframe\">\n",
       "  <thead>\n",
       "    <tr style=\"text-align: right;\">\n",
       "      <th></th>\n",
       "      <th>mpg</th>\n",
       "      <th>cylinders</th>\n",
       "      <th>displacement</th>\n",
       "      <th>horsepower</th>\n",
       "      <th>weight</th>\n",
       "      <th>acceleration</th>\n",
       "      <th>model year</th>\n",
       "      <th>origin</th>\n",
       "      <th>car name</th>\n",
       "    </tr>\n",
       "  </thead>\n",
       "  <tbody>\n",
       "    <tr>\n",
       "      <th>0</th>\n",
       "      <td>18.0</td>\n",
       "      <td>8</td>\n",
       "      <td>307.0</td>\n",
       "      <td>130</td>\n",
       "      <td>3504</td>\n",
       "      <td>12.0</td>\n",
       "      <td>70</td>\n",
       "      <td>1</td>\n",
       "      <td>chevrolet chevelle malibu</td>\n",
       "    </tr>\n",
       "    <tr>\n",
       "      <th>1</th>\n",
       "      <td>15.0</td>\n",
       "      <td>8</td>\n",
       "      <td>350.0</td>\n",
       "      <td>165</td>\n",
       "      <td>3693</td>\n",
       "      <td>11.5</td>\n",
       "      <td>70</td>\n",
       "      <td>1</td>\n",
       "      <td>buick skylark 320</td>\n",
       "    </tr>\n",
       "    <tr>\n",
       "      <th>2</th>\n",
       "      <td>18.0</td>\n",
       "      <td>8</td>\n",
       "      <td>318.0</td>\n",
       "      <td>150</td>\n",
       "      <td>3436</td>\n",
       "      <td>11.0</td>\n",
       "      <td>70</td>\n",
       "      <td>1</td>\n",
       "      <td>plymouth satellite</td>\n",
       "    </tr>\n",
       "    <tr>\n",
       "      <th>3</th>\n",
       "      <td>16.0</td>\n",
       "      <td>8</td>\n",
       "      <td>304.0</td>\n",
       "      <td>150</td>\n",
       "      <td>3433</td>\n",
       "      <td>12.0</td>\n",
       "      <td>70</td>\n",
       "      <td>1</td>\n",
       "      <td>amc rebel sst</td>\n",
       "    </tr>\n",
       "    <tr>\n",
       "      <th>4</th>\n",
       "      <td>17.0</td>\n",
       "      <td>8</td>\n",
       "      <td>302.0</td>\n",
       "      <td>140</td>\n",
       "      <td>3449</td>\n",
       "      <td>10.5</td>\n",
       "      <td>70</td>\n",
       "      <td>1</td>\n",
       "      <td>ford torino</td>\n",
       "    </tr>\n",
       "  </tbody>\n",
       "</table>\n",
       "</div>"
      ],
      "text/plain": [
       "    mpg  cylinders  displacement horsepower  weight  acceleration  model year  \\\n",
       "0  18.0          8         307.0        130    3504          12.0          70   \n",
       "1  15.0          8         350.0        165    3693          11.5          70   \n",
       "2  18.0          8         318.0        150    3436          11.0          70   \n",
       "3  16.0          8         304.0        150    3433          12.0          70   \n",
       "4  17.0          8         302.0        140    3449          10.5          70   \n",
       "\n",
       "   origin                   car name  \n",
       "0       1  chevrolet chevelle malibu  \n",
       "1       1          buick skylark 320  \n",
       "2       1         plymouth satellite  \n",
       "3       1              amc rebel sst  \n",
       "4       1                ford torino  "
      ]
     },
     "execution_count": 6,
     "metadata": {},
     "output_type": "execute_result"
    }
   ],
   "source": [
    "df=pd.read_csv('ML auto-mpg.csv')\n",
    "df.head()"
   ]
  },
  {
   "cell_type": "code",
   "execution_count": 7,
   "id": "23dab140",
   "metadata": {},
   "outputs": [
    {
     "data": {
      "text/plain": [
       "(398, 9)"
      ]
     },
     "execution_count": 7,
     "metadata": {},
     "output_type": "execute_result"
    }
   ],
   "source": [
    "df.shape"
   ]
  },
  {
   "cell_type": "code",
   "execution_count": 8,
   "id": "65bc858e",
   "metadata": {},
   "outputs": [
    {
     "name": "stdout",
     "output_type": "stream",
     "text": [
      "<class 'pandas.core.frame.DataFrame'>\n",
      "RangeIndex: 398 entries, 0 to 397\n",
      "Data columns (total 9 columns):\n",
      " #   Column        Non-Null Count  Dtype  \n",
      "---  ------        --------------  -----  \n",
      " 0   mpg           398 non-null    float64\n",
      " 1   cylinders     398 non-null    int64  \n",
      " 2   displacement  398 non-null    float64\n",
      " 3   horsepower    398 non-null    object \n",
      " 4   weight        398 non-null    int64  \n",
      " 5   acceleration  398 non-null    float64\n",
      " 6   model year    398 non-null    int64  \n",
      " 7   origin        398 non-null    int64  \n",
      " 8   car name      398 non-null    object \n",
      "dtypes: float64(3), int64(4), object(2)\n",
      "memory usage: 28.1+ KB\n"
     ]
    }
   ],
   "source": [
    "df.info()"
   ]
  },
  {
   "cell_type": "code",
   "execution_count": 9,
   "id": "0a5b849c",
   "metadata": {},
   "outputs": [
    {
     "data": {
      "text/plain": [
       "array(['130', '165', '150', '140', '198', '220', '215', '225', '190',\n",
       "       '170', '160', '95', '97', '85', '88', '46', '87', '90', '113',\n",
       "       '200', '210', '193', '?', '100', '105', '175', '153', '180', '110',\n",
       "       '72', '86', '70', '76', '65', '69', '60', '80', '54', '208', '155',\n",
       "       '112', '92', '145', '137', '158', '167', '94', '107', '230', '49',\n",
       "       '75', '91', '122', '67', '83', '78', '52', '61', '93', '148',\n",
       "       '129', '96', '71', '98', '115', '53', '81', '79', '120', '152',\n",
       "       '102', '108', '68', '58', '149', '89', '63', '48', '66', '139',\n",
       "       '103', '125', '133', '138', '135', '142', '77', '62', '132', '84',\n",
       "       '64', '74', '116', '82'], dtype=object)"
      ]
     },
     "execution_count": 9,
     "metadata": {},
     "output_type": "execute_result"
    }
   ],
   "source": [
    "df['horsepower'].unique()"
   ]
  },
  {
   "cell_type": "code",
   "execution_count": 10,
   "id": "b76aab4f",
   "metadata": {},
   "outputs": [
    {
     "data": {
      "text/html": [
       "<div>\n",
       "<style scoped>\n",
       "    .dataframe tbody tr th:only-of-type {\n",
       "        vertical-align: middle;\n",
       "    }\n",
       "\n",
       "    .dataframe tbody tr th {\n",
       "        vertical-align: top;\n",
       "    }\n",
       "\n",
       "    .dataframe thead th {\n",
       "        text-align: right;\n",
       "    }\n",
       "</style>\n",
       "<table border=\"1\" class=\"dataframe\">\n",
       "  <thead>\n",
       "    <tr style=\"text-align: right;\">\n",
       "      <th></th>\n",
       "      <th>mpg</th>\n",
       "      <th>cylinders</th>\n",
       "      <th>displacement</th>\n",
       "      <th>horsepower</th>\n",
       "      <th>weight</th>\n",
       "      <th>acceleration</th>\n",
       "      <th>model year</th>\n",
       "      <th>origin</th>\n",
       "    </tr>\n",
       "  </thead>\n",
       "  <tbody>\n",
       "    <tr>\n",
       "      <th>0</th>\n",
       "      <td>18.0</td>\n",
       "      <td>8</td>\n",
       "      <td>307.0</td>\n",
       "      <td>130</td>\n",
       "      <td>3504</td>\n",
       "      <td>12.0</td>\n",
       "      <td>70</td>\n",
       "      <td>1</td>\n",
       "    </tr>\n",
       "    <tr>\n",
       "      <th>1</th>\n",
       "      <td>15.0</td>\n",
       "      <td>8</td>\n",
       "      <td>350.0</td>\n",
       "      <td>165</td>\n",
       "      <td>3693</td>\n",
       "      <td>11.5</td>\n",
       "      <td>70</td>\n",
       "      <td>1</td>\n",
       "    </tr>\n",
       "    <tr>\n",
       "      <th>2</th>\n",
       "      <td>18.0</td>\n",
       "      <td>8</td>\n",
       "      <td>318.0</td>\n",
       "      <td>150</td>\n",
       "      <td>3436</td>\n",
       "      <td>11.0</td>\n",
       "      <td>70</td>\n",
       "      <td>1</td>\n",
       "    </tr>\n",
       "    <tr>\n",
       "      <th>3</th>\n",
       "      <td>16.0</td>\n",
       "      <td>8</td>\n",
       "      <td>304.0</td>\n",
       "      <td>150</td>\n",
       "      <td>3433</td>\n",
       "      <td>12.0</td>\n",
       "      <td>70</td>\n",
       "      <td>1</td>\n",
       "    </tr>\n",
       "    <tr>\n",
       "      <th>4</th>\n",
       "      <td>17.0</td>\n",
       "      <td>8</td>\n",
       "      <td>302.0</td>\n",
       "      <td>140</td>\n",
       "      <td>3449</td>\n",
       "      <td>10.5</td>\n",
       "      <td>70</td>\n",
       "      <td>1</td>\n",
       "    </tr>\n",
       "  </tbody>\n",
       "</table>\n",
       "</div>"
      ],
      "text/plain": [
       "    mpg  cylinders  displacement horsepower  weight  acceleration  model year  \\\n",
       "0  18.0          8         307.0        130    3504          12.0          70   \n",
       "1  15.0          8         350.0        165    3693          11.5          70   \n",
       "2  18.0          8         318.0        150    3436          11.0          70   \n",
       "3  16.0          8         304.0        150    3433          12.0          70   \n",
       "4  17.0          8         302.0        140    3449          10.5          70   \n",
       "\n",
       "   origin  \n",
       "0       1  \n",
       "1       1  \n",
       "2       1  \n",
       "3       1  \n",
       "4       1  "
      ]
     },
     "execution_count": 10,
     "metadata": {},
     "output_type": "execute_result"
    }
   ],
   "source": [
    "# Its a unique name and does not add information hence not required for the model building\n",
    "df.drop(['car name'],axis=1,inplace=True)\n",
    "df.head()"
   ]
  },
  {
   "cell_type": "code",
   "execution_count": 11,
   "id": "7120187d",
   "metadata": {},
   "outputs": [],
   "source": [
    "df['horsepower']=df['horsepower'].replace('?',np.NAN)"
   ]
  },
  {
   "cell_type": "code",
   "execution_count": 12,
   "id": "c7b68eeb",
   "metadata": {},
   "outputs": [
    {
     "data": {
      "text/plain": [
       "mpg             0\n",
       "cylinders       0\n",
       "displacement    0\n",
       "horsepower      6\n",
       "weight          0\n",
       "acceleration    0\n",
       "model year      0\n",
       "origin          0\n",
       "dtype: int64"
      ]
     },
     "execution_count": 12,
     "metadata": {},
     "output_type": "execute_result"
    }
   ],
   "source": [
    "df.isnull().sum()"
   ]
  },
  {
   "cell_type": "code",
   "execution_count": 13,
   "id": "5744b40b",
   "metadata": {},
   "outputs": [],
   "source": [
    "df['horsepower']=df['horsepower'].astype('float64')"
   ]
  },
  {
   "cell_type": "code",
   "execution_count": 14,
   "id": "257ca5e0",
   "metadata": {},
   "outputs": [
    {
     "name": "stdout",
     "output_type": "stream",
     "text": [
      "<class 'pandas.core.frame.DataFrame'>\n",
      "RangeIndex: 398 entries, 0 to 397\n",
      "Data columns (total 8 columns):\n",
      " #   Column        Non-Null Count  Dtype  \n",
      "---  ------        --------------  -----  \n",
      " 0   mpg           398 non-null    float64\n",
      " 1   cylinders     398 non-null    int64  \n",
      " 2   displacement  398 non-null    float64\n",
      " 3   horsepower    392 non-null    float64\n",
      " 4   weight        398 non-null    int64  \n",
      " 5   acceleration  398 non-null    float64\n",
      " 6   model year    398 non-null    int64  \n",
      " 7   origin        398 non-null    int64  \n",
      "dtypes: float64(4), int64(4)\n",
      "memory usage: 25.0 KB\n"
     ]
    }
   ],
   "source": [
    "df.info()"
   ]
  },
  {
   "cell_type": "code",
   "execution_count": 15,
   "id": "316b25a6",
   "metadata": {},
   "outputs": [
    {
     "data": {
      "text/html": [
       "<div>\n",
       "<style scoped>\n",
       "    .dataframe tbody tr th:only-of-type {\n",
       "        vertical-align: middle;\n",
       "    }\n",
       "\n",
       "    .dataframe tbody tr th {\n",
       "        vertical-align: top;\n",
       "    }\n",
       "\n",
       "    .dataframe thead th {\n",
       "        text-align: right;\n",
       "    }\n",
       "</style>\n",
       "<table border=\"1\" class=\"dataframe\">\n",
       "  <thead>\n",
       "    <tr style=\"text-align: right;\">\n",
       "      <th></th>\n",
       "      <th>mpg</th>\n",
       "      <th>cylinders</th>\n",
       "      <th>displacement</th>\n",
       "      <th>horsepower</th>\n",
       "      <th>weight</th>\n",
       "      <th>acceleration</th>\n",
       "      <th>model year</th>\n",
       "      <th>origin</th>\n",
       "    </tr>\n",
       "  </thead>\n",
       "  <tbody>\n",
       "    <tr>\n",
       "      <th>32</th>\n",
       "      <td>25.0</td>\n",
       "      <td>4</td>\n",
       "      <td>98.0</td>\n",
       "      <td>NaN</td>\n",
       "      <td>2046</td>\n",
       "      <td>19.0</td>\n",
       "      <td>71</td>\n",
       "      <td>1</td>\n",
       "    </tr>\n",
       "    <tr>\n",
       "      <th>126</th>\n",
       "      <td>21.0</td>\n",
       "      <td>6</td>\n",
       "      <td>200.0</td>\n",
       "      <td>NaN</td>\n",
       "      <td>2875</td>\n",
       "      <td>17.0</td>\n",
       "      <td>74</td>\n",
       "      <td>1</td>\n",
       "    </tr>\n",
       "    <tr>\n",
       "      <th>330</th>\n",
       "      <td>40.9</td>\n",
       "      <td>4</td>\n",
       "      <td>85.0</td>\n",
       "      <td>NaN</td>\n",
       "      <td>1835</td>\n",
       "      <td>17.3</td>\n",
       "      <td>80</td>\n",
       "      <td>2</td>\n",
       "    </tr>\n",
       "    <tr>\n",
       "      <th>336</th>\n",
       "      <td>23.6</td>\n",
       "      <td>4</td>\n",
       "      <td>140.0</td>\n",
       "      <td>NaN</td>\n",
       "      <td>2905</td>\n",
       "      <td>14.3</td>\n",
       "      <td>80</td>\n",
       "      <td>1</td>\n",
       "    </tr>\n",
       "    <tr>\n",
       "      <th>354</th>\n",
       "      <td>34.5</td>\n",
       "      <td>4</td>\n",
       "      <td>100.0</td>\n",
       "      <td>NaN</td>\n",
       "      <td>2320</td>\n",
       "      <td>15.8</td>\n",
       "      <td>81</td>\n",
       "      <td>2</td>\n",
       "    </tr>\n",
       "    <tr>\n",
       "      <th>374</th>\n",
       "      <td>23.0</td>\n",
       "      <td>4</td>\n",
       "      <td>151.0</td>\n",
       "      <td>NaN</td>\n",
       "      <td>3035</td>\n",
       "      <td>20.5</td>\n",
       "      <td>82</td>\n",
       "      <td>1</td>\n",
       "    </tr>\n",
       "  </tbody>\n",
       "</table>\n",
       "</div>"
      ],
      "text/plain": [
       "      mpg  cylinders  displacement  horsepower  weight  acceleration  \\\n",
       "32   25.0          4          98.0         NaN    2046          19.0   \n",
       "126  21.0          6         200.0         NaN    2875          17.0   \n",
       "330  40.9          4          85.0         NaN    1835          17.3   \n",
       "336  23.6          4         140.0         NaN    2905          14.3   \n",
       "354  34.5          4         100.0         NaN    2320          15.8   \n",
       "374  23.0          4         151.0         NaN    3035          20.5   \n",
       "\n",
       "     model year  origin  \n",
       "32           71       1  \n",
       "126          74       1  \n",
       "330          80       2  \n",
       "336          80       1  \n",
       "354          81       2  \n",
       "374          82       1  "
      ]
     },
     "execution_count": 15,
     "metadata": {},
     "output_type": "execute_result"
    }
   ],
   "source": [
    "df[df['horsepower'].isnull()]"
   ]
  },
  {
   "cell_type": "code",
   "execution_count": 16,
   "id": "6c92786c",
   "metadata": {},
   "outputs": [
    {
     "data": {
      "text/plain": [
       "78.0"
      ]
     },
     "execution_count": 16,
     "metadata": {},
     "output_type": "execute_result"
    }
   ],
   "source": [
    "df[df['cylinders']==4]['horsepower'].median()"
   ]
  },
  {
   "cell_type": "code",
   "execution_count": 17,
   "id": "3dd5096c",
   "metadata": {},
   "outputs": [
    {
     "data": {
      "text/plain": [
       "100.0"
      ]
     },
     "execution_count": 17,
     "metadata": {},
     "output_type": "execute_result"
    }
   ],
   "source": [
    "df[df['cylinders']==6]['horsepower'].median()"
   ]
  },
  {
   "cell_type": "code",
   "execution_count": 18,
   "id": "94a14cf9",
   "metadata": {},
   "outputs": [],
   "source": [
    "df.loc[df['cylinders']==4,'horsepower']=df.loc[df['cylinders']==4,'horsepower'].fillna(78.0)\n",
    "df.loc[df['cylinders']==6,'horsepower']=df.loc[df['cylinders']==6,'horsepower'].fillna(100.0)"
   ]
  },
  {
   "cell_type": "code",
   "execution_count": 19,
   "id": "0f05d910",
   "metadata": {},
   "outputs": [
    {
     "data": {
      "text/plain": [
       "mpg             0\n",
       "cylinders       0\n",
       "displacement    0\n",
       "horsepower      0\n",
       "weight          0\n",
       "acceleration    0\n",
       "model year      0\n",
       "origin          0\n",
       "dtype: int64"
      ]
     },
     "execution_count": 19,
     "metadata": {},
     "output_type": "execute_result"
    }
   ],
   "source": [
    "df.isnull().sum()"
   ]
  },
  {
   "cell_type": "code",
   "execution_count": 20,
   "id": "219997c5",
   "metadata": {},
   "outputs": [],
   "source": [
    "df['origin']=df['origin'].replace({1:'America',2:'Europe',3:'Asia'})"
   ]
  },
  {
   "cell_type": "code",
   "execution_count": 21,
   "id": "df3a2c0d",
   "metadata": {},
   "outputs": [
    {
     "name": "stdout",
     "output_type": "stream",
     "text": [
      "<class 'pandas.core.frame.DataFrame'>\n",
      "RangeIndex: 398 entries, 0 to 397\n",
      "Data columns (total 8 columns):\n",
      " #   Column        Non-Null Count  Dtype  \n",
      "---  ------        --------------  -----  \n",
      " 0   mpg           398 non-null    float64\n",
      " 1   cylinders     398 non-null    int64  \n",
      " 2   displacement  398 non-null    float64\n",
      " 3   horsepower    398 non-null    float64\n",
      " 4   weight        398 non-null    int64  \n",
      " 5   acceleration  398 non-null    float64\n",
      " 6   model year    398 non-null    int64  \n",
      " 7   origin        398 non-null    object \n",
      "dtypes: float64(4), int64(3), object(1)\n",
      "memory usage: 25.0+ KB\n"
     ]
    }
   ],
   "source": [
    "df.info()"
   ]
  },
  {
   "cell_type": "code",
   "execution_count": 22,
   "id": "1ebd73f4",
   "metadata": {},
   "outputs": [
    {
     "data": {
      "text/html": [
       "<div>\n",
       "<style scoped>\n",
       "    .dataframe tbody tr th:only-of-type {\n",
       "        vertical-align: middle;\n",
       "    }\n",
       "\n",
       "    .dataframe tbody tr th {\n",
       "        vertical-align: top;\n",
       "    }\n",
       "\n",
       "    .dataframe thead th {\n",
       "        text-align: right;\n",
       "    }\n",
       "</style>\n",
       "<table border=\"1\" class=\"dataframe\">\n",
       "  <thead>\n",
       "    <tr style=\"text-align: right;\">\n",
       "      <th></th>\n",
       "      <th>mpg</th>\n",
       "      <th>cylinders</th>\n",
       "      <th>displacement</th>\n",
       "      <th>horsepower</th>\n",
       "      <th>weight</th>\n",
       "      <th>acceleration</th>\n",
       "      <th>model year</th>\n",
       "    </tr>\n",
       "  </thead>\n",
       "  <tbody>\n",
       "    <tr>\n",
       "      <th>count</th>\n",
       "      <td>398.000000</td>\n",
       "      <td>398.000000</td>\n",
       "      <td>398.000000</td>\n",
       "      <td>398.000000</td>\n",
       "      <td>398.000000</td>\n",
       "      <td>398.000000</td>\n",
       "      <td>398.000000</td>\n",
       "    </tr>\n",
       "    <tr>\n",
       "      <th>mean</th>\n",
       "      <td>23.514573</td>\n",
       "      <td>5.454774</td>\n",
       "      <td>193.425879</td>\n",
       "      <td>104.125628</td>\n",
       "      <td>2970.424623</td>\n",
       "      <td>15.568090</td>\n",
       "      <td>76.010050</td>\n",
       "    </tr>\n",
       "    <tr>\n",
       "      <th>std</th>\n",
       "      <td>7.815984</td>\n",
       "      <td>1.701004</td>\n",
       "      <td>104.269838</td>\n",
       "      <td>38.313624</td>\n",
       "      <td>846.841774</td>\n",
       "      <td>2.757689</td>\n",
       "      <td>3.697627</td>\n",
       "    </tr>\n",
       "    <tr>\n",
       "      <th>min</th>\n",
       "      <td>9.000000</td>\n",
       "      <td>3.000000</td>\n",
       "      <td>68.000000</td>\n",
       "      <td>46.000000</td>\n",
       "      <td>1613.000000</td>\n",
       "      <td>8.000000</td>\n",
       "      <td>70.000000</td>\n",
       "    </tr>\n",
       "    <tr>\n",
       "      <th>25%</th>\n",
       "      <td>17.500000</td>\n",
       "      <td>4.000000</td>\n",
       "      <td>104.250000</td>\n",
       "      <td>76.000000</td>\n",
       "      <td>2223.750000</td>\n",
       "      <td>13.825000</td>\n",
       "      <td>73.000000</td>\n",
       "    </tr>\n",
       "    <tr>\n",
       "      <th>50%</th>\n",
       "      <td>23.000000</td>\n",
       "      <td>4.000000</td>\n",
       "      <td>148.500000</td>\n",
       "      <td>92.000000</td>\n",
       "      <td>2803.500000</td>\n",
       "      <td>15.500000</td>\n",
       "      <td>76.000000</td>\n",
       "    </tr>\n",
       "    <tr>\n",
       "      <th>75%</th>\n",
       "      <td>29.000000</td>\n",
       "      <td>8.000000</td>\n",
       "      <td>262.000000</td>\n",
       "      <td>125.000000</td>\n",
       "      <td>3608.000000</td>\n",
       "      <td>17.175000</td>\n",
       "      <td>79.000000</td>\n",
       "    </tr>\n",
       "    <tr>\n",
       "      <th>max</th>\n",
       "      <td>46.600000</td>\n",
       "      <td>8.000000</td>\n",
       "      <td>455.000000</td>\n",
       "      <td>230.000000</td>\n",
       "      <td>5140.000000</td>\n",
       "      <td>24.800000</td>\n",
       "      <td>82.000000</td>\n",
       "    </tr>\n",
       "  </tbody>\n",
       "</table>\n",
       "</div>"
      ],
      "text/plain": [
       "              mpg   cylinders  displacement  horsepower       weight  \\\n",
       "count  398.000000  398.000000    398.000000  398.000000   398.000000   \n",
       "mean    23.514573    5.454774    193.425879  104.125628  2970.424623   \n",
       "std      7.815984    1.701004    104.269838   38.313624   846.841774   \n",
       "min      9.000000    3.000000     68.000000   46.000000  1613.000000   \n",
       "25%     17.500000    4.000000    104.250000   76.000000  2223.750000   \n",
       "50%     23.000000    4.000000    148.500000   92.000000  2803.500000   \n",
       "75%     29.000000    8.000000    262.000000  125.000000  3608.000000   \n",
       "max     46.600000    8.000000    455.000000  230.000000  5140.000000   \n",
       "\n",
       "       acceleration  model year  \n",
       "count    398.000000  398.000000  \n",
       "mean      15.568090   76.010050  \n",
       "std        2.757689    3.697627  \n",
       "min        8.000000   70.000000  \n",
       "25%       13.825000   73.000000  \n",
       "50%       15.500000   76.000000  \n",
       "75%       17.175000   79.000000  \n",
       "max       24.800000   82.000000  "
      ]
     },
     "execution_count": 22,
     "metadata": {},
     "output_type": "execute_result"
    }
   ],
   "source": [
    "df.describe()"
   ]
  },
  {
   "cell_type": "code",
   "execution_count": 23,
   "id": "253ccfd2",
   "metadata": {},
   "outputs": [
    {
     "data": {
      "text/plain": [
       "<AxesSubplot:xlabel='mpg'>"
      ]
     },
     "execution_count": 23,
     "metadata": {},
     "output_type": "execute_result"
    },
    {
     "data": {
      "image/png": "[encoded data removed]",
      "text/plain": [
       "<Figure size 640x480 with 1 Axes>"
      ]
     },
     "metadata": {},
     "output_type": "display_data"
    }
   ],
   "source": [
    "sns.boxplot(x='mpg',data=df)"
   ]
  },
  {
   "cell_type": "code",
   "execution_count": 24,
   "id": "f7ed1853",
   "metadata": {},
   "outputs": [
    {
     "data": {
      "text/plain": [
       "<AxesSubplot:xlabel='cylinders'>"
      ]
     },
     "execution_count": 24,
     "metadata": {},
     "output_type": "execute_result"
    },
    {
     "data": {
      "image/png": "[encoded data removed]",
      "text/plain": [
       "<Figure size 640x480 with 1 Axes>"
      ]
     },
     "metadata": {},
     "output_type": "display_data"
    }
   ],
   "source": [
    "sns.boxplot(x='cylinders',data=df)"
   ]
  },
  {
   "cell_type": "code",
   "execution_count": 25,
   "id": "b042920c",
   "metadata": {},
   "outputs": [
    {
     "data": {
      "text/plain": [
       "<AxesSubplot:xlabel='displacement'>"
      ]
     },
     "execution_count": 25,
     "metadata": {},
     "output_type": "execute_result"
    },
    {
     "data": {
      "image/png": "[encoded data removed]",
      "text/plain": [
       "<Figure size 640x480 with 1 Axes>"
      ]
     },
     "metadata": {},
     "output_type": "display_data"
    }
   ],
   "source": [
    "sns.boxplot(x='displacement',data=df)"
   ]
  },
  {
   "cell_type": "code",
   "execution_count": 26,
   "id": "0bc14a14",
   "metadata": {},
   "outputs": [
    {
     "data": {
      "text/plain": [
       "<AxesSubplot:xlabel='horsepower'>"
      ]
     },
     "execution_count": 26,
     "metadata": {},
     "output_type": "execute_result"
    },
    {
     "data": {
      "image/png": "[encoded data removed]",
      "text/plain": [
       "<Figure size 640x480 with 1 Axes>"
      ]
     },
     "metadata": {},
     "output_type": "display_data"
    }
   ],
   "source": [
    "sns.boxplot(x='horsepower',data=df)"
   ]
  },
  {
   "cell_type": "code",
   "execution_count": 27,
   "id": "8c0327d8",
   "metadata": {},
   "outputs": [
    {
     "data": {
      "text/plain": [
       "<AxesSubplot:xlabel='weight'>"
      ]
     },
     "execution_count": 27,
     "metadata": {},
     "output_type": "execute_result"
    },
    {
     "data": {
      "image/png": "[encoded data removed]",
      "text/plain": [
       "<Figure size 640x480 with 1 Axes>"
      ]
     },
     "metadata": {},
     "output_type": "display_data"
    }
   ],
   "source": [
    "sns.boxplot(x='weight',data=df)"
   ]
  },
  {
   "cell_type": "code",
   "execution_count": 28,
   "id": "99e73619",
   "metadata": {},
   "outputs": [
    {
     "data": {
      "text/plain": [
       "<AxesSubplot:xlabel='acceleration'>"
      ]
     },
     "execution_count": 28,
     "metadata": {},
     "output_type": "execute_result"
    },
    {
     "data": {
      "image/png": "[encoded data removed]",
      "text/plain": [
       "<Figure size 640x480 with 1 Axes>"
      ]
     },
     "metadata": {},
     "output_type": "display_data"
    }
   ],
   "source": [
    "sns.boxplot(x='acceleration',data=df)"
   ]
  },
  {
   "cell_type": "code",
   "execution_count": 29,
   "id": "fb597878",
   "metadata": {},
   "outputs": [
    {
     "data": {
      "text/plain": [
       "<AxesSubplot:xlabel='model year'>"
      ]
     },
     "execution_count": 29,
     "metadata": {},
     "output_type": "execute_result"
    },
    {
     "data": {
      "image/png": "[encoded data removed]",
      "text/plain": [
       "<Figure size 640x480 with 1 Axes>"
      ]
     },
     "metadata": {},
     "output_type": "display_data"
    }
   ],
   "source": [
    "sns.boxplot(x='model year',data=df)"
   ]
  },
  {
   "cell_type": "code",
   "execution_count": 30,
   "id": "4e2cc69e",
   "metadata": {},
   "outputs": [
    {
     "data": {
      "text/html": [
       "<div>\n",
       "<style scoped>\n",
       "    .dataframe tbody tr th:only-of-type {\n",
       "        vertical-align: middle;\n",
       "    }\n",
       "\n",
       "    .dataframe tbody tr th {\n",
       "        vertical-align: top;\n",
       "    }\n",
       "\n",
       "    .dataframe thead th {\n",
       "        text-align: right;\n",
       "    }\n",
       "</style>\n",
       "<table border=\"1\" class=\"dataframe\">\n",
       "  <thead>\n",
       "    <tr style=\"text-align: right;\">\n",
       "      <th></th>\n",
       "      <th>mpg</th>\n",
       "      <th>cylinders</th>\n",
       "      <th>displacement</th>\n",
       "      <th>horsepower</th>\n",
       "      <th>weight</th>\n",
       "      <th>acceleration</th>\n",
       "      <th>model year</th>\n",
       "      <th>origin</th>\n",
       "    </tr>\n",
       "  </thead>\n",
       "  <tbody>\n",
       "  </tbody>\n",
       "</table>\n",
       "</div>"
      ],
      "text/plain": [
       "Empty DataFrame\n",
       "Columns: [mpg, cylinders, displacement, horsepower, weight, acceleration, model year, origin]\n",
       "Index: []"
      ]
     },
     "execution_count": 30,
     "metadata": {},
     "output_type": "execute_result"
    }
   ],
   "source": [
    "dups=df.duplicated()\n",
    "df[dups]"
   ]
  },
  {
   "cell_type": "code",
   "execution_count": 31,
   "id": "155322c4",
   "metadata": {},
   "outputs": [],
   "source": [
    "# Outlier Treatment\n",
    "def remove_outlier(col):\n",
    "    sorted (col)\n",
    "    Q1,Q3=col.quantile([0.25,0.75])\n",
    "    IQR=Q3-Q1\n",
    "    lower_range=Q1-1.5*IQR\n",
    "    upper_range=Q3+1.5*IQR\n",
    "    return lower_range,upper_range"
   ]
  },
  {
   "cell_type": "code",
   "execution_count": 32,
   "id": "4d8aa8b6",
   "metadata": {},
   "outputs": [],
   "source": [
    "lracc,uracc=remove_outlier(df['acceleration'])\n",
    "df['acceleration']=np.where(df['acceleration']>uracc,uracc,df['acceleration'])\n",
    "df['acceleration']=np.where(df['acceleration']<lracc,lracc,df['acceleration'])\n",
    "\n",
    "lrhp,urhp=remove_outlier(df['horsepower'])\n",
    "df['horsepower']=np.where(df['horsepower']>urhp,urhp,df['horsepower'])\n",
    "df['horsepower']=np.where(df['horsepower']<lrhp,lrhp,df['horsepower'])"
   ]
  },
  {
   "cell_type": "code",
   "execution_count": 33,
   "id": "1c10dd45",
   "metadata": {},
   "outputs": [
    {
     "data": {
      "text/plain": [
       "<AxesSubplot:xlabel='acceleration'>"
      ]
     },
     "execution_count": 33,
     "metadata": {},
     "output_type": "execute_result"
    },
    {
     "data": {
      "image/png": "[encoded data removed]",
      "text/plain": [
       "<Figure size 640x480 with 1 Axes>"
      ]
     },
     "metadata": {},
     "output_type": "display_data"
    }
   ],
   "source": [
    "sns.boxplot(x='acceleration',data=df)"
   ]
  },
  {
   "cell_type": "code",
   "execution_count": 34,
   "id": "05bfeed2",
   "metadata": {},
   "outputs": [
    {
     "data": {
      "image/png": "[encoded data removed]",
      "text/plain": [
       "<Figure size 640x480 with 1 Axes>"
      ]
     },
     "metadata": {},
     "output_type": "display_data"
    }
   ],
   "source": [
    "sns.boxplot(x='horsepower',data=df);"
   ]
  },
  {
   "cell_type": "code",
   "execution_count": null,
   "id": "f524357f",
   "metadata": {},
   "outputs": [],
   "source": [
    "# we are not treating outliers in mpg bcz its the dependant feature"
   ]
  },
  {
   "cell_type": "markdown",
   "id": "796af937",
   "metadata": {},
   "source": [
    "#### One hot coding"
   ]
  },
  {
   "cell_type": "code",
   "execution_count": 35,
   "id": "be3b2a1f",
   "metadata": {},
   "outputs": [],
   "source": [
    "# Create Dummy var for 'origin'\n",
    "\n",
    "df=pd.get_dummies(df,columns=['origin'],drop_first=True)"
   ]
  },
  {
   "cell_type": "code",
   "execution_count": 36,
   "id": "8651ebfe",
   "metadata": {},
   "outputs": [
    {
     "data": {
      "text/plain": [
       "array([70, 71, 72, 73, 74, 75, 76, 77, 78, 79, 80, 81, 82], dtype=int64)"
      ]
     },
     "execution_count": 36,
     "metadata": {},
     "output_type": "execute_result"
    }
   ],
   "source": [
    "df['model year'].unique()"
   ]
  },
  {
   "cell_type": "code",
   "execution_count": 37,
   "id": "87d5e585",
   "metadata": {},
   "outputs": [],
   "source": [
    "df['model year']=pd.Categorical(df['model year']).codes"
   ]
  },
  {
   "cell_type": "code",
   "execution_count": 39,
   "id": "9ffb8c77",
   "metadata": {},
   "outputs": [
    {
     "data": {
      "text/plain": [
       "array([ 0,  1,  2,  3,  4,  5,  6,  7,  8,  9, 10, 11, 12], dtype=int8)"
      ]
     },
     "execution_count": 39,
     "metadata": {},
     "output_type": "execute_result"
    }
   ],
   "source": [
    "df['model year'].unique()"
   ]
  },
  {
   "cell_type": "code",
   "execution_count": null,
   "id": "cc69f1dc",
   "metadata": {},
   "outputs": [],
   "source": [
    "df['cylinders'].unique()"
   ]
  },
  {
   "cell_type": "code",
   "execution_count": 38,
   "id": "d5808458",
   "metadata": {},
   "outputs": [],
   "source": [
    "df['cylinders']=pd.Categorical(df['cylinders']).codes\n"
   ]
  },
  {
   "cell_type": "code",
   "execution_count": 40,
   "id": "daf390c4",
   "metadata": {},
   "outputs": [
    {
     "data": {
      "text/plain": [
       "array([4, 1, 3, 0, 2], dtype=int8)"
      ]
     },
     "execution_count": 40,
     "metadata": {},
     "output_type": "execute_result"
    }
   ],
   "source": [
    "df['cylinders'].unique()"
   ]
  },
  {
   "cell_type": "markdown",
   "id": "2a35b9ea",
   "metadata": {},
   "source": [
    "### Standardization"
   ]
  },
  {
   "cell_type": "code",
   "execution_count": 41,
   "id": "de4c14d8",
   "metadata": {},
   "outputs": [],
   "source": [
    "from scipy.stats import zscore"
   ]
  },
  {
   "cell_type": "code",
   "execution_count": 42,
   "id": "e17074a9",
   "metadata": {},
   "outputs": [],
   "source": [
    "df[['displacement','horsepower','weight','acceleration']]=df[['displacement','horsepower','weight',\n",
    "                                                              'acceleration']].apply(zscore)"
   ]
  },
  {
   "cell_type": "code",
   "execution_count": 43,
   "id": "a2663ab5",
   "metadata": {},
   "outputs": [
    {
     "data": {
      "text/html": [
       "<div>\n",
       "<style scoped>\n",
       "    .dataframe tbody tr th:only-of-type {\n",
       "        vertical-align: middle;\n",
       "    }\n",
       "\n",
       "    .dataframe tbody tr th {\n",
       "        vertical-align: top;\n",
       "    }\n",
       "\n",
       "    .dataframe thead th {\n",
       "        text-align: right;\n",
       "    }\n",
       "</style>\n",
       "<table border=\"1\" class=\"dataframe\">\n",
       "  <thead>\n",
       "    <tr style=\"text-align: right;\">\n",
       "      <th></th>\n",
       "      <th>mpg</th>\n",
       "      <th>cylinders</th>\n",
       "      <th>displacement</th>\n",
       "      <th>horsepower</th>\n",
       "      <th>weight</th>\n",
       "      <th>acceleration</th>\n",
       "      <th>model year</th>\n",
       "      <th>origin_Asia</th>\n",
       "      <th>origin_Europe</th>\n",
       "    </tr>\n",
       "  </thead>\n",
       "  <tbody>\n",
       "    <tr>\n",
       "      <th>0</th>\n",
       "      <td>18.0</td>\n",
       "      <td>4</td>\n",
       "      <td>1.090604</td>\n",
       "      <td>0.716754</td>\n",
       "      <td>0.630870</td>\n",
       "      <td>-1.320595</td>\n",
       "      <td>0</td>\n",
       "      <td>0</td>\n",
       "      <td>0</td>\n",
       "    </tr>\n",
       "    <tr>\n",
       "      <th>1</th>\n",
       "      <td>15.0</td>\n",
       "      <td>4</td>\n",
       "      <td>1.503514</td>\n",
       "      <td>1.667422</td>\n",
       "      <td>0.854333</td>\n",
       "      <td>-1.506489</td>\n",
       "      <td>0</td>\n",
       "      <td>0</td>\n",
       "      <td>0</td>\n",
       "    </tr>\n",
       "    <tr>\n",
       "      <th>2</th>\n",
       "      <td>18.0</td>\n",
       "      <td>4</td>\n",
       "      <td>1.196232</td>\n",
       "      <td>1.259993</td>\n",
       "      <td>0.550470</td>\n",
       "      <td>-1.692383</td>\n",
       "      <td>0</td>\n",
       "      <td>0</td>\n",
       "      <td>0</td>\n",
       "    </tr>\n",
       "    <tr>\n",
       "      <th>3</th>\n",
       "      <td>16.0</td>\n",
       "      <td>4</td>\n",
       "      <td>1.061796</td>\n",
       "      <td>1.259993</td>\n",
       "      <td>0.546923</td>\n",
       "      <td>-1.320595</td>\n",
       "      <td>0</td>\n",
       "      <td>0</td>\n",
       "      <td>0</td>\n",
       "    </tr>\n",
       "    <tr>\n",
       "      <th>4</th>\n",
       "      <td>17.0</td>\n",
       "      <td>4</td>\n",
       "      <td>1.042591</td>\n",
       "      <td>0.988374</td>\n",
       "      <td>0.565841</td>\n",
       "      <td>-1.878278</td>\n",
       "      <td>0</td>\n",
       "      <td>0</td>\n",
       "      <td>0</td>\n",
       "    </tr>\n",
       "  </tbody>\n",
       "</table>\n",
       "</div>"
      ],
      "text/plain": [
       "    mpg  cylinders  displacement  horsepower    weight  acceleration  \\\n",
       "0  18.0          4      1.090604    0.716754  0.630870     -1.320595   \n",
       "1  15.0          4      1.503514    1.667422  0.854333     -1.506489   \n",
       "2  18.0          4      1.196232    1.259993  0.550470     -1.692383   \n",
       "3  16.0          4      1.061796    1.259993  0.546923     -1.320595   \n",
       "4  17.0          4      1.042591    0.988374  0.565841     -1.878278   \n",
       "\n",
       "   model year  origin_Asia  origin_Europe  \n",
       "0           0            0              0  \n",
       "1           0            0              0  \n",
       "2           0            0              0  \n",
       "3           0            0              0  \n",
       "4           0            0              0  "
      ]
     },
     "execution_count": 43,
     "metadata": {},
     "output_type": "execute_result"
    }
   ],
   "source": [
    "df.head()"
   ]
  },
  {
   "cell_type": "markdown",
   "id": "98e20957",
   "metadata": {},
   "source": [
    "## Train & Test split"
   ]
  },
  {
   "cell_type": "code",
   "execution_count": 44,
   "id": "59e1fe49",
   "metadata": {},
   "outputs": [],
   "source": [
    "# separate Independent and Dependent Var into X and Y\n",
    "# X will contain all the independent variable and y will have the dependent variable\n",
    "x=df.drop(['mpg'],axis=1)\n",
    "y=df[['mpg']]"
   ]
  },
  {
   "cell_type": "code",
   "execution_count": 45,
   "id": "c05f4611",
   "metadata": {},
   "outputs": [
    {
     "data": {
      "text/html": [
       "<div>\n",
       "<style scoped>\n",
       "    .dataframe tbody tr th:only-of-type {\n",
       "        vertical-align: middle;\n",
       "    }\n",
       "\n",
       "    .dataframe tbody tr th {\n",
       "        vertical-align: top;\n",
       "    }\n",
       "\n",
       "    .dataframe thead th {\n",
       "        text-align: right;\n",
       "    }\n",
       "</style>\n",
       "<table border=\"1\" class=\"dataframe\">\n",
       "  <thead>\n",
       "    <tr style=\"text-align: right;\">\n",
       "      <th></th>\n",
       "      <th>mpg</th>\n",
       "    </tr>\n",
       "  </thead>\n",
       "  <tbody>\n",
       "    <tr>\n",
       "      <th>0</th>\n",
       "      <td>18.0</td>\n",
       "    </tr>\n",
       "    <tr>\n",
       "      <th>1</th>\n",
       "      <td>15.0</td>\n",
       "    </tr>\n",
       "    <tr>\n",
       "      <th>2</th>\n",
       "      <td>18.0</td>\n",
       "    </tr>\n",
       "    <tr>\n",
       "      <th>3</th>\n",
       "      <td>16.0</td>\n",
       "    </tr>\n",
       "    <tr>\n",
       "      <th>4</th>\n",
       "      <td>17.0</td>\n",
       "    </tr>\n",
       "  </tbody>\n",
       "</table>\n",
       "</div>"
      ],
      "text/plain": [
       "    mpg\n",
       "0  18.0\n",
       "1  15.0\n",
       "2  18.0\n",
       "3  16.0\n",
       "4  17.0"
      ]
     },
     "execution_count": 45,
     "metadata": {},
     "output_type": "execute_result"
    }
   ],
   "source": [
    "y.head()"
   ]
  },
  {
   "cell_type": "code",
   "execution_count": 46,
   "id": "d8ac7d81",
   "metadata": {},
   "outputs": [],
   "source": [
    "# Train test Split (70:30)\n",
    "x_train,x_test,y_train,y_test=train_test_split(x,y,test_size=0.30,random_state=1)"
   ]
  },
  {
   "cell_type": "code",
   "execution_count": 47,
   "id": "ddbe86e5",
   "metadata": {},
   "outputs": [
    {
     "data": {
      "text/plain": [
       "(278, 8)"
      ]
     },
     "execution_count": 47,
     "metadata": {},
     "output_type": "execute_result"
    }
   ],
   "source": [
    "x_train.shape"
   ]
  },
  {
   "cell_type": "code",
   "execution_count": 48,
   "id": "fde07b3c",
   "metadata": {},
   "outputs": [
    {
     "data": {
      "text/plain": [
       "(120, 8)"
      ]
     },
     "execution_count": 48,
     "metadata": {},
     "output_type": "execute_result"
    }
   ],
   "source": [
    "x_test.shape"
   ]
  },
  {
   "cell_type": "code",
   "execution_count": 70,
   "id": "87fa358c",
   "metadata": {},
   "outputs": [
    {
     "data": {
      "text/html": [
       "<div>\n",
       "<style scoped>\n",
       "    .dataframe tbody tr th:only-of-type {\n",
       "        vertical-align: middle;\n",
       "    }\n",
       "\n",
       "    .dataframe tbody tr th {\n",
       "        vertical-align: top;\n",
       "    }\n",
       "\n",
       "    .dataframe thead th {\n",
       "        text-align: right;\n",
       "    }\n",
       "</style>\n",
       "<table border=\"1\" class=\"dataframe\">\n",
       "  <thead>\n",
       "    <tr style=\"text-align: right;\">\n",
       "      <th></th>\n",
       "      <th>cylinders</th>\n",
       "      <th>displacement</th>\n",
       "      <th>horsepower</th>\n",
       "      <th>weight</th>\n",
       "      <th>acceleration</th>\n",
       "      <th>model year</th>\n",
       "      <th>origin_Asia</th>\n",
       "      <th>origin_Europe</th>\n",
       "    </tr>\n",
       "  </thead>\n",
       "  <tbody>\n",
       "    <tr>\n",
       "      <th>350</th>\n",
       "      <td>1</td>\n",
       "      <td>-0.849116</td>\n",
       "      <td>-1.103096</td>\n",
       "      <td>-0.893172</td>\n",
       "      <td>-0.242410</td>\n",
       "      <td>11</td>\n",
       "      <td>0</td>\n",
       "      <td>0</td>\n",
       "    </tr>\n",
       "    <tr>\n",
       "      <th>59</th>\n",
       "      <td>1</td>\n",
       "      <td>-0.925936</td>\n",
       "      <td>-1.347553</td>\n",
       "      <td>-0.847061</td>\n",
       "      <td>2.471644</td>\n",
       "      <td>2</td>\n",
       "      <td>0</td>\n",
       "      <td>1</td>\n",
       "    </tr>\n",
       "    <tr>\n",
       "      <th>120</th>\n",
       "      <td>1</td>\n",
       "      <td>-0.695475</td>\n",
       "      <td>0.227840</td>\n",
       "      <td>-0.121101</td>\n",
       "      <td>-0.019337</td>\n",
       "      <td>3</td>\n",
       "      <td>0</td>\n",
       "      <td>1</td>\n",
       "    </tr>\n",
       "    <tr>\n",
       "      <th>12</th>\n",
       "      <td>4</td>\n",
       "      <td>1.983643</td>\n",
       "      <td>1.259993</td>\n",
       "      <td>0.934732</td>\n",
       "      <td>-2.250066</td>\n",
       "      <td>0</td>\n",
       "      <td>0</td>\n",
       "      <td>0</td>\n",
       "    </tr>\n",
       "    <tr>\n",
       "      <th>349</th>\n",
       "      <td>1</td>\n",
       "      <td>-0.983552</td>\n",
       "      <td>-0.967286</td>\n",
       "      <td>-1.165111</td>\n",
       "      <td>0.166557</td>\n",
       "      <td>11</td>\n",
       "      <td>1</td>\n",
       "      <td>0</td>\n",
       "    </tr>\n",
       "  </tbody>\n",
       "</table>\n",
       "</div>"
      ],
      "text/plain": [
       "     cylinders  displacement  horsepower    weight  acceleration  model year  \\\n",
       "350          1     -0.849116   -1.103096 -0.893172     -0.242410          11   \n",
       "59           1     -0.925936   -1.347553 -0.847061      2.471644           2   \n",
       "120          1     -0.695475    0.227840 -0.121101     -0.019337           3   \n",
       "12           4      1.983643    1.259993  0.934732     -2.250066           0   \n",
       "349          1     -0.983552   -0.967286 -1.165111      0.166557          11   \n",
       "\n",
       "     origin_Asia  origin_Europe  \n",
       "350            0              0  \n",
       "59             0              1  \n",
       "120            0              1  \n",
       "12             0              0  \n",
       "349            1              0  "
      ]
     },
     "execution_count": 70,
     "metadata": {},
     "output_type": "execute_result"
    }
   ],
   "source": [
    "x_train.head()"
   ]
  },
  {
   "cell_type": "code",
   "execution_count": 71,
   "id": "5a822fdc",
   "metadata": {},
   "outputs": [
    {
     "data": {
      "text/html": [
       "<div>\n",
       "<style scoped>\n",
       "    .dataframe tbody tr th:only-of-type {\n",
       "        vertical-align: middle;\n",
       "    }\n",
       "\n",
       "    .dataframe tbody tr th {\n",
       "        vertical-align: top;\n",
       "    }\n",
       "\n",
       "    .dataframe thead th {\n",
       "        text-align: right;\n",
       "    }\n",
       "</style>\n",
       "<table border=\"1\" class=\"dataframe\">\n",
       "  <thead>\n",
       "    <tr style=\"text-align: right;\">\n",
       "      <th></th>\n",
       "      <th>cylinders</th>\n",
       "      <th>displacement</th>\n",
       "      <th>horsepower</th>\n",
       "      <th>weight</th>\n",
       "      <th>acceleration</th>\n",
       "      <th>model year</th>\n",
       "      <th>origin_Asia</th>\n",
       "      <th>origin_Europe</th>\n",
       "    </tr>\n",
       "  </thead>\n",
       "  <tbody>\n",
       "    <tr>\n",
       "      <th>174</th>\n",
       "      <td>3</td>\n",
       "      <td>-0.215346</td>\n",
       "      <td>-0.179590</td>\n",
       "      <td>0.016051</td>\n",
       "      <td>-0.391125</td>\n",
       "      <td>5</td>\n",
       "      <td>0</td>\n",
       "      <td>0</td>\n",
       "    </tr>\n",
       "    <tr>\n",
       "      <th>359</th>\n",
       "      <td>1</td>\n",
       "      <td>-0.503423</td>\n",
       "      <td>-0.641343</td>\n",
       "      <td>0.306908</td>\n",
       "      <td>1.802425</td>\n",
       "      <td>11</td>\n",
       "      <td>0</td>\n",
       "      <td>1</td>\n",
       "    </tr>\n",
       "    <tr>\n",
       "      <th>250</th>\n",
       "      <td>4</td>\n",
       "      <td>1.196232</td>\n",
       "      <td>0.988374</td>\n",
       "      <td>0.903991</td>\n",
       "      <td>-0.874449</td>\n",
       "      <td>8</td>\n",
       "      <td>0</td>\n",
       "      <td>0</td>\n",
       "    </tr>\n",
       "    <tr>\n",
       "      <th>274</th>\n",
       "      <td>2</td>\n",
       "      <td>-0.599449</td>\n",
       "      <td>-0.016618</td>\n",
       "      <td>-0.166030</td>\n",
       "      <td>0.129379</td>\n",
       "      <td>8</td>\n",
       "      <td>0</td>\n",
       "      <td>1</td>\n",
       "    </tr>\n",
       "    <tr>\n",
       "      <th>283</th>\n",
       "      <td>3</td>\n",
       "      <td>0.370411</td>\n",
       "      <td>-0.369723</td>\n",
       "      <td>0.348290</td>\n",
       "      <td>0.984491</td>\n",
       "      <td>9</td>\n",
       "      <td>0</td>\n",
       "      <td>0</td>\n",
       "    </tr>\n",
       "  </tbody>\n",
       "</table>\n",
       "</div>"
      ],
      "text/plain": [
       "     cylinders  displacement  horsepower    weight  acceleration  model year  \\\n",
       "174          3     -0.215346   -0.179590  0.016051     -0.391125           5   \n",
       "359          1     -0.503423   -0.641343  0.306908      1.802425          11   \n",
       "250          4      1.196232    0.988374  0.903991     -0.874449           8   \n",
       "274          2     -0.599449   -0.016618 -0.166030      0.129379           8   \n",
       "283          3      0.370411   -0.369723  0.348290      0.984491           9   \n",
       "\n",
       "     origin_Asia  origin_Europe  \n",
       "174            0              0  \n",
       "359            0              1  \n",
       "250            0              0  \n",
       "274            0              1  \n",
       "283            0              0  "
      ]
     },
     "execution_count": 71,
     "metadata": {},
     "output_type": "execute_result"
    }
   ],
   "source": [
    "x_test.head()"
   ]
  },
  {
   "cell_type": "code",
   "execution_count": 72,
   "id": "aae6b690",
   "metadata": {},
   "outputs": [
    {
     "data": {
      "text/html": [
       "<div>\n",
       "<style scoped>\n",
       "    .dataframe tbody tr th:only-of-type {\n",
       "        vertical-align: middle;\n",
       "    }\n",
       "\n",
       "    .dataframe tbody tr th {\n",
       "        vertical-align: top;\n",
       "    }\n",
       "\n",
       "    .dataframe thead th {\n",
       "        text-align: right;\n",
       "    }\n",
       "</style>\n",
       "<table border=\"1\" class=\"dataframe\">\n",
       "  <thead>\n",
       "    <tr style=\"text-align: right;\">\n",
       "      <th></th>\n",
       "      <th>mpg</th>\n",
       "    </tr>\n",
       "  </thead>\n",
       "  <tbody>\n",
       "    <tr>\n",
       "      <th>350</th>\n",
       "      <td>34.7</td>\n",
       "    </tr>\n",
       "    <tr>\n",
       "      <th>59</th>\n",
       "      <td>23.0</td>\n",
       "    </tr>\n",
       "    <tr>\n",
       "      <th>120</th>\n",
       "      <td>19.0</td>\n",
       "    </tr>\n",
       "    <tr>\n",
       "      <th>12</th>\n",
       "      <td>15.0</td>\n",
       "    </tr>\n",
       "    <tr>\n",
       "      <th>349</th>\n",
       "      <td>34.1</td>\n",
       "    </tr>\n",
       "  </tbody>\n",
       "</table>\n",
       "</div>"
      ],
      "text/plain": [
       "      mpg\n",
       "350  34.7\n",
       "59   23.0\n",
       "120  19.0\n",
       "12   15.0\n",
       "349  34.1"
      ]
     },
     "execution_count": 72,
     "metadata": {},
     "output_type": "execute_result"
    }
   ],
   "source": [
    "y_train.head()"
   ]
  },
  {
   "cell_type": "code",
   "execution_count": 73,
   "id": "212db004",
   "metadata": {},
   "outputs": [
    {
     "data": {
      "text/html": [
       "<div>\n",
       "<style scoped>\n",
       "    .dataframe tbody tr th:only-of-type {\n",
       "        vertical-align: middle;\n",
       "    }\n",
       "\n",
       "    .dataframe tbody tr th {\n",
       "        vertical-align: top;\n",
       "    }\n",
       "\n",
       "    .dataframe thead th {\n",
       "        text-align: right;\n",
       "    }\n",
       "</style>\n",
       "<table border=\"1\" class=\"dataframe\">\n",
       "  <thead>\n",
       "    <tr style=\"text-align: right;\">\n",
       "      <th></th>\n",
       "      <th>mpg</th>\n",
       "    </tr>\n",
       "  </thead>\n",
       "  <tbody>\n",
       "    <tr>\n",
       "      <th>174</th>\n",
       "      <td>18.0</td>\n",
       "    </tr>\n",
       "    <tr>\n",
       "      <th>359</th>\n",
       "      <td>28.1</td>\n",
       "    </tr>\n",
       "    <tr>\n",
       "      <th>250</th>\n",
       "      <td>19.4</td>\n",
       "    </tr>\n",
       "    <tr>\n",
       "      <th>274</th>\n",
       "      <td>20.3</td>\n",
       "    </tr>\n",
       "    <tr>\n",
       "      <th>283</th>\n",
       "      <td>20.2</td>\n",
       "    </tr>\n",
       "  </tbody>\n",
       "</table>\n",
       "</div>"
      ],
      "text/plain": [
       "      mpg\n",
       "174  18.0\n",
       "359  28.1\n",
       "250  19.4\n",
       "274  20.3\n",
       "283  20.2"
      ]
     },
     "execution_count": 73,
     "metadata": {},
     "output_type": "execute_result"
    }
   ],
   "source": [
    "y_test.head()"
   ]
  },
  {
   "cell_type": "markdown",
   "id": "41479b2d",
   "metadata": {},
   "source": [
    "## Model building"
   ]
  },
  {
   "cell_type": "code",
   "execution_count": 49,
   "id": "58b6ea20",
   "metadata": {},
   "outputs": [],
   "source": [
    "# first approach using sklearn\n",
    "from sklearn.linear_model import LinearRegression"
   ]
  },
  {
   "cell_type": "code",
   "execution_count": 50,
   "id": "d3ed1c8a",
   "metadata": {},
   "outputs": [],
   "source": [
    "regression_model=LinearRegression()"
   ]
  },
  {
   "cell_type": "code",
   "execution_count": 51,
   "id": "27048ce2",
   "metadata": {},
   "outputs": [
    {
     "data": {
      "text/plain": [
       "LinearRegression()"
      ]
     },
     "execution_count": 51,
     "metadata": {},
     "output_type": "execute_result"
    }
   ],
   "source": [
    "regression_model.fit(x_train,y_train)"
   ]
  },
  {
   "cell_type": "code",
   "execution_count": 52,
   "id": "a340f064",
   "metadata": {},
   "outputs": [
    {
     "data": {
      "text/plain": [
       "array([-1.24906132,  4.01022715, -1.49599715, -5.7578894 , -0.01484402,\n",
       "        0.82008819,  2.53088805,  2.9742682 ])"
      ]
     },
     "execution_count": 52,
     "metadata": {},
     "output_type": "execute_result"
    }
   ],
   "source": [
    "regression_model.coef_[0]"
   ]
  },
  {
   "cell_type": "code",
   "execution_count": 53,
   "id": "499c83a3",
   "metadata": {},
   "outputs": [
    {
     "name": "stdout",
     "output_type": "stream",
     "text": [
      "The coeff for cylinders is -1.2490613244867814\n",
      "The coeff for displacement is 4.0102271534072695\n",
      "The coeff for horsepower is -1.495997151278866\n",
      "The coeff for weight is -5.757889400140118\n",
      "The coeff for acceleration is -0.01484402472233991\n",
      "The coeff for model year is 0.8200881927892256\n",
      "The coeff for origin_Asia is 2.5308880484445706\n",
      "The coeff for origin_Europe is 2.9742682001865512\n"
     ]
    }
   ],
   "source": [
    "for idx,col_name in enumerate(x_train.columns):\n",
    "    print('The coeff for {} is {}'.format(col_name,regression_model.coef_[0][idx]))"
   ]
  },
  {
   "cell_type": "code",
   "execution_count": 54,
   "id": "07f6c4fd",
   "metadata": {},
   "outputs": [
    {
     "data": {
      "text/plain": [
       "20.42598202494969"
      ]
     },
     "execution_count": 54,
     "metadata": {},
     "output_type": "execute_result"
    }
   ],
   "source": [
    "intercept=regression_model.intercept_[0]\n",
    "intercept"
   ]
  },
  {
   "cell_type": "code",
   "execution_count": 55,
   "id": "dc2c1225",
   "metadata": {},
   "outputs": [
    {
     "data": {
      "text/plain": [
       "0.8199303032592258"
      ]
     },
     "execution_count": 55,
     "metadata": {},
     "output_type": "execute_result"
    }
   ],
   "source": [
    "# R Squre on the Train data\n",
    "regression_model.score(x_train,y_train)"
   ]
  },
  {
   "cell_type": "code",
   "execution_count": 56,
   "id": "d084f405",
   "metadata": {
    "scrolled": true
   },
   "outputs": [
    {
     "data": {
      "text/plain": [
       "0.8450574836372762"
      ]
     },
     "execution_count": 56,
     "metadata": {},
     "output_type": "execute_result"
    }
   ],
   "source": [
    "# R Squre on the Test data\n",
    "regression_model.score(x_test,y_test)"
   ]
  },
  {
   "cell_type": "code",
   "execution_count": 57,
   "id": "8d8e5c0e",
   "metadata": {},
   "outputs": [],
   "source": [
    "predicted_train=regression_model.predict(x_train)\n",
    "predicted_test=regression_model.predict(x_test)"
   ]
  },
  {
   "cell_type": "code",
   "execution_count": 58,
   "id": "77fac5db",
   "metadata": {},
   "outputs": [
    {
     "data": {
      "text/plain": [
       "array([[31.58935547],\n",
       "       [26.93467763],\n",
       "       [22.17916874],\n",
       "       [16.15096334],\n",
       "       [34.93767887],\n",
       "       [33.81327773],\n",
       "       [13.8115415 ],\n",
       "       [32.48928946],\n",
       "       [28.71373506],\n",
       "       [29.62049436],\n",
       "       [30.23997561],\n",
       "       [25.0496185 ],\n",
       "       [10.05750494],\n",
       "       [34.60002409],\n",
       "       [25.26769922],\n",
       "       [13.42505139],\n",
       "       [29.53556345],\n",
       "       [16.11885672],\n",
       "       [31.0339404 ],\n",
       "       [23.03766961],\n",
       "       [16.57719815],\n",
       "       [20.60543542],\n",
       "       [11.51330943],\n",
       "       [26.99091586],\n",
       "       [26.0115959 ],\n",
       "       [24.12273267],\n",
       "       [13.53847918],\n",
       "       [20.66689159],\n",
       "       [18.49962277],\n",
       "       [20.85403815],\n",
       "       [15.11816662],\n",
       "       [10.1595155 ],\n",
       "       [14.97393009],\n",
       "       [33.29935571],\n",
       "       [29.63987058],\n",
       "       [11.64925441],\n",
       "       [11.37241868],\n",
       "       [26.07464049],\n",
       "       [23.47144589],\n",
       "       [17.81623979],\n",
       "       [20.1157557 ],\n",
       "       [35.85105406],\n",
       "       [29.0343358 ],\n",
       "       [29.58275898],\n",
       "       [ 6.95782057],\n",
       "       [15.56049064],\n",
       "       [17.53894091],\n",
       "       [29.9397944 ],\n",
       "       [33.11984654],\n",
       "       [20.59233695],\n",
       "       [31.66665611],\n",
       "       [35.08942044],\n",
       "       [22.35794652],\n",
       "       [21.17523807],\n",
       "       [28.48289285],\n",
       "       [31.56562878],\n",
       "       [21.6024808 ],\n",
       "       [15.46866575],\n",
       "       [25.29009298],\n",
       "       [30.67856547],\n",
       "       [33.66461608],\n",
       "       [16.73885283],\n",
       "       [28.14549589],\n",
       "       [21.06996013],\n",
       "       [28.48142848],\n",
       "       [29.37150511],\n",
       "       [12.04875864],\n",
       "       [25.63463136],\n",
       "       [ 6.55343195],\n",
       "       [29.43464072],\n",
       "       [29.52530298],\n",
       "       [34.05972481],\n",
       "       [25.7772884 ],\n",
       "       [33.12343648],\n",
       "       [22.79308895],\n",
       "       [26.75234299],\n",
       "       [33.02325019],\n",
       "       [26.18959501],\n",
       "       [11.77502838],\n",
       "       [16.67477844],\n",
       "       [20.9418705 ],\n",
       "       [34.87784451],\n",
       "       [28.07568537],\n",
       "       [29.32706552],\n",
       "       [ 4.04682624],\n",
       "       [24.84360105],\n",
       "       [28.74772413],\n",
       "       [19.27993299],\n",
       "       [23.63729369],\n",
       "       [29.52405196],\n",
       "       [19.17002068],\n",
       "       [34.93757478],\n",
       "       [21.46434229],\n",
       "       [32.58602451],\n",
       "       [21.43547904],\n",
       "       [32.69390657],\n",
       "       [17.38340801],\n",
       "       [30.42063458],\n",
       "       [12.51341553],\n",
       "       [13.88181375],\n",
       "       [19.78773968],\n",
       "       [23.03402898],\n",
       "       [19.75623858],\n",
       "       [14.6891814 ],\n",
       "       [36.06099617],\n",
       "       [32.04323995],\n",
       "       [16.39263178],\n",
       "       [32.45490245],\n",
       "       [28.59108742],\n",
       "       [33.18548892],\n",
       "       [19.79463749],\n",
       "       [26.09544571],\n",
       "       [24.30583962],\n",
       "       [34.8787415 ],\n",
       "       [17.70613442],\n",
       "       [20.92340807],\n",
       "       [25.46639339],\n",
       "       [27.04074398],\n",
       "       [32.72029071],\n",
       "       [12.26468862],\n",
       "       [23.06107624],\n",
       "       [20.11487271],\n",
       "       [21.50278137],\n",
       "       [10.70587087],\n",
       "       [27.51522847],\n",
       "       [18.31688082],\n",
       "       [23.02936135],\n",
       "       [11.09257282],\n",
       "       [19.64460536],\n",
       "       [33.13980594],\n",
       "       [14.70946629],\n",
       "       [25.22793285],\n",
       "       [29.62431461],\n",
       "       [17.66883566],\n",
       "       [29.77623892],\n",
       "       [13.12083294],\n",
       "       [13.69865973],\n",
       "       [27.24388879],\n",
       "       [30.74500267],\n",
       "       [23.85915948],\n",
       "       [16.41170844],\n",
       "       [28.2582929 ],\n",
       "       [24.30404003],\n",
       "       [26.62443518],\n",
       "       [33.96146926],\n",
       "       [20.4576463 ],\n",
       "       [31.91186786],\n",
       "       [19.26820639],\n",
       "       [26.29253391],\n",
       "       [28.32363513],\n",
       "       [22.8299923 ],\n",
       "       [24.8206993 ],\n",
       "       [36.40887242],\n",
       "       [28.48596841],\n",
       "       [21.17199286],\n",
       "       [22.84655362],\n",
       "       [32.73250793],\n",
       "       [27.90715782],\n",
       "       [32.91819633],\n",
       "       [10.17194192],\n",
       "       [31.61290402],\n",
       "       [24.19712846],\n",
       "       [17.29548239],\n",
       "       [23.11994241],\n",
       "       [11.54172607],\n",
       "       [22.47695944],\n",
       "       [12.32471451],\n",
       "       [28.55291443],\n",
       "       [22.90825651],\n",
       "       [20.34396745],\n",
       "       [34.62290786],\n",
       "       [16.02882185],\n",
       "       [28.54157106],\n",
       "       [15.63828668],\n",
       "       [22.78618049],\n",
       "       [30.54030042],\n",
       "       [25.31502057],\n",
       "       [27.51982332],\n",
       "       [18.05482907],\n",
       "       [31.37285133],\n",
       "       [21.63445814],\n",
       "       [27.95801329],\n",
       "       [12.45734084],\n",
       "       [20.67953441],\n",
       "       [25.23850177],\n",
       "       [18.97302563],\n",
       "       [28.06672704],\n",
       "       [25.70979989],\n",
       "       [32.38868058],\n",
       "       [15.19752617],\n",
       "       [26.20323169],\n",
       "       [21.52353666],\n",
       "       [22.57142931],\n",
       "       [23.56471314],\n",
       "       [30.11028411],\n",
       "       [29.11685678],\n",
       "       [26.02330828],\n",
       "       [30.10724733],\n",
       "       [15.99435064],\n",
       "       [10.75921466],\n",
       "       [25.78621603],\n",
       "       [35.7292194 ],\n",
       "       [15.32428562],\n",
       "       [31.92680373],\n",
       "       [27.32896938],\n",
       "       [25.71219814],\n",
       "       [29.05599886],\n",
       "       [20.48237707],\n",
       "       [13.45202341],\n",
       "       [21.34731513],\n",
       "       [23.59486745],\n",
       "       [33.74644874],\n",
       "       [22.9435779 ],\n",
       "       [31.7224912 ],\n",
       "       [21.00071458],\n",
       "       [28.35083867],\n",
       "       [17.76544408],\n",
       "       [28.74941021],\n",
       "       [10.10894958],\n",
       "       [19.57281534],\n",
       "       [25.67260589],\n",
       "       [20.70782884],\n",
       "       [ 6.80116233],\n",
       "       [27.64872022],\n",
       "       [12.06524737],\n",
       "       [18.14072195],\n",
       "       [25.12820399],\n",
       "       [24.71910061],\n",
       "       [26.81347531],\n",
       "       [28.31136621],\n",
       "       [ 6.38175943],\n",
       "       [20.92209183],\n",
       "       [ 9.43887941],\n",
       "       [23.17534714],\n",
       "       [14.67331182],\n",
       "       [28.98216468],\n",
       "       [23.0794596 ],\n",
       "       [29.60536647],\n",
       "       [23.30225397],\n",
       "       [17.90967966],\n",
       "       [14.68435162],\n",
       "       [29.52654268],\n",
       "       [31.50461998],\n",
       "       [23.16057181],\n",
       "       [22.80408575],\n",
       "       [23.8361649 ],\n",
       "       [14.06791907],\n",
       "       [28.28268962],\n",
       "       [23.10025279],\n",
       "       [33.0047986 ],\n",
       "       [31.1496702 ],\n",
       "       [11.97330589],\n",
       "       [27.70470176],\n",
       "       [15.5092696 ],\n",
       "       [30.08323   ],\n",
       "       [24.45657657],\n",
       "       [17.92980793],\n",
       "       [10.59588261],\n",
       "       [26.3204975 ],\n",
       "       [13.25300066],\n",
       "       [20.76636479],\n",
       "       [30.43332609],\n",
       "       [24.28449998],\n",
       "       [26.65357339],\n",
       "       [24.14188388],\n",
       "       [24.92114776],\n",
       "       [29.14433426],\n",
       "       [24.48397982],\n",
       "       [28.99731055],\n",
       "       [31.55424528],\n",
       "       [31.44099608],\n",
       "       [16.75826492],\n",
       "       [32.49998739],\n",
       "       [28.9043017 ],\n",
       "       [26.02033092],\n",
       "       [13.18594471],\n",
       "       [29.68560998],\n",
       "       [16.96937523]])"
      ]
     },
     "execution_count": 58,
     "metadata": {},
     "output_type": "execute_result"
    }
   ],
   "source": [
    "predicted_train"
   ]
  },
  {
   "cell_type": "code",
   "execution_count": 59,
   "id": "d7cf4b82",
   "metadata": {},
   "outputs": [
    {
     "data": {
      "text/html": [
       "<div>\n",
       "<style scoped>\n",
       "    .dataframe tbody tr th:only-of-type {\n",
       "        vertical-align: middle;\n",
       "    }\n",
       "\n",
       "    .dataframe tbody tr th {\n",
       "        vertical-align: top;\n",
       "    }\n",
       "\n",
       "    .dataframe thead th {\n",
       "        text-align: right;\n",
       "    }\n",
       "</style>\n",
       "<table border=\"1\" class=\"dataframe\">\n",
       "  <thead>\n",
       "    <tr style=\"text-align: right;\">\n",
       "      <th></th>\n",
       "      <th>mpg</th>\n",
       "    </tr>\n",
       "  </thead>\n",
       "  <tbody>\n",
       "    <tr>\n",
       "      <th>350</th>\n",
       "      <td>34.7</td>\n",
       "    </tr>\n",
       "    <tr>\n",
       "      <th>59</th>\n",
       "      <td>23.0</td>\n",
       "    </tr>\n",
       "    <tr>\n",
       "      <th>120</th>\n",
       "      <td>19.0</td>\n",
       "    </tr>\n",
       "    <tr>\n",
       "      <th>12</th>\n",
       "      <td>15.0</td>\n",
       "    </tr>\n",
       "    <tr>\n",
       "      <th>349</th>\n",
       "      <td>34.1</td>\n",
       "    </tr>\n",
       "  </tbody>\n",
       "</table>\n",
       "</div>"
      ],
      "text/plain": [
       "      mpg\n",
       "350  34.7\n",
       "59   23.0\n",
       "120  19.0\n",
       "12   15.0\n",
       "349  34.1"
      ]
     },
     "execution_count": 59,
     "metadata": {},
     "output_type": "execute_result"
    }
   ],
   "source": [
    "y_train.head()"
   ]
  },
  {
   "cell_type": "code",
   "execution_count": 60,
   "id": "c1928811",
   "metadata": {},
   "outputs": [
    {
     "data": {
      "text/plain": [
       "11.160240388579888"
      ]
     },
     "execution_count": 60,
     "metadata": {},
     "output_type": "execute_result"
    }
   ],
   "source": [
    "# MSE on train data\n",
    "\n",
    "MSE_train=mean_squared_error(y_train,predicted_train)\n",
    "MSE_train"
   ]
  },
  {
   "cell_type": "code",
   "execution_count": 61,
   "id": "9fde91ac",
   "metadata": {},
   "outputs": [
    {
     "data": {
      "text/plain": [
       "3.340694596723844"
      ]
     },
     "execution_count": 61,
     "metadata": {},
     "output_type": "execute_result"
    }
   ],
   "source": [
    "# RMSE on train data\n",
    "\n",
    "RMSE_train=np.sqrt(mean_squared_error(y_train,predicted_train))\n",
    "RMSE_train"
   ]
  },
  {
   "cell_type": "code",
   "execution_count": null,
   "id": "a976a32a",
   "metadata": {},
   "outputs": [],
   "source": [
    "#or"
   ]
  },
  {
   "cell_type": "code",
   "execution_count": 62,
   "id": "d6062320",
   "metadata": {},
   "outputs": [
    {
     "data": {
      "text/plain": [
       "3.340694596723844"
      ]
     },
     "execution_count": 62,
     "metadata": {},
     "output_type": "execute_result"
    }
   ],
   "source": [
    "mean_squared_error(y_train,predicted_train,squared=False)"
   ]
  },
  {
   "cell_type": "markdown",
   "id": "8b9749ac",
   "metadata": {},
   "source": [
    "### MAPE"
   ]
  },
  {
   "cell_type": "code",
   "execution_count": 63,
   "id": "412f07bc",
   "metadata": {},
   "outputs": [],
   "source": [
    "from sklearn.metrics import mean_absolute_percentage_error"
   ]
  },
  {
   "cell_type": "code",
   "execution_count": 64,
   "id": "f104b630",
   "metadata": {},
   "outputs": [
    {
     "data": {
      "text/plain": [
       "0.12050577453605958"
      ]
     },
     "execution_count": 64,
     "metadata": {},
     "output_type": "execute_result"
    }
   ],
   "source": [
    "mean_absolute_percentage_error(y_train,predicted_train)"
   ]
  },
  {
   "cell_type": "code",
   "execution_count": 65,
   "id": "94e2f275",
   "metadata": {},
   "outputs": [
    {
     "data": {
      "text/plain": [
       "<matplotlib.collections.PathCollection at 0x18861e2edc0>"
      ]
     },
     "execution_count": 65,
     "metadata": {},
     "output_type": "execute_result"
    },
    {
     "data": {
      "image/png": "[encoded data removed]",
      "text/plain": [
       "<Figure size 640x480 with 1 Axes>"
      ]
     },
     "metadata": {},
     "output_type": "display_data"
    }
   ],
   "source": [
    "# Plot between actual and predicted values of the y variable ('mpg')\n",
    "plt.scatter(y_train,predicted_train)"
   ]
  },
  {
   "cell_type": "code",
   "execution_count": 66,
   "id": "d2727841",
   "metadata": {},
   "outputs": [
    {
     "data": {
      "text/plain": [
       "<matplotlib.collections.PathCollection at 0x18861fe5f70>"
      ]
     },
     "execution_count": 66,
     "metadata": {},
     "output_type": "execute_result"
    },
    {
     "data": {
      "image/png": "[encoded data removed]",
      "text/plain": [
       "<Figure size 640x480 with 1 Axes>"
      ]
     },
     "metadata": {},
     "output_type": "display_data"
    }
   ],
   "source": [
    "plt.scatter(y_test,predicted_test)"
   ]
  },
  {
   "cell_type": "markdown",
   "id": "979b0ab1",
   "metadata": {},
   "source": [
    "# Linear Regression using the stats model"
   ]
  },
  {
   "cell_type": "code",
   "execution_count": 67,
   "id": "d0f01acd",
   "metadata": {},
   "outputs": [],
   "source": [
    "# Concate X and Y\n",
    "\n",
    "data_train=pd.concat([x_train,y_train],axis=1)\n",
    "data_test=pd.concat([x_test,y_test],axis=1)"
   ]
  },
  {
   "cell_type": "code",
   "execution_count": 68,
   "id": "7877c7e9",
   "metadata": {},
   "outputs": [
    {
     "data": {
      "text/html": [
       "<div>\n",
       "<style scoped>\n",
       "    .dataframe tbody tr th:only-of-type {\n",
       "        vertical-align: middle;\n",
       "    }\n",
       "\n",
       "    .dataframe tbody tr th {\n",
       "        vertical-align: top;\n",
       "    }\n",
       "\n",
       "    .dataframe thead th {\n",
       "        text-align: right;\n",
       "    }\n",
       "</style>\n",
       "<table border=\"1\" class=\"dataframe\">\n",
       "  <thead>\n",
       "    <tr style=\"text-align: right;\">\n",
       "      <th></th>\n",
       "      <th>cylinders</th>\n",
       "      <th>displacement</th>\n",
       "      <th>horsepower</th>\n",
       "      <th>weight</th>\n",
       "      <th>acceleration</th>\n",
       "      <th>model year</th>\n",
       "      <th>origin_Asia</th>\n",
       "      <th>origin_Europe</th>\n",
       "      <th>mpg</th>\n",
       "    </tr>\n",
       "  </thead>\n",
       "  <tbody>\n",
       "    <tr>\n",
       "      <th>350</th>\n",
       "      <td>1</td>\n",
       "      <td>-0.849116</td>\n",
       "      <td>-1.103096</td>\n",
       "      <td>-0.893172</td>\n",
       "      <td>-0.242410</td>\n",
       "      <td>11</td>\n",
       "      <td>0</td>\n",
       "      <td>0</td>\n",
       "      <td>34.7</td>\n",
       "    </tr>\n",
       "    <tr>\n",
       "      <th>59</th>\n",
       "      <td>1</td>\n",
       "      <td>-0.925936</td>\n",
       "      <td>-1.347553</td>\n",
       "      <td>-0.847061</td>\n",
       "      <td>2.471644</td>\n",
       "      <td>2</td>\n",
       "      <td>0</td>\n",
       "      <td>1</td>\n",
       "      <td>23.0</td>\n",
       "    </tr>\n",
       "    <tr>\n",
       "      <th>120</th>\n",
       "      <td>1</td>\n",
       "      <td>-0.695475</td>\n",
       "      <td>0.227840</td>\n",
       "      <td>-0.121101</td>\n",
       "      <td>-0.019337</td>\n",
       "      <td>3</td>\n",
       "      <td>0</td>\n",
       "      <td>1</td>\n",
       "      <td>19.0</td>\n",
       "    </tr>\n",
       "    <tr>\n",
       "      <th>12</th>\n",
       "      <td>4</td>\n",
       "      <td>1.983643</td>\n",
       "      <td>1.259993</td>\n",
       "      <td>0.934732</td>\n",
       "      <td>-2.250066</td>\n",
       "      <td>0</td>\n",
       "      <td>0</td>\n",
       "      <td>0</td>\n",
       "      <td>15.0</td>\n",
       "    </tr>\n",
       "    <tr>\n",
       "      <th>349</th>\n",
       "      <td>1</td>\n",
       "      <td>-0.983552</td>\n",
       "      <td>-0.967286</td>\n",
       "      <td>-1.165111</td>\n",
       "      <td>0.166557</td>\n",
       "      <td>11</td>\n",
       "      <td>1</td>\n",
       "      <td>0</td>\n",
       "      <td>34.1</td>\n",
       "    </tr>\n",
       "  </tbody>\n",
       "</table>\n",
       "</div>"
      ],
      "text/plain": [
       "     cylinders  displacement  horsepower    weight  acceleration  model year  \\\n",
       "350          1     -0.849116   -1.103096 -0.893172     -0.242410          11   \n",
       "59           1     -0.925936   -1.347553 -0.847061      2.471644           2   \n",
       "120          1     -0.695475    0.227840 -0.121101     -0.019337           3   \n",
       "12           4      1.983643    1.259993  0.934732     -2.250066           0   \n",
       "349          1     -0.983552   -0.967286 -1.165111      0.166557          11   \n",
       "\n",
       "     origin_Asia  origin_Europe   mpg  \n",
       "350            0              0  34.7  \n",
       "59             0              1  23.0  \n",
       "120            0              1  19.0  \n",
       "12             0              0  15.0  \n",
       "349            1              0  34.1  "
      ]
     },
     "execution_count": 68,
     "metadata": {},
     "output_type": "execute_result"
    }
   ],
   "source": [
    "data_train.head()"
   ]
  },
  {
   "cell_type": "code",
   "execution_count": 69,
   "id": "8d45c1fc",
   "metadata": {},
   "outputs": [
    {
     "data": {
      "text/html": [
       "<div>\n",
       "<style scoped>\n",
       "    .dataframe tbody tr th:only-of-type {\n",
       "        vertical-align: middle;\n",
       "    }\n",
       "\n",
       "    .dataframe tbody tr th {\n",
       "        vertical-align: top;\n",
       "    }\n",
       "\n",
       "    .dataframe thead th {\n",
       "        text-align: right;\n",
       "    }\n",
       "</style>\n",
       "<table border=\"1\" class=\"dataframe\">\n",
       "  <thead>\n",
       "    <tr style=\"text-align: right;\">\n",
       "      <th></th>\n",
       "      <th>cylinders</th>\n",
       "      <th>displacement</th>\n",
       "      <th>horsepower</th>\n",
       "      <th>weight</th>\n",
       "      <th>acceleration</th>\n",
       "      <th>model year</th>\n",
       "      <th>origin_Asia</th>\n",
       "      <th>origin_Europe</th>\n",
       "      <th>mpg</th>\n",
       "    </tr>\n",
       "  </thead>\n",
       "  <tbody>\n",
       "    <tr>\n",
       "      <th>174</th>\n",
       "      <td>3</td>\n",
       "      <td>-0.215346</td>\n",
       "      <td>-0.179590</td>\n",
       "      <td>0.016051</td>\n",
       "      <td>-0.391125</td>\n",
       "      <td>5</td>\n",
       "      <td>0</td>\n",
       "      <td>0</td>\n",
       "      <td>18.0</td>\n",
       "    </tr>\n",
       "    <tr>\n",
       "      <th>359</th>\n",
       "      <td>1</td>\n",
       "      <td>-0.503423</td>\n",
       "      <td>-0.641343</td>\n",
       "      <td>0.306908</td>\n",
       "      <td>1.802425</td>\n",
       "      <td>11</td>\n",
       "      <td>0</td>\n",
       "      <td>1</td>\n",
       "      <td>28.1</td>\n",
       "    </tr>\n",
       "    <tr>\n",
       "      <th>250</th>\n",
       "      <td>4</td>\n",
       "      <td>1.196232</td>\n",
       "      <td>0.988374</td>\n",
       "      <td>0.903991</td>\n",
       "      <td>-0.874449</td>\n",
       "      <td>8</td>\n",
       "      <td>0</td>\n",
       "      <td>0</td>\n",
       "      <td>19.4</td>\n",
       "    </tr>\n",
       "    <tr>\n",
       "      <th>274</th>\n",
       "      <td>2</td>\n",
       "      <td>-0.599449</td>\n",
       "      <td>-0.016618</td>\n",
       "      <td>-0.166030</td>\n",
       "      <td>0.129379</td>\n",
       "      <td>8</td>\n",
       "      <td>0</td>\n",
       "      <td>1</td>\n",
       "      <td>20.3</td>\n",
       "    </tr>\n",
       "    <tr>\n",
       "      <th>283</th>\n",
       "      <td>3</td>\n",
       "      <td>0.370411</td>\n",
       "      <td>-0.369723</td>\n",
       "      <td>0.348290</td>\n",
       "      <td>0.984491</td>\n",
       "      <td>9</td>\n",
       "      <td>0</td>\n",
       "      <td>0</td>\n",
       "      <td>20.2</td>\n",
       "    </tr>\n",
       "  </tbody>\n",
       "</table>\n",
       "</div>"
      ],
      "text/plain": [
       "     cylinders  displacement  horsepower    weight  acceleration  model year  \\\n",
       "174          3     -0.215346   -0.179590  0.016051     -0.391125           5   \n",
       "359          1     -0.503423   -0.641343  0.306908      1.802425          11   \n",
       "250          4      1.196232    0.988374  0.903991     -0.874449           8   \n",
       "274          2     -0.599449   -0.016618 -0.166030      0.129379           8   \n",
       "283          3      0.370411   -0.369723  0.348290      0.984491           9   \n",
       "\n",
       "     origin_Asia  origin_Europe   mpg  \n",
       "174            0              0  18.0  \n",
       "359            0              1  28.1  \n",
       "250            0              0  19.4  \n",
       "274            0              1  20.3  \n",
       "283            0              0  20.2  "
      ]
     },
     "execution_count": 69,
     "metadata": {},
     "output_type": "execute_result"
    }
   ],
   "source": [
    "data_test.head()"
   ]
  },
  {
   "cell_type": "code",
   "execution_count": 74,
   "id": "ff8069c4",
   "metadata": {},
   "outputs": [],
   "source": [
    "data_train.rename(columns={'model year':'model_year'},inplace=True)"
   ]
  },
  {
   "cell_type": "code",
   "execution_count": 75,
   "id": "c70de4a2",
   "metadata": {},
   "outputs": [],
   "source": [
    "data_test.rename(columns={'model year':'model_year'},inplace=True)"
   ]
  },
  {
   "cell_type": "code",
   "execution_count": null,
   "id": "cc9cfaf1",
   "metadata": {},
   "outputs": [],
   "source": []
  },
  {
   "cell_type": "code",
   "execution_count": 76,
   "id": "91adf4d9",
   "metadata": {},
   "outputs": [],
   "source": [
    "import statsmodels.formula.api as smf"
   ]
  },
  {
   "cell_type": "code",
   "execution_count": 77,
   "id": "8a873936",
   "metadata": {},
   "outputs": [],
   "source": [
    "expr='mpg ~ cylinders+displacement+horsepower+weight+acceleration+model_year+origin_Asia+origin_Europe'"
   ]
  },
  {
   "cell_type": "code",
   "execution_count": 78,
   "id": "d6aacd6a",
   "metadata": {},
   "outputs": [],
   "source": [
    "lm1=smf.ols(formula=expr,data=data_train).fit()"
   ]
  },
  {
   "cell_type": "code",
   "execution_count": 79,
   "id": "37d3ad7c",
   "metadata": {
    "scrolled": false
   },
   "outputs": [
    {
     "name": "stdout",
     "output_type": "stream",
     "text": [
      "                            OLS Regression Results                            \n",
      "==============================================================================\n",
      "Dep. Variable:                    mpg   R-squared:                       0.820\n",
      "Model:                            OLS   Adj. R-squared:                  0.815\n",
      "Method:                 Least Squares   F-statistic:                     153.1\n",
      "Date:                Tue, 09 May 2023   Prob (F-statistic):           1.69e-95\n",
      "Time:                        17:41:45   Log-Likelihood:                -729.78\n",
      "No. Observations:                 278   AIC:                             1478.\n",
      "Df Residuals:                     269   BIC:                             1510.\n",
      "Df Model:                           8                                         \n",
      "Covariance Type:            nonrobust                                         \n",
      "=================================================================================\n",
      "                    coef    std err          t      P>|t|      [0.025      0.975]\n",
      "---------------------------------------------------------------------------------\n",
      "Intercept        20.4260      1.120     18.232      0.000      18.220      22.632\n",
      "cylinders        -1.2491      0.456     -2.737      0.007      -2.147      -0.351\n",
      "displacement      4.0102      0.969      4.140      0.000       2.103       5.917\n",
      "horsepower       -1.4960      0.655     -2.283      0.023      -2.786      -0.206\n",
      "weight           -5.7579      0.730     -7.890      0.000      -7.195      -4.321\n",
      "acceleration     -0.0148      0.333     -0.045      0.964      -0.670       0.640\n",
      "model_year        0.8201      0.063     13.023      0.000       0.696       0.944\n",
      "origin_Asia       2.5309      0.670      3.776      0.000       1.211       3.851\n",
      "origin_Europe     2.9743      0.692      4.299      0.000       1.612       4.337\n",
      "==============================================================================\n",
      "Omnibus:                       16.532   Durbin-Watson:                   2.243\n",
      "Prob(Omnibus):                  0.000   Jarque-Bera (JB):               22.757\n",
      "Skew:                           0.436   Prob(JB):                     1.14e-05\n",
      "Kurtosis:                       4.097   Cond. No.                         47.2\n",
      "==============================================================================\n",
      "\n",
      "Notes:\n",
      "[1] Standard Errors assume that the covariance matrix of the errors is correctly specified.\n"
     ]
    }
   ],
   "source": [
    "# F-statistics : H0:All the coeff are zero\n",
    "#                Ha: All the coeff are not zero for one of the ind variable\n",
    "print(lm1.summary())"
   ]
  },
  {
   "cell_type": "code",
   "execution_count": 72,
   "id": "9472a455",
   "metadata": {},
   "outputs": [],
   "source": [
    "# P_value Interpretation\n",
    "#H0: there is no relationship b/w the ind variable and the dependent variable\n",
    "#H0: there is relationship b/w the ind variable and the dependent variable"
   ]
  },
  {
   "cell_type": "code",
   "execution_count": 80,
   "id": "54936688",
   "metadata": {},
   "outputs": [
    {
     "data": {
      "text/plain": [
       "11.16024038857989"
      ]
     },
     "execution_count": 80,
     "metadata": {},
     "output_type": "execute_result"
    }
   ],
   "source": [
    "# MSE on train\n",
    "mean_squared_error(lm1.predict(data_train.drop('mpg',axis=1)),data_train['mpg'])"
   ]
  },
  {
   "cell_type": "code",
   "execution_count": 81,
   "id": "7d1bbef6",
   "metadata": {},
   "outputs": [
    {
     "data": {
      "text/plain": [
       "3.3406945967238446"
      ]
     },
     "execution_count": 81,
     "metadata": {},
     "output_type": "execute_result"
    }
   ],
   "source": [
    "# RMSE on train\n",
    "mean_squared_error(lm1.predict(data_train.drop('mpg',axis=1)),data_train['mpg'],squared=False)"
   ]
  },
  {
   "cell_type": "code",
   "execution_count": 82,
   "id": "67e690f4",
   "metadata": {},
   "outputs": [
    {
     "data": {
      "text/plain": [
       "9.059015065865953"
      ]
     },
     "execution_count": 82,
     "metadata": {},
     "output_type": "execute_result"
    }
   ],
   "source": [
    "# MSE on test\n",
    "mean_squared_error(lm1.predict(data_test.drop('mpg',axis=1)),data_test['mpg'])"
   ]
  },
  {
   "cell_type": "code",
   "execution_count": 83,
   "id": "51dbf3a5",
   "metadata": {},
   "outputs": [
    {
     "data": {
      "text/plain": [
       "3.009819772987405"
      ]
     },
     "execution_count": 83,
     "metadata": {},
     "output_type": "execute_result"
    }
   ],
   "source": [
    "# RMSE on train\n",
    "mean_squared_error(lm1.predict(data_test.drop('mpg',axis=1)),data_test['mpg'],squared=False)"
   ]
  },
  {
   "cell_type": "code",
   "execution_count": 84,
   "id": "84c0040d",
   "metadata": {},
   "outputs": [],
   "source": [
    "# Acceleration has no effect on R**2 ,so we are dropping d acceleration value \n",
    "# and calculating R2 again to check whether any effect is happening"
   ]
  },
  {
   "cell_type": "code",
   "execution_count": 85,
   "id": "15225722",
   "metadata": {},
   "outputs": [],
   "source": [
    "data_train.drop('acceleration',axis=1,inplace=True)"
   ]
  },
  {
   "cell_type": "code",
   "execution_count": 86,
   "id": "5b59d5c3",
   "metadata": {},
   "outputs": [],
   "source": [
    "data_test.drop('acceleration',axis=1,inplace=True)"
   ]
  },
  {
   "cell_type": "code",
   "execution_count": 87,
   "id": "b4ffc56a",
   "metadata": {},
   "outputs": [
    {
     "data": {
      "text/html": [
       "<div>\n",
       "<style scoped>\n",
       "    .dataframe tbody tr th:only-of-type {\n",
       "        vertical-align: middle;\n",
       "    }\n",
       "\n",
       "    .dataframe tbody tr th {\n",
       "        vertical-align: top;\n",
       "    }\n",
       "\n",
       "    .dataframe thead th {\n",
       "        text-align: right;\n",
       "    }\n",
       "</style>\n",
       "<table border=\"1\" class=\"dataframe\">\n",
       "  <thead>\n",
       "    <tr style=\"text-align: right;\">\n",
       "      <th></th>\n",
       "      <th>cylinders</th>\n",
       "      <th>displacement</th>\n",
       "      <th>horsepower</th>\n",
       "      <th>weight</th>\n",
       "      <th>model_year</th>\n",
       "      <th>origin_Asia</th>\n",
       "      <th>origin_Europe</th>\n",
       "      <th>mpg</th>\n",
       "    </tr>\n",
       "  </thead>\n",
       "  <tbody>\n",
       "    <tr>\n",
       "      <th>174</th>\n",
       "      <td>3</td>\n",
       "      <td>-0.215346</td>\n",
       "      <td>-0.179590</td>\n",
       "      <td>0.016051</td>\n",
       "      <td>5</td>\n",
       "      <td>0</td>\n",
       "      <td>0</td>\n",
       "      <td>18.0</td>\n",
       "    </tr>\n",
       "    <tr>\n",
       "      <th>359</th>\n",
       "      <td>1</td>\n",
       "      <td>-0.503423</td>\n",
       "      <td>-0.641343</td>\n",
       "      <td>0.306908</td>\n",
       "      <td>11</td>\n",
       "      <td>0</td>\n",
       "      <td>1</td>\n",
       "      <td>28.1</td>\n",
       "    </tr>\n",
       "    <tr>\n",
       "      <th>250</th>\n",
       "      <td>4</td>\n",
       "      <td>1.196232</td>\n",
       "      <td>0.988374</td>\n",
       "      <td>0.903991</td>\n",
       "      <td>8</td>\n",
       "      <td>0</td>\n",
       "      <td>0</td>\n",
       "      <td>19.4</td>\n",
       "    </tr>\n",
       "    <tr>\n",
       "      <th>274</th>\n",
       "      <td>2</td>\n",
       "      <td>-0.599449</td>\n",
       "      <td>-0.016618</td>\n",
       "      <td>-0.166030</td>\n",
       "      <td>8</td>\n",
       "      <td>0</td>\n",
       "      <td>1</td>\n",
       "      <td>20.3</td>\n",
       "    </tr>\n",
       "    <tr>\n",
       "      <th>283</th>\n",
       "      <td>3</td>\n",
       "      <td>0.370411</td>\n",
       "      <td>-0.369723</td>\n",
       "      <td>0.348290</td>\n",
       "      <td>9</td>\n",
       "      <td>0</td>\n",
       "      <td>0</td>\n",
       "      <td>20.2</td>\n",
       "    </tr>\n",
       "  </tbody>\n",
       "</table>\n",
       "</div>"
      ],
      "text/plain": [
       "     cylinders  displacement  horsepower    weight  model_year  origin_Asia  \\\n",
       "174          3     -0.215346   -0.179590  0.016051           5            0   \n",
       "359          1     -0.503423   -0.641343  0.306908          11            0   \n",
       "250          4      1.196232    0.988374  0.903991           8            0   \n",
       "274          2     -0.599449   -0.016618 -0.166030           8            0   \n",
       "283          3      0.370411   -0.369723  0.348290           9            0   \n",
       "\n",
       "     origin_Europe   mpg  \n",
       "174              0  18.0  \n",
       "359              1  28.1  \n",
       "250              0  19.4  \n",
       "274              1  20.3  \n",
       "283              0  20.2  "
      ]
     },
     "execution_count": 87,
     "metadata": {},
     "output_type": "execute_result"
    }
   ],
   "source": [
    "data_test.head()"
   ]
  },
  {
   "cell_type": "code",
   "execution_count": 88,
   "id": "c2c42e01",
   "metadata": {},
   "outputs": [],
   "source": [
    "expr='mpg ~ cylinders+displacement+horsepower+weight+model_year+origin_Asia+origin_Europe'"
   ]
  },
  {
   "cell_type": "code",
   "execution_count": 89,
   "id": "f1a70557",
   "metadata": {},
   "outputs": [],
   "source": [
    "lm2=smf.ols(formula=expr,data=data_train).fit()"
   ]
  },
  {
   "cell_type": "code",
   "execution_count": 90,
   "id": "d1538be0",
   "metadata": {},
   "outputs": [
    {
     "name": "stdout",
     "output_type": "stream",
     "text": [
      "                            OLS Regression Results                            \n",
      "==============================================================================\n",
      "Dep. Variable:                    mpg   R-squared:                       0.820\n",
      "Model:                            OLS   Adj. R-squared:                  0.815\n",
      "Method:                 Least Squares   F-statistic:                     175.6\n",
      "Date:                Tue, 09 May 2023   Prob (F-statistic):           1.23e-96\n",
      "Time:                        17:44:37   Log-Likelihood:                -729.78\n",
      "No. Observations:                 278   AIC:                             1476.\n",
      "Df Residuals:                     270   BIC:                             1505.\n",
      "Df Model:                           7                                         \n",
      "Covariance Type:            nonrobust                                         \n",
      "=================================================================================\n",
      "                    coef    std err          t      P>|t|      [0.025      0.975]\n",
      "---------------------------------------------------------------------------------\n",
      "Intercept        20.4271      1.118     18.271      0.000      18.226      22.628\n",
      "cylinders        -1.2508      0.454     -2.756      0.006      -2.144      -0.357\n",
      "displacement      4.0211      0.936      4.295      0.000       2.178       5.864\n",
      "horsepower       -1.4777      0.511     -2.891      0.004      -2.484      -0.472\n",
      "weight           -5.7747      0.624     -9.257      0.000      -7.003      -4.546\n",
      "model_year        0.8204      0.063     13.115      0.000       0.697       0.944\n",
      "origin_Asia       2.5327      0.668      3.793      0.000       1.218       3.847\n",
      "origin_Europe     2.9759      0.690      4.315      0.000       1.618       4.334\n",
      "==============================================================================\n",
      "Omnibus:                       16.409   Durbin-Watson:                   2.242\n",
      "Prob(Omnibus):                  0.000   Jarque-Bera (JB):               22.533\n",
      "Skew:                           0.434   Prob(JB):                     1.28e-05\n",
      "Kurtosis:                       4.091   Cond. No.                         46.8\n",
      "==============================================================================\n",
      "\n",
      "Notes:\n",
      "[1] Standard Errors assume that the covariance matrix of the errors is correctly specified.\n"
     ]
    }
   ],
   "source": [
    "print(lm2.summary())"
   ]
  },
  {
   "cell_type": "code",
   "execution_count": 84,
   "id": "85e0e00f",
   "metadata": {},
   "outputs": [],
   "source": [
    "# R2 doest not affected by dropping acceleration"
   ]
  },
  {
   "cell_type": "code",
   "execution_count": 85,
   "id": "8af12bc2",
   "metadata": {},
   "outputs": [
    {
     "data": {
      "text/html": [
       "<div>\n",
       "<style scoped>\n",
       "    .dataframe tbody tr th:only-of-type {\n",
       "        vertical-align: middle;\n",
       "    }\n",
       "\n",
       "    .dataframe tbody tr th {\n",
       "        vertical-align: top;\n",
       "    }\n",
       "\n",
       "    .dataframe thead th {\n",
       "        text-align: right;\n",
       "    }\n",
       "</style>\n",
       "<table border=\"1\" class=\"dataframe\">\n",
       "  <thead>\n",
       "    <tr style=\"text-align: right;\">\n",
       "      <th></th>\n",
       "      <th>mpg</th>\n",
       "      <th>cylinders</th>\n",
       "      <th>displacement</th>\n",
       "      <th>horsepower</th>\n",
       "      <th>weight</th>\n",
       "      <th>acceleration</th>\n",
       "      <th>model year</th>\n",
       "      <th>origin_Asia</th>\n",
       "      <th>origin_Europe</th>\n",
       "    </tr>\n",
       "  </thead>\n",
       "  <tbody>\n",
       "    <tr>\n",
       "      <th>count</th>\n",
       "      <td>398.000000</td>\n",
       "      <td>398.000000</td>\n",
       "      <td>3.980000e+02</td>\n",
       "      <td>3.980000e+02</td>\n",
       "      <td>3.980000e+02</td>\n",
       "      <td>3.980000e+02</td>\n",
       "      <td>398.000000</td>\n",
       "      <td>398.000000</td>\n",
       "      <td>398.000000</td>\n",
       "    </tr>\n",
       "    <tr>\n",
       "      <th>mean</th>\n",
       "      <td>23.514573</td>\n",
       "      <td>2.195980</td>\n",
       "      <td>-8.312725e-17</td>\n",
       "      <td>9.093787e-17</td>\n",
       "      <td>-9.902743e-17</td>\n",
       "      <td>-8.647466e-17</td>\n",
       "      <td>6.010050</td>\n",
       "      <td>0.198492</td>\n",
       "      <td>0.175879</td>\n",
       "    </tr>\n",
       "    <tr>\n",
       "      <th>std</th>\n",
       "      <td>7.815984</td>\n",
       "      <td>1.328541</td>\n",
       "      <td>1.001259e+00</td>\n",
       "      <td>1.001259e+00</td>\n",
       "      <td>1.001259e+00</td>\n",
       "      <td>1.001259e+00</td>\n",
       "      <td>3.697627</td>\n",
       "      <td>0.399367</td>\n",
       "      <td>0.381197</td>\n",
       "    </tr>\n",
       "    <tr>\n",
       "      <th>min</th>\n",
       "      <td>9.000000</td>\n",
       "      <td>0.000000</td>\n",
       "      <td>-1.204411e+00</td>\n",
       "      <td>-1.564849e+00</td>\n",
       "      <td>-1.604943e+00</td>\n",
       "      <td>-2.510317e+00</td>\n",
       "      <td>0.000000</td>\n",
       "      <td>0.000000</td>\n",
       "      <td>0.000000</td>\n",
       "    </tr>\n",
       "    <tr>\n",
       "      <th>25%</th>\n",
       "      <td>17.500000</td>\n",
       "      <td>1.000000</td>\n",
       "      <td>-8.563178e-01</td>\n",
       "      <td>-7.499903e-01</td>\n",
       "      <td>-8.828266e-01</td>\n",
       "      <td>-6.420819e-01</td>\n",
       "      <td>3.000000</td>\n",
       "      <td>0.000000</td>\n",
       "      <td>0.000000</td>\n",
       "    </tr>\n",
       "    <tr>\n",
       "      <th>50%</th>\n",
       "      <td>23.000000</td>\n",
       "      <td>1.000000</td>\n",
       "      <td>-4.314040e-01</td>\n",
       "      <td>-3.153993e-01</td>\n",
       "      <td>-1.973624e-01</td>\n",
       "      <td>-1.933672e-02</td>\n",
       "      <td>6.000000</td>\n",
       "      <td>0.000000</td>\n",
       "      <td>0.000000</td>\n",
       "    </tr>\n",
       "    <tr>\n",
       "      <th>75%</th>\n",
       "      <td>29.000000</td>\n",
       "      <td>4.000000</td>\n",
       "      <td>6.584879e-01</td>\n",
       "      <td>5.809448e-01</td>\n",
       "      <td>7.538337e-01</td>\n",
       "      <td>6.034085e-01</td>\n",
       "      <td>9.000000</td>\n",
       "      <td>0.000000</td>\n",
       "      <td>0.000000</td>\n",
       "    </tr>\n",
       "    <tr>\n",
       "      <th>max</th>\n",
       "      <td>46.600000</td>\n",
       "      <td>4.000000</td>\n",
       "      <td>2.511784e+00</td>\n",
       "      <td>2.577347e+00</td>\n",
       "      <td>2.565185e+00</td>\n",
       "      <td>2.471644e+00</td>\n",
       "      <td>12.000000</td>\n",
       "      <td>1.000000</td>\n",
       "      <td>1.000000</td>\n",
       "    </tr>\n",
       "  </tbody>\n",
       "</table>\n",
       "</div>"
      ],
      "text/plain": [
       "              mpg   cylinders  displacement    horsepower        weight  \\\n",
       "count  398.000000  398.000000  3.980000e+02  3.980000e+02  3.980000e+02   \n",
       "mean    23.514573    2.195980 -8.312725e-17  9.093787e-17 -9.902743e-17   \n",
       "std      7.815984    1.328541  1.001259e+00  1.001259e+00  1.001259e+00   \n",
       "min      9.000000    0.000000 -1.204411e+00 -1.564849e+00 -1.604943e+00   \n",
       "25%     17.500000    1.000000 -8.563178e-01 -7.499903e-01 -8.828266e-01   \n",
       "50%     23.000000    1.000000 -4.314040e-01 -3.153993e-01 -1.973624e-01   \n",
       "75%     29.000000    4.000000  6.584879e-01  5.809448e-01  7.538337e-01   \n",
       "max     46.600000    4.000000  2.511784e+00  2.577347e+00  2.565185e+00   \n",
       "\n",
       "       acceleration  model year  origin_Asia  origin_Europe  \n",
       "count  3.980000e+02  398.000000   398.000000     398.000000  \n",
       "mean  -8.647466e-17    6.010050     0.198492       0.175879  \n",
       "std    1.001259e+00    3.697627     0.399367       0.381197  \n",
       "min   -2.510317e+00    0.000000     0.000000       0.000000  \n",
       "25%   -6.420819e-01    3.000000     0.000000       0.000000  \n",
       "50%   -1.933672e-02    6.000000     0.000000       0.000000  \n",
       "75%    6.034085e-01    9.000000     0.000000       0.000000  \n",
       "max    2.471644e+00   12.000000     1.000000       1.000000  "
      ]
     },
     "execution_count": 85,
     "metadata": {},
     "output_type": "execute_result"
    }
   ],
   "source": [
    "df.describe()"
   ]
  },
  {
   "cell_type": "code",
   "execution_count": 91,
   "id": "ece50347",
   "metadata": {},
   "outputs": [],
   "source": [
    "# Predting a new record\n",
    "values=np.array([4,0.7,1.0,1.5,0.9,9,0,1])"
   ]
  },
  {
   "cell_type": "code",
   "execution_count": 92,
   "id": "e7c7b883",
   "metadata": {},
   "outputs": [],
   "source": [
    "LR=LinearRegression()"
   ]
  },
  {
   "cell_type": "code",
   "execution_count": 93,
   "id": "8d8f235d",
   "metadata": {},
   "outputs": [
    {
     "data": {
      "text/plain": [
       "LinearRegression()"
      ]
     },
     "execution_count": 93,
     "metadata": {},
     "output_type": "execute_result"
    }
   ],
   "source": [
    "LR.fit(x_train,y_train)"
   ]
  },
  {
   "cell_type": "code",
   "execution_count": 94,
   "id": "e15cea55",
   "metadata": {},
   "outputs": [
    {
     "data": {
      "text/plain": [
       "array([[18.4457668]])"
      ]
     },
     "execution_count": 94,
     "metadata": {},
     "output_type": "execute_result"
    }
   ],
   "source": [
    "LR.predict(values.reshape(1,-1))"
   ]
  },
  {
   "cell_type": "markdown",
   "id": "6c8e006c",
   "metadata": {},
   "source": [
    "# Regularization of Linear Regression Model"
   ]
  },
  {
   "cell_type": "code",
   "execution_count": 90,
   "id": "27973c2c",
   "metadata": {},
   "outputs": [],
   "source": [
    "# Linear Regression Model"
   ]
  },
  {
   "cell_type": "code",
   "execution_count": 95,
   "id": "1e99054e",
   "metadata": {},
   "outputs": [
    {
     "data": {
      "text/plain": [
       "LinearRegression()"
      ]
     },
     "execution_count": 95,
     "metadata": {},
     "output_type": "execute_result"
    }
   ],
   "source": [
    "regression_model=LinearRegression()\n",
    "regression_model.fit(x_train,y_train)"
   ]
  },
  {
   "cell_type": "code",
   "execution_count": 96,
   "id": "44e7b49c",
   "metadata": {},
   "outputs": [
    {
     "name": "stdout",
     "output_type": "stream",
     "text": [
      "The coeff for cylinders is -1.2490613244867814\n",
      "The coeff for displacement is 4.0102271534072695\n",
      "The coeff for horsepower is -1.495997151278866\n",
      "The coeff for weight is -5.757889400140118\n",
      "The coeff for acceleration is -0.01484402472233991\n",
      "The coeff for model year is 0.8200881927892256\n",
      "The coeff for origin_Asia is 2.5308880484445706\n",
      "The coeff for origin_Europe is 2.9742682001865512\n"
     ]
    }
   ],
   "source": [
    "for idx,col_name in enumerate(x_train.columns):\n",
    "    print('The coeff for {} is {}'.format(col_name,regression_model.coef_[0][idx]))"
   ]
  },
  {
   "cell_type": "code",
   "execution_count": 97,
   "id": "7aec0853",
   "metadata": {},
   "outputs": [],
   "source": [
    "predicted_train=regression_model.predict(x_train)\n",
    "predicted_test=regression_model.predict(x_test)"
   ]
  },
  {
   "cell_type": "code",
   "execution_count": 98,
   "id": "5cfdf2e3",
   "metadata": {},
   "outputs": [
    {
     "data": {
      "text/plain": [
       "0.8199303032592258"
      ]
     },
     "execution_count": 98,
     "metadata": {},
     "output_type": "execute_result"
    }
   ],
   "source": [
    "regression_model.score(x_train,y_train)"
   ]
  },
  {
   "cell_type": "code",
   "execution_count": 99,
   "id": "4267d3c9",
   "metadata": {},
   "outputs": [
    {
     "data": {
      "text/plain": [
       "0.8450574836372762"
      ]
     },
     "execution_count": 99,
     "metadata": {},
     "output_type": "execute_result"
    }
   ],
   "source": [
    "regression_model.score(x_test,y_test)"
   ]
  },
  {
   "cell_type": "markdown",
   "id": "a4cfb4ed",
   "metadata": {},
   "source": [
    "### Ridge & Lasso"
   ]
  },
  {
   "cell_type": "code",
   "execution_count": 100,
   "id": "fa3f68f5",
   "metadata": {},
   "outputs": [],
   "source": [
    "from sklearn.linear_model import Ridge\n",
    "from sklearn.linear_model import Lasso"
   ]
  },
  {
   "cell_type": "code",
   "execution_count": 101,
   "id": "bc8ba80f",
   "metadata": {},
   "outputs": [
    {
     "data": {
      "text/plain": [
       "Ridge(alpha=0.1)"
      ]
     },
     "execution_count": 101,
     "metadata": {},
     "output_type": "execute_result"
    }
   ],
   "source": [
    "ridge_model=Ridge(alpha=0.1)\n",
    "ridge_model.fit(x_train,y_train)"
   ]
  },
  {
   "cell_type": "code",
   "execution_count": 102,
   "id": "3aa796e4",
   "metadata": {},
   "outputs": [
    {
     "name": "stdout",
     "output_type": "stream",
     "text": [
      "The coeff for cylinders is -1.2371812584689617\n",
      "The coeff for displacement is 3.9466380346801615\n",
      "The coeff for horsepower is -1.496175052156544\n",
      "The coeff for weight is -5.722270664015404\n",
      "The coeff for acceleration is -0.02279774013488053\n",
      "The coeff for model year is 0.819092757090571\n",
      "The coeff for origin_Asia is 2.508951113500535\n",
      "The coeff for origin_Europe is 2.9471227313799995\n"
     ]
    }
   ],
   "source": [
    "for idx,col_name in enumerate(x_train.columns):\n",
    "    print('The coeff for {} is {}'.format(col_name,ridge_model.coef_[0][idx]))"
   ]
  },
  {
   "cell_type": "code",
   "execution_count": 103,
   "id": "1310e4e6",
   "metadata": {},
   "outputs": [
    {
     "data": {
      "text/plain": [
       "0.8199267925267955"
      ]
     },
     "execution_count": 103,
     "metadata": {},
     "output_type": "execute_result"
    }
   ],
   "source": [
    "ridge_model.score(x_train,y_train)"
   ]
  },
  {
   "cell_type": "code",
   "execution_count": 104,
   "id": "dc7e655c",
   "metadata": {},
   "outputs": [
    {
     "data": {
      "text/plain": [
       "0.8452897052895534"
      ]
     },
     "execution_count": 104,
     "metadata": {},
     "output_type": "execute_result"
    }
   ],
   "source": [
    "ridge_model.score(x_test,y_test)"
   ]
  },
  {
   "cell_type": "code",
   "execution_count": 105,
   "id": "a9982f00",
   "metadata": {},
   "outputs": [
    {
     "data": {
      "text/plain": [
       "Lasso(alpha=0.1)"
      ]
     },
     "execution_count": 105,
     "metadata": {},
     "output_type": "execute_result"
    }
   ],
   "source": [
    "# Lasso Regression Model---------L2\n",
    "Lasso_model=Lasso(alpha=0.1)    # Learning rate= tol=0.0001\n",
    "Lasso_model.fit(x_train,y_train)"
   ]
  },
  {
   "cell_type": "code",
   "execution_count": 106,
   "id": "4885276c",
   "metadata": {},
   "outputs": [
    {
     "name": "stdout",
     "output_type": "stream",
     "text": [
      "The coeff for cylinders is -0.29933277398627806\n",
      "The coeff for displacement is 0.0\n",
      "The coeff for horsepower is -0.3099213299420828\n",
      "The coeff for weight is -4.760117108094546\n",
      "The coeff for acceleration is -0.0\n",
      "The coeff for model year is 0.7737271511416278\n",
      "The coeff for origin_Asia is 0.44877354248001877\n",
      "The coeff for origin_Europe is 0.753427764685994\n"
     ]
    }
   ],
   "source": [
    "for idx,col_name in enumerate(x_train.columns):\n",
    "    print('The coeff for {} is {}'.format(col_name,Lasso_model.coef_[idx]))"
   ]
  },
  {
   "cell_type": "code",
   "execution_count": 107,
   "id": "f97a19ad",
   "metadata": {},
   "outputs": [
    {
     "data": {
      "text/plain": [
       "0.8038287941076312"
      ]
     },
     "execution_count": 107,
     "metadata": {},
     "output_type": "execute_result"
    }
   ],
   "source": [
    "Lasso_model.score(x_train,y_train)"
   ]
  },
  {
   "cell_type": "code",
   "execution_count": 108,
   "id": "d328c05a",
   "metadata": {},
   "outputs": [
    {
     "data": {
      "text/plain": [
       "0.8388751783542635"
      ]
     },
     "execution_count": 108,
     "metadata": {},
     "output_type": "execute_result"
    }
   ],
   "source": [
    "Lasso_model.score(x_test,y_test)"
   ]
  },
  {
   "cell_type": "markdown",
   "id": "38727ea8",
   "metadata": {},
   "source": [
    "# VIF - Variance Infaltion Factor"
   ]
  },
  {
   "cell_type": "code",
   "execution_count": 105,
   "id": "49910ba5",
   "metadata": {},
   "outputs": [],
   "source": [
    "# If we dont have any industry knowledge then we go for VIF "
   ]
  },
  {
   "cell_type": "code",
   "execution_count": 109,
   "id": "6f81f541",
   "metadata": {},
   "outputs": [],
   "source": [
    "from statsmodels.stats.outliers_influence import variance_inflation_factor"
   ]
  },
  {
   "cell_type": "code",
   "execution_count": 110,
   "id": "30611c46",
   "metadata": {},
   "outputs": [
    {
     "data": {
      "text/plain": [
       "array([[ 4.        ,  1.0906037 ,  0.71675448, ...,  0.        ,\n",
       "         0.        ,  0.        ],\n",
       "       [ 4.        ,  1.5035143 ,  1.6674224 , ...,  0.        ,\n",
       "         0.        ,  0.        ],\n",
       "       [ 4.        ,  1.19623199,  1.25999329, ...,  0.        ,\n",
       "         0.        ,  0.        ],\n",
       "       ...,\n",
       "       [ 1.        , -0.56103873, -0.53269479, ..., 12.        ,\n",
       "         0.        ,  0.        ],\n",
       "       [ 1.        , -0.70507731, -0.6685045 , ..., 12.        ,\n",
       "         0.        ,  0.        ],\n",
       "       [ 1.        , -0.71467988, -0.58701867, ..., 12.        ,\n",
       "         0.        ,  0.        ]])"
      ]
     },
     "execution_count": 110,
     "metadata": {},
     "output_type": "execute_result"
    }
   ],
   "source": [
    "x.values"
   ]
  },
  {
   "cell_type": "code",
   "execution_count": 111,
   "id": "5807a867",
   "metadata": {},
   "outputs": [
    {
     "data": {
      "text/plain": [
       "8"
      ]
     },
     "execution_count": 111,
     "metadata": {},
     "output_type": "execute_result"
    }
   ],
   "source": [
    "x.shape[1]"
   ]
  },
  {
   "cell_type": "code",
   "execution_count": 112,
   "id": "987537ef",
   "metadata": {},
   "outputs": [
    {
     "name": "stdout",
     "output_type": "stream",
     "text": [
      "cylinders 6.266829028013232\n",
      "displacement 16.65810671244766\n",
      "horsepower 11.056730765200188\n",
      "weight 11.58702375000288\n",
      "acceleration 2.829579531949127\n",
      "model year 4.0474629045218995\n",
      "origin_Asia 2.0939270769567764\n",
      "origin_Europe 1.8470022422139647\n"
     ]
    }
   ],
   "source": [
    "#Variable having VIF>10 are causing multicolinearity\n",
    "\n",
    "VIF=[variance_inflation_factor(x.values,ix) for ix in range(x.shape[1])]\n",
    "i=0\n",
    "for column in x.columns:\n",
    "    if i<10:\n",
    "        print(column,VIF[i])\n",
    "        i=i+1"
   ]
  },
  {
   "cell_type": "code",
   "execution_count": 110,
   "id": "d16f0e55",
   "metadata": {},
   "outputs": [],
   "source": [
    "# Here we drop variable('Displacement') and again check VIF until there is no variable greater than 10 \n",
    "# and we have to drop it one by one"
   ]
  },
  {
   "cell_type": "code",
   "execution_count": 111,
   "id": "8da61da2",
   "metadata": {},
   "outputs": [],
   "source": [
    "# Multicolinearity-Very strong relationship between two variables \n",
    "# which causes problem to have an impact on R2"
   ]
  },
  {
   "cell_type": "markdown",
   "id": "d9e95cbb",
   "metadata": {},
   "source": [
    "# Decision Tree Regression"
   ]
  },
  {
   "cell_type": "code",
   "execution_count": 112,
   "id": "80bd6ef4",
   "metadata": {},
   "outputs": [],
   "source": [
    "from sklearn.tree import DecisionTreeRegressor"
   ]
  },
  {
   "cell_type": "code",
   "execution_count": 113,
   "id": "6f12fece",
   "metadata": {},
   "outputs": [],
   "source": [
    "dt_model=DecisionTreeRegressor(max_depth=3)"
   ]
  },
  {
   "cell_type": "code",
   "execution_count": 114,
   "id": "55caeeef",
   "metadata": {},
   "outputs": [
    {
     "data": {
      "text/plain": [
       "DecisionTreeRegressor(max_depth=3)"
      ]
     },
     "execution_count": 114,
     "metadata": {},
     "output_type": "execute_result"
    }
   ],
   "source": [
    "dt_model.fit(x_train, y_train)"
   ]
  },
  {
   "cell_type": "code",
   "execution_count": 115,
   "id": "1eaa1f90",
   "metadata": {},
   "outputs": [
    {
     "data": {
      "text/plain": [
       "0.8252713272277856"
      ]
     },
     "execution_count": 115,
     "metadata": {},
     "output_type": "execute_result"
    }
   ],
   "source": [
    "dt_model.score(x_train,y_train)"
   ]
  },
  {
   "cell_type": "code",
   "execution_count": 116,
   "id": "33a51cba",
   "metadata": {},
   "outputs": [],
   "source": [
    "from sklearn import metrics"
   ]
  },
  {
   "cell_type": "code",
   "execution_count": 117,
   "id": "1e9077f2",
   "metadata": {},
   "outputs": [
    {
     "data": {
      "text/plain": [
       "3.2907777109502656"
      ]
     },
     "execution_count": 117,
     "metadata": {},
     "output_type": "execute_result"
    }
   ],
   "source": [
    "# \n",
    "predicted_train=dt_model.predict(x_train)\n",
    "metrics.mean_squared_error(y_train,predicted_train,squared=False)"
   ]
  },
  {
   "cell_type": "code",
   "execution_count": 118,
   "id": "fad1b01f",
   "metadata": {},
   "outputs": [
    {
     "data": {
      "text/plain": [
       "0.7892652919447365"
      ]
     },
     "execution_count": 118,
     "metadata": {},
     "output_type": "execute_result"
    }
   ],
   "source": [
    "dt_model.score(x_test,y_test)"
   ]
  },
  {
   "cell_type": "code",
   "execution_count": 119,
   "id": "c15f9e5a",
   "metadata": {},
   "outputs": [
    {
     "data": {
      "text/plain": [
       "3.5101301803507403"
      ]
     },
     "execution_count": 119,
     "metadata": {},
     "output_type": "execute_result"
    }
   ],
   "source": [
    "# \n",
    "predicted_test=dt_model.predict(x_test)\n",
    "metrics.mean_squared_error(y_test,predicted_test,squared=False)"
   ]
  },
  {
   "cell_type": "code",
   "execution_count": 120,
   "id": "b900faf7",
   "metadata": {},
   "outputs": [
    {
     "data": {
      "text/plain": [
       "array([0.68861316, 0.        , 0.18160969, 0.        , 0.        ,\n",
       "       0.12977715, 0.        , 0.        ])"
      ]
     },
     "execution_count": 120,
     "metadata": {},
     "output_type": "execute_result"
    }
   ],
   "source": [
    "dt_model.feature_importances_"
   ]
  },
  {
   "cell_type": "code",
   "execution_count": 121,
   "id": "2dd7b56a",
   "metadata": {},
   "outputs": [
    {
     "name": "stdout",
     "output_type": "stream",
     "text": [
      "                    Imp\n",
      "cylinders      0.688613\n",
      "horsepower     0.181610\n",
      "model year     0.129777\n",
      "displacement   0.000000\n",
      "weight         0.000000\n",
      "acceleration   0.000000\n",
      "origin_Asia    0.000000\n",
      "origin_Europe  0.000000\n"
     ]
    }
   ],
   "source": [
    "print(pd.DataFrame(dt_model.feature_importances_,columns=[\"Imp\"],\n",
    "                   index=x_train.columns).sort_values('Imp',ascending=False))"
   ]
  },
  {
   "cell_type": "code",
   "execution_count": null,
   "id": "795739b8",
   "metadata": {},
   "outputs": [],
   "source": []
  },
  {
   "cell_type": "code",
   "execution_count": null,
   "id": "9be8a23b",
   "metadata": {},
   "outputs": [],
   "source": []
  },
  {
   "cell_type": "code",
   "execution_count": null,
   "id": "a5bf70dd",
   "metadata": {},
   "outputs": [],
   "source": []
  }
 ],
 "metadata": {
  "kernelspec": {
   "display_name": "Python 3 (ipykernel)",
   "language": "python",
   "name": "python3"
  },
  "language_info": {
   "codemirror_mode": {
    "name": "ipython",
    "version": 3
   },
   "file_extension": ".py",
   "mimetype": "text/x-python",
   "name": "python",
   "nbconvert_exporter": "python",
   "pygments_lexer": "ipython3",
   "version": "3.9.13"
  }
 },
 "nbformat": 4,
 "nbformat_minor": 5
}
