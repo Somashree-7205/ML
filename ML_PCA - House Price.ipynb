{
 "cells": [
  {
   "cell_type": "markdown",
   "metadata": {
    "id": "NskMyxIPq92q"
   },
   "source": [
    "  <tr>\n",
    "        <td>\n",
    "            <div align=\"left\">\n",
    "                <font size=25px>\n",
    "                    <b>Dimension Reduction Techniques (PCA)\n",
    "                    </b>\n",
    "                </font>\n",
    "            </div>\n",
    "        </td>\n",
    "    </tr>"
   ]
  },
  {
   "cell_type": "markdown",
   "metadata": {
    "id": "5nWBrEJ4q92z"
   },
   "source": [
    "## Problem Statement:\n",
    "A key challenge for property sellers is to determine the sale price of the property. The ability to predict the exact property value is beneficial for property investors as well as for buyers to plan their finances according to the price trend. The property prices depend on the number of features like the property area, basement square footage, year built, number of bedrooms, and others. The prices can be predicted more accurately if the number of predictors is less. Several dimension reduction techniques are being applied to decrease this number of predictors."
   ]
  },
  {
   "cell_type": "markdown",
   "metadata": {
    "id": "kJKA1Aa1q921"
   },
   "source": [
    "## Data Definition:\n",
    "\n",
    "Input variables:\n",
    "\n",
    "**1.MSSubClass:** Identifies the type of dwelling involved in the sale\n",
    "\n",
    "        20\t1-STORY 1946 & NEWER ALL STYLES\n",
    "        30\t1-STORY 1945 & OLDER\n",
    "        40\t1-STORY W/FINISHED ATTIC ALL AGES\n",
    "        45\t1-1/2 STORY - UNFINISHED ALL AGES\n",
    "        50\t1-1/2 STORY FINISHED ALL AGES\n",
    "        60\t2-STORY 1946 & NEWER\n",
    "        70\t2-STORY 1945 & OLDER\n",
    "        75\t2-1/2 STORY ALL AGES\n",
    "        80\tSPLIT OR MULTI-LEVEL\n",
    "        85\tSPLIT FOYER\n",
    "        90\tDUPLEX - ALL STYLES AND AGES\n",
    "       120\t1-STORY PUD (Planned Unit Development) - 1946 & NEWER\n",
    "       150\t1-1/2 STORY PUD - ALL AGES\n",
    "       160\t2-STORY PUD - 1946 & NEWER\n",
    "       180\tPUD - MULTILEVEL - INCL SPLIT LEV/FOYER\n",
    "       190\t2 FAMILY CONVERSION - ALL STYLES AND AGES\n",
    "\n",
    "**2.MSZoning:** Identifies the general zoning classification of the sale\n",
    "\t\t\n",
    "       A\t Agriculture\n",
    "       C\t Commercial\n",
    "       FV\tFloating Village Residential\n",
    "       I\t Industrial\n",
    "       RH\tResidential High Density\n",
    "       RL\tResidential Low Density\n",
    "       RP\tResidential Low Density Park \n",
    "       RM\tResidential Medium Density\n",
    "\t\n",
    "**3.LotFrontage:** Linear feet of street connected to property\n",
    "\n",
    "**4.LotArea:** Lot size is the lot or parcel side where it adjoins a street, boulevard or access way\n",
    "\n",
    "**5.Street:** Type of road access to property\n",
    "\n",
    "       Grvl\tGravel\t\n",
    "       Pave\tPaved\n",
    "       \t\n",
    "**6.Alley:** Type of alley access to property\n",
    "\n",
    "       Grvl\tGravel\n",
    "       Pave\tPaved\n",
    "       NA \t No alley access\n",
    "\t\t\n",
    "**7.LotShape:** General shape of property\n",
    "\n",
    "       Reg\tRegular\t\n",
    "       IR1\tSlightly irregular\n",
    "       IR2\tModerately Irregular\n",
    "       IR3\tIrregular\n",
    "       \n",
    "**8.LandContour:** Flatness of the property\n",
    "\n",
    "       Lvl\tNear Flat/Level\t\n",
    "       Bnk\tBanked - Quick and significant rise from street grade to building\n",
    "       HLS\tHillside - Significant slope from side to side\n",
    "       Low\tDepression\n",
    "\t\t\n",
    "**9.Utilities:** Type of utilities available\n",
    "\t\t\n",
    "       AllPub\tAll public Utilities (E,G,W,& S)\t\n",
    "       NoSewr\tElectricity, Gas, and Water (Septic Tank)\n",
    "       NoSeWa\tElectricity and Gas Only\n",
    "       ELO\t   Electricity only\t\n",
    "\t\n",
    "**10.LotConfig:** Lot configuration\n",
    "\n",
    "       Inside\tInside lot\n",
    "       Corner\tCorner lot\n",
    "       CulDSac   Cul-de-sac\n",
    "       FR2\t   Frontage on 2 sides of property\n",
    "       FR3\t   Frontage on 3 sides of property\n",
    "\t\n",
    "**11.LandSlope:** Slope of property\n",
    "\t\t\n",
    "       Gtl\tGentle slope\n",
    "       Mod\tModerate Slope\t\n",
    "       Sev\tSevere Slope\n",
    "\t\n",
    "**12.Neighborhood:** Physical locations within Ames city limits\n",
    "\n",
    "       Blmngtn\tBloomington Heights\n",
    "       Blueste\tBluestem\n",
    "       BrDale\t Briardale\n",
    "       BrkSide\tBrookside\n",
    "       ClearCr\tClear Creek\n",
    "       CollgCr\tCollege Creek\n",
    "       Crawfor\tCrawford\n",
    "       Edwards\tEdwards\n",
    "       Gilbert\tGilbert\n",
    "       IDOTRR\t Iowa DOT and Rail Road\n",
    "       MeadowV\tMeadow Village\n",
    "       Mitchel\tMitchell\n",
    "       Names\t  North Ames\n",
    "       NoRidge\tNorthridge\n",
    "       NPkVill\tNorthpark Villa\n",
    "       NridgHt\tNorthridge Heights\n",
    "       NWAmes\t Northwest Ames\n",
    "       OldTown\tOld Town\n",
    "       SWISU\t  South & West of Iowa State University\n",
    "       Sawyer\t Sawyer\n",
    "       SawyerW\tSawyer West\n",
    "       Somerst\tSomerset\n",
    "       StoneBr\tStone Brook\n",
    "       Timber\t Timberland\n",
    "       Veenker\tVeenker\n",
    "\t\t\t\n",
    "**13.Condition1:** Proximity to various conditions\n",
    "\t\n",
    "       Artery  Adjacent to arterial street\n",
    "       Feedr   Adjacent to feeder street\t\n",
    "       Norm\tNormal\t\n",
    "       RRNn\tWithin 200' of North-South Railroad\n",
    "       RRAn\tAdjacent to North-South Railroad\n",
    "       PosN\tNear positive off-site feature--park, greenbelt, etc.\n",
    "       PosA\tAdjacent to postive off-site feature\n",
    "       RRNe\tWithin 200' of East-West Railroad\n",
    "       RRAe\tAdjacent to East-West Railroad\n",
    "\t\n",
    "**14.Condition2:** Proximity to various conditions (if more than one is present)\n",
    "\t\t\n",
    "       Artery      Adjacent to arterial street\n",
    "       Feedr       Adjacent to feeder street\t\n",
    "       Norm\t    Normal\t\n",
    "       RRNn\t    Within 200' of North-South Railroad\n",
    "       RRAn\t    Adjacent to North-South Railroad\n",
    "       PosN\t    Near positive off-site feature--park, greenbelt, etc.\n",
    "       PosA\t    Adjacent to postive off-site feature\n",
    "       RRNe\t    Within 200' of East-West Railroad\n",
    "       RRAe\t    Adjacent to East-West Railroad\n",
    "\t\n",
    "**15.BldgType:** Type of dwelling\n",
    "\t\t\n",
    "       1Fam\t  Single-family Detached\t\n",
    "       2FmCon\tTwo-family Conversion; originally built as one-family dwelling\n",
    "       Duplx\t Duplex\n",
    "       TwnhsE\tTownhouse End Unit\n",
    "       TwnhsI\tTownhouse Inside Unit\n",
    "\t\n",
    "**16.HouseStyle:** Style of dwelling\n",
    "\t\n",
    "       1Story\tOne story\n",
    "       1.5Fin\tOne and one-half story: 2nd level finished\n",
    "       1.5Unf\tOne and one-half story: 2nd level unfinished\n",
    "       2Story\tTwo story\n",
    "       2.5Fin\tTwo and one-half story: 2nd level finished\n",
    "       2.5Unf\tTwo and one-half story: 2nd level unfinished\n",
    "       SFoyer\tSplit Foyer\n",
    "       SLvl\t  Split Level\n",
    "\t\n",
    "**17.OverallQual:** Rates the overall material and finish of the house\n",
    "\n",
    "       10   Very Excellent\n",
    "       9\tExcellent\n",
    "       8\tVery Good\n",
    "       7\tGood\n",
    "       6\tAbove Average\n",
    "       5\tAverage\n",
    "       4\tBelow Average\n",
    "       3\tFair\n",
    "       2\tPoor\n",
    "       1\tVery Poor\n",
    "\t\n",
    "**18.OverallCond:** Rates the overall condition of the house\n",
    "\n",
    "       10   Very Excellent\n",
    "       9\tExcellent\n",
    "       8\tVery Good\n",
    "       7\tGood\n",
    "       6\tAbove Average\t\n",
    "       5\tAverage\n",
    "       4\tBelow Average\t\n",
    "       3\tFair\n",
    "       2\tPoor\n",
    "       1\tVery Poor\n",
    "\t\t\n",
    "**19.YearBuilt:** Original construction date\n",
    "\n",
    "**20.YearRemodAdd:** Remodel date (same as construction date if no remodeling or additions)\n",
    "\n",
    "**21.RoofStyle:** Type of roof\n",
    "\n",
    "       Flat\t   Flat\n",
    "       Gable\t  Gable\n",
    "       Gambrel\tGabrel (Barn)\n",
    "       Hip\t    Hip\n",
    "       Mansard\tMansard\n",
    "       Shed\t   Shed\n",
    "\t\t\n",
    "**22.RoofMatl:** Roof material\n",
    "\n",
    "       ClyTile\tClay or Tile\n",
    "       CompShg\tStandard (Composite) Shingle\n",
    "       Membran\tMembrane\n",
    "       Metal\t  Metal\n",
    "       Roll\t   Roll\n",
    "       Tar&Grv\tGravel & Tar\n",
    "       WdShake\tWood Shakes\n",
    "       WdShngl\tWood Shingles\n",
    "\t\t\n",
    "**23.Exterior1st:** Exterior covering on house\n",
    "\n",
    "       AsbShng\tAsbestos Shingles\n",
    "       AsphShn\tAsphalt Shingles\n",
    "       BrkComm\tBrick Common\n",
    "       BrkFace\tBrick Face\n",
    "       CBlock\t Cinder Block\n",
    "       CemntBd\tCement Board\n",
    "       HdBoard\tHard Board\n",
    "       ImStucc\tImitation Stucco\n",
    "       MetalSd\tMetal Siding\n",
    "       Other\t  Other\n",
    "       Plywood\tPlywood\n",
    "       PreCast\tPreCast\t\n",
    "       Stone\t  Stone\n",
    "       Stucco\t Stucco\n",
    "       VinylSd\tVinyl Siding\n",
    "       Wd Sdng\tWood Siding\n",
    "       WdShing\tWood Shingles\n",
    "\t\n",
    "**24.Exterior2nd:** Exterior covering on house (if more than one material)\n",
    "\n",
    "       AsbShng\tAsbestos Shingles\n",
    "       AsphShn\tAsphalt Shingles\n",
    "       BrkComm\tBrick Common\n",
    "       BrkFace\tBrick Face\n",
    "       CBlock\t Cinder Block\n",
    "       CemntBd\tCement Board\n",
    "       HdBoard\tHard Board\n",
    "       ImStucc\tImitation Stucco\n",
    "       MetalSd\tMetal Siding\n",
    "       Other\t  Other\n",
    "       Plywood\tPlywood\n",
    "       PreCast\tPreCast\n",
    "       Stone\t  Stone\n",
    "       Stucco     Stucco\n",
    "       VinylSd\tVinyl Siding\n",
    "       Wd Sdng\tWood Siding\n",
    "       WdShing\tWood Shingles\n",
    "\t\n",
    "**25.MasVnrType:** Masonry veneer type\n",
    "\n",
    "       BrkCmn     Brick Common\n",
    "       BrkFace\tBrick Face\n",
    "       CBlock\t Cinder Block\n",
    "       None\t   None\n",
    "       Stone      Stone\n",
    "\t\n",
    "**26.MasVnrArea:** Masonry veneer area in square feet\n",
    "\n",
    "**27.ExterQual:** Evaluates the quality of the material on the exterior\n",
    "\t\t\n",
    "       Ex\tExcellent\n",
    "       Gd\tGood\n",
    "       TA\tAverage/Typical\n",
    "       Fa\tFair\n",
    "       Po\tPoor\n",
    "\t\t\n",
    "**28.ExterCond:** Evaluates the present condition of the material on the exterior\n",
    "\t\t\n",
    "       Ex\tExcellent\n",
    "       Gd\tGood\n",
    "       TA\tAverage/Typical\n",
    "       Fa\tFair\n",
    "       Po\tPoor\n",
    "\t\t\n",
    "**29.Foundation:** Type of foundation\n",
    "\t\t\n",
    "       BrkTil\tBrick & Tile\n",
    "       CBlock\tCinder Block\n",
    "       PConc     Poured Contrete\t\n",
    "       Slab\t  Slab\n",
    "       Stone\t Stone\n",
    "       Wood\t  Wood\n",
    "\t\t\n",
    "**30.BsmtQual:** Evaluates the height of the basement\n",
    "\n",
    "       Ex\tExcellent (100+ inches)\t\n",
    "       Gd\tGood (90-99 inches)\n",
    "       TA\tTypical (80-89 inches)\n",
    "       Fa\tFair (70-79 inches)\n",
    "       Po\tPoor (<70 inches\n",
    "       NA\tNo Basement\n",
    "\t\t\n",
    "**31.BsmtCond:** Evaluates the general condition of the basement\n",
    "\n",
    "       Ex\tExcellent\n",
    "       Gd\tGood\n",
    "       TA\tTypical - slight dampness allowed\n",
    "       Fa\tFair - dampness or some cracking or settling\n",
    "       Po\tPoor - Severe cracking, settling, or wetness\n",
    "       NA\tNo Basement\n",
    "\t\n",
    "**32.BsmtExposure:** Refers to walkout or garden level walls\n",
    "\n",
    "       Gd\tGood Exposure\n",
    "       Av\tAverage Exposure (split levels or foyers typically score average or above)\t\n",
    "       Mn\tMimimum Exposure\n",
    "       No\tNo Exposure\n",
    "       NA\tNo Basement\n",
    "\t\n",
    "**33.BsmtFinType1:** Rating of basement finished area\n",
    "\n",
    "       GLQ\tGood Living Quarters\n",
    "       ALQ\tAverage Living Quarters\n",
    "       BLQ\tBelow Average Living Quarters\t\n",
    "       Rec\tAverage Rec Room\n",
    "       LwQ\tLow Quality\n",
    "       Unf\tUnfinshed\n",
    "       NA\t No Basement\n",
    "\t\t\n",
    "**34.BsmtFinSF1:** Type 1 finished square feet\n",
    "\n",
    "**35.BsmtFinType2:** Rating of basement finished area (if multiple types)\n",
    "\n",
    "       GLQ\tGood Living Quarters\n",
    "       ALQ\tAverage Living Quarters\n",
    "       BLQ\tBelow Average Living Quarters\t\n",
    "       Rec\tAverage Rec Room\n",
    "       LwQ\tLow Quality\n",
    "       Unf\tUnfinshed\n",
    "       NA\t No Basement\n",
    "\n",
    "**36.BsmtFinSF2:** Type 2 finished square feet\n",
    "\n",
    "**37.BsmtUnfSF:** Unfinished square feet of basement area\n",
    "\n",
    "**38.TotalBsmtSF:** Total square feet of basement area\n",
    "\n",
    "**39.Heating:** Type of heating\n",
    "\t\t\n",
    "       Floor   Floor Furnace\n",
    "       GasA\tGas forced warm air furnace\n",
    "       GasW\tGas hot water or steam heat\n",
    "       Grav\tGravity furnace\t\n",
    "       OthW\tHot water or steam heat other than gas\n",
    "       Wall\tWall furnace\n",
    "\t\t\n",
    "**40.HeatingQC:** Heating quality and condition\n",
    "\n",
    "       Ex\tExcellent\n",
    "       Gd\tGood\n",
    "       TA\tAverage/Typical\n",
    "       Fa\tFair\n",
    "       Po\tPoor\n",
    "\t\t\n",
    "**41.CentralAir:** Central air conditioning\n",
    "\n",
    "       N\tNo\n",
    "       Y\tYes\n",
    "\t\t\n",
    "**42.Electrical:** Electrical system\n",
    "\n",
    "       SBrkr\tStandard Circuit Breakers & Romex\n",
    "       FuseA\tFuse Box over 60 AMP and all Romex wiring (Average)\t\n",
    "       FuseF\t60 AMP Fuse Box and mostly Romex wiring (Fair)\n",
    "       FuseP\t60 AMP Fuse Box and mostly knob & tube wiring (poor)\n",
    "       Mix\t  Mixed\n",
    "\t\t\n",
    "**43.1stFlrSF:** First Floor square feet\n",
    " \n",
    "**44.2ndFlrSF:** Second floor square feet\n",
    "\n",
    "**45.LowQualFinSF:** Low quality finished square feet (all floors)\n",
    "\n",
    "**46.GrLivArea:** Above grade (ground) living area square feet\n",
    "\n",
    "**47.BsmtFullBath:** Basement full bathrooms\n",
    "\n",
    "**48.BsmtHalfBath:** Basement half bathrooms\n",
    "\n",
    "**49.FullBath:** Full bathrooms above grade\n",
    "\n",
    "**50.HalfBath:** Half baths above grade\n",
    "\n",
    "**51.BedroomAbvGr:** Bedrooms above grade (does NOT include basement bedrooms)\n",
    "\n",
    "**52.KitchenAbvGr:** Kitchens above grade\n",
    "\n",
    "**53.KitchenQual:** Kitchen quality\n",
    "\n",
    "       Ex\tExcellent\n",
    "       Gd\tGood\n",
    "       TA\tTypical/Average\n",
    "       Fa\tFair\n",
    "       Po\tPoor\n",
    "       \t\n",
    "**54.TotRmsAbvGrd:** Total rooms above grade (does not include bathrooms)\n",
    "\n",
    "**55.Functional:** Home functionality (Assume typical unless deductions are warranted)\n",
    "\n",
    "       Typ\tTypical Functionality\n",
    "       Min1   Minor Deductions 1\n",
    "       Min2   Minor Deductions 2\n",
    "       Mod\tModerate Deductions\n",
    "       Maj1   Major Deductions 1\n",
    "       Maj2   Major Deductions 2\n",
    "       Sev\tSeverely Damaged\n",
    "       Sal\tSalvage only\n",
    "\t\t\n",
    "**56.Fireplaces:** Number of fireplaces\n",
    "\n",
    "**57.FireplaceQu:** Fireplace quality\n",
    "\n",
    "       Ex\tExcellent - Exceptional Masonry Fireplace\n",
    "       Gd\tGood - Masonry Fireplace in main level\n",
    "       TA\tAverage - Prefabricated Fireplace in main living area or Masonry Fireplace in basement\n",
    "       Fa\tFair - Prefabricated Fireplace in basement\n",
    "       Po\tPoor - Ben Franklin Stove\n",
    "       NA\tNo Fireplace\n",
    "\t\t\n",
    "**58.GarageType:** Garage location\n",
    "\t\t\n",
    "       2Types\tMore than one type of garage\n",
    "       Attchd\tAttached to home\n",
    "       Basment   Basement Garage\n",
    "       BuiltIn   Built-In (Garage part of house - typically has room above garage)\n",
    "       CarPort   Car Port\n",
    "       Detchd\tDetached from home\n",
    "       NA\t    No Garage\n",
    "\t\t\n",
    "**59.GarageYrBlt:** Year garage was built\n",
    "\t\t\n",
    "**60.GarageFinish:** Interior finish of the garage\n",
    "\n",
    "       Fin\tFinished\n",
    "       RFn\tRough Finished\t\n",
    "       Unf\tUnfinished\n",
    "       NA\t No Garage\n",
    "\t\t\n",
    "**61.GarageCars:** Size of garage in car capacity\n",
    "\n",
    "**62.GarageArea:** Size of garage in square feet\n",
    "\n",
    "**63.GarageQual:** Garage quality\n",
    "\n",
    "       Ex\tExcellent\n",
    "       Gd\tGood\n",
    "       TA\tTypical/Average\n",
    "       Fa\tFair\n",
    "       Po\tPoor\n",
    "       NA\tNo Garage\n",
    "\t\t\n",
    "**64.GarageCond:** Garage condition\n",
    "\n",
    "       Ex\tExcellent\n",
    "       Gd\tGood\n",
    "       TA\tTypical/Average\n",
    "       Fa\tFair\n",
    "       Po\tPoor\n",
    "       NA\tNo Garage\n",
    "\t\t\n",
    "**65.PavedDrive:** Paved driveway\n",
    "\n",
    "       Y\tPaved \n",
    "       P\tPartial Pavement\n",
    "       N\tDirt/Gravel\n",
    "\t\t\n",
    "**66.WoodDeckSF:** Wood deck area in square feet\n",
    "\n",
    "**67.OpenPorchSF:** Open porch area in square feet\n",
    "\n",
    "**68.EnclosedPorch:** Enclosed porch area in square feet\n",
    "\n",
    "**69.3SsnPorch:** Three season porch area in square feet\n",
    "\n",
    "**70.ScreenPorch:** Screen porch area in square feet\n",
    "\n",
    "**71.PoolArea:** Pool area in square feet\n",
    "\n",
    "**72.PoolQC:** Pool quality\n",
    "\t\t\n",
    "       Ex\tExcellent\n",
    "       Gd\tGood\n",
    "       TA\tAverage/Typical\n",
    "       Fa\tFair\n",
    "       NA\tNo Pool\n",
    "\t\t\n",
    "**73.Fence:** Fence quality\n",
    "\t\t\n",
    "       GdPrv\tGood Privacy\n",
    "       MnPrv\tMinimum Privacy\n",
    "       GdWo\t Good Wood\n",
    "       MnWw\t Minimum Wood/Wire\n",
    "       NA\t   No Fence\n",
    "\t\n",
    "**74.MiscFeature:** Miscellaneous feature not covered in other categories\n",
    "\t\t\n",
    "       Elev\tElevator\n",
    "       Gar2\t2nd Garage (if not described in garage section)\n",
    "       Othr\tOther\n",
    "       Shed\tShed (over 100 SF)\n",
    "       TenC\tTennis Court\n",
    "       NA\t  None\n",
    "\t\t\n",
    "**75.MiscVal:** Value of miscellaneous feature\n",
    "\n",
    "**76.MoSold:** Month Sold (MM)\n",
    "\n",
    "**77.YrSold:** Year Sold (YYYY)\n",
    "\n",
    "**78.SaleType: Type of sale**\n",
    "\t\t\n",
    "       WD \tWarranty Deed - Conventional\n",
    "       CWD\tWarranty Deed - Cash\n",
    "       VWD\tWarranty Deed - VA Loan\n",
    "       New\tHome just constructed and sold\n",
    "       COD\tCourt Officer Deed/Estate\n",
    "       Con\tContract 15% Down payment regular terms\n",
    "       ConLw  Contract Low Down payment and low interest\n",
    "       ConLI  Contract Low Interest\n",
    "       ConLD  Contract Low Down\n",
    "       Oth\tOther\n",
    "\t\t\n",
    "**79.SaleCondition:** Condition of sale\n",
    "\n",
    "       Normal\tNormal Sale\n",
    "       Abnorml   Abnormal Sale -  trade, foreclosure, short sale\n",
    "       AdjLand   Adjoining Land Purchase\n",
    "       Alloca    Allocation - two linked properties with separate deeds, typically condo with a garage unit\t\n",
    "       Family\tSale between family members\n",
    "       Partial   Home was not completed when last assessed (associated with New Homes)"
   ]
  },
  {
   "cell_type": "markdown",
   "metadata": {
    "id": "Rkr-vyPkq92-"
   },
   "source": [
    "## Content\n",
    "\n",
    "1. **[Import Packages](#import_packages)**\n",
    "2. **[Read Data](#Read_Data)**\n",
    "3. **[Understand and Prepare the Data](#data_preparation)**\n",
    "    - 3.1 - [Data Types and Dimensions](#Data_Types)\n",
    "    - 3.2 - [Feature Engineering](#Feature_Engineering)\n",
    "    - 3.3 - [Missing Data Treatment](#Missing_Data_Treatment)\n",
    "4. **[Compute Principal Component (from scratch)](#CPCS)**\n",
    "    - 4.1 - [Prepare the Data](#Data_Prepare)\n",
    "    - 4.2 - [Scale the Data](#Scale)\n",
    "    - 4.3 - [Covariance Matrix](#cov_mat)\n",
    "    - 4.4 - [Compute Eigenvalues and Eigenvectors](#eigen)\n",
    "    - 4.5 - [Decide Number of Principal Components](#components)\n",
    "    - 4.6 - [Calculate Principal Components](#pca)\n",
    "5. **[Compute Principal Component (using sklearn)](#pcafunction)**\n",
    "6. **[Conclusion](#Conclusion)**\n"
   ]
  },
  {
   "cell_type": "markdown",
   "metadata": {
    "id": "nmL1Syudq92_"
   },
   "source": [
    "<a id='import_packages'></a>\n",
    "## 1. Import Packages"
   ]
  },
  {
   "cell_type": "code",
   "execution_count": 1,
   "metadata": {
    "executionInfo": {
     "elapsed": 2247,
     "status": "ok",
     "timestamp": 1679024919411,
     "user": {
      "displayName": "Nikita Tandel",
      "userId": "13201249445825337206"
     },
     "user_tz": -330
    },
    "id": "1-KvVeByq93A"
   },
   "outputs": [],
   "source": [
    "# 'Pandas' is used for data manipulation and analysis\n",
    "import pandas as pd \n",
    "\n",
    "# 'Numpy' is used for mathematical operations on large, multi-dimensional arrays and matrices\n",
    "import numpy as np\n",
    "\n",
    "# 'Matplotlib' is a data visualization library for 2D and 3D plots, built on numpy\n",
    "import matplotlib.pyplot as plt\n",
    "\n",
    "# 'datetime' is used to perform date and time operations\n",
    "import datetime as dt\n",
    "\n",
    "# 'StandardScalar' from sklearn.preprocessing library is used to scale the data\n",
    "from sklearn.preprocessing import StandardScaler\n",
    "\n",
    "# 'eig' from numpy.linalg to calculate eigenvalues and eigenvectors\n",
    "from numpy.linalg import eig\n",
    "\n",
    "# 'PCA' function to perform principal component analysis using the sklearn library\n",
    "from sklearn.decomposition import PCA\n"
   ]
  },
  {
   "cell_type": "markdown",
   "metadata": {
    "id": "ctYJz_QIq93C"
   },
   "source": [
    "<a id='Read_Data'></a>\n",
    "## 2. Read the Data"
   ]
  },
  {
   "cell_type": "markdown",
   "metadata": {
    "id": "BpKImH65q93D"
   },
   "source": [
    "<table align=\"left\">\n",
    "    <tr>\n",
    "        <td width=\"8%\">\n",
    "            <img src=\"key.png\">\n",
    "        </td>\n",
    "        <td>\n",
    "            <div align=\"left\", style=\"font-size:120%\">\n",
    "                    <b>Read the data using read_csv() function from pandas<br> \n",
    "                </font>\n",
    "            </div>\n",
    "        </td>\n",
    "    </tr>\n",
    "</table>"
   ]
  },
  {
   "cell_type": "code",
   "execution_count": 2,
   "metadata": {
    "colab": {
     "base_uri": "https://localhost:8080/",
     "height": 300
    },
    "executionInfo": {
     "elapsed": 15,
     "status": "ok",
     "timestamp": 1679024924123,
     "user": {
      "displayName": "Nikita Tandel",
      "userId": "13201249445825337206"
     },
     "user_tz": -330
    },
    "id": "-uJbsOO5q93E",
    "outputId": "976f0670-1d88-4f09-9f6f-2b6612e15cba"
   },
   "outputs": [
    {
     "data": {
      "text/html": [
       "<div>\n",
       "<style scoped>\n",
       "    .dataframe tbody tr th:only-of-type {\n",
       "        vertical-align: middle;\n",
       "    }\n",
       "\n",
       "    .dataframe tbody tr th {\n",
       "        vertical-align: top;\n",
       "    }\n",
       "\n",
       "    .dataframe thead th {\n",
       "        text-align: right;\n",
       "    }\n",
       "</style>\n",
       "<table border=\"1\" class=\"dataframe\">\n",
       "  <thead>\n",
       "    <tr style=\"text-align: right;\">\n",
       "      <th></th>\n",
       "      <th>Id</th>\n",
       "      <th>MSSubClass</th>\n",
       "      <th>MSZoning</th>\n",
       "      <th>LotFrontage</th>\n",
       "      <th>LotArea</th>\n",
       "      <th>Street</th>\n",
       "      <th>Alley</th>\n",
       "      <th>LotShape</th>\n",
       "      <th>LandContour</th>\n",
       "      <th>Utilities</th>\n",
       "      <th>...</th>\n",
       "      <th>PoolArea</th>\n",
       "      <th>PoolQC</th>\n",
       "      <th>Fence</th>\n",
       "      <th>MiscFeature</th>\n",
       "      <th>MiscVal</th>\n",
       "      <th>MoSold</th>\n",
       "      <th>YrSold</th>\n",
       "      <th>SaleType</th>\n",
       "      <th>SaleCondition</th>\n",
       "      <th>SalePrice</th>\n",
       "    </tr>\n",
       "  </thead>\n",
       "  <tbody>\n",
       "    <tr>\n",
       "      <th>0</th>\n",
       "      <td>1</td>\n",
       "      <td>60</td>\n",
       "      <td>RL</td>\n",
       "      <td>65.0</td>\n",
       "      <td>8450</td>\n",
       "      <td>Pave</td>\n",
       "      <td>NaN</td>\n",
       "      <td>Reg</td>\n",
       "      <td>Lvl</td>\n",
       "      <td>AllPub</td>\n",
       "      <td>...</td>\n",
       "      <td>0</td>\n",
       "      <td>NaN</td>\n",
       "      <td>NaN</td>\n",
       "      <td>NaN</td>\n",
       "      <td>0</td>\n",
       "      <td>2</td>\n",
       "      <td>2008</td>\n",
       "      <td>WD</td>\n",
       "      <td>Normal</td>\n",
       "      <td>208500</td>\n",
       "    </tr>\n",
       "    <tr>\n",
       "      <th>1</th>\n",
       "      <td>2</td>\n",
       "      <td>20</td>\n",
       "      <td>RL</td>\n",
       "      <td>80.0</td>\n",
       "      <td>9600</td>\n",
       "      <td>Pave</td>\n",
       "      <td>NaN</td>\n",
       "      <td>Reg</td>\n",
       "      <td>Lvl</td>\n",
       "      <td>AllPub</td>\n",
       "      <td>...</td>\n",
       "      <td>0</td>\n",
       "      <td>NaN</td>\n",
       "      <td>NaN</td>\n",
       "      <td>NaN</td>\n",
       "      <td>0</td>\n",
       "      <td>5</td>\n",
       "      <td>2007</td>\n",
       "      <td>WD</td>\n",
       "      <td>Normal</td>\n",
       "      <td>181500</td>\n",
       "    </tr>\n",
       "    <tr>\n",
       "      <th>2</th>\n",
       "      <td>3</td>\n",
       "      <td>60</td>\n",
       "      <td>RL</td>\n",
       "      <td>68.0</td>\n",
       "      <td>11250</td>\n",
       "      <td>Pave</td>\n",
       "      <td>NaN</td>\n",
       "      <td>IR1</td>\n",
       "      <td>Lvl</td>\n",
       "      <td>AllPub</td>\n",
       "      <td>...</td>\n",
       "      <td>0</td>\n",
       "      <td>NaN</td>\n",
       "      <td>NaN</td>\n",
       "      <td>NaN</td>\n",
       "      <td>0</td>\n",
       "      <td>9</td>\n",
       "      <td>2008</td>\n",
       "      <td>WD</td>\n",
       "      <td>Normal</td>\n",
       "      <td>223500</td>\n",
       "    </tr>\n",
       "    <tr>\n",
       "      <th>3</th>\n",
       "      <td>4</td>\n",
       "      <td>70</td>\n",
       "      <td>RL</td>\n",
       "      <td>60.0</td>\n",
       "      <td>9550</td>\n",
       "      <td>Pave</td>\n",
       "      <td>NaN</td>\n",
       "      <td>IR1</td>\n",
       "      <td>Lvl</td>\n",
       "      <td>AllPub</td>\n",
       "      <td>...</td>\n",
       "      <td>0</td>\n",
       "      <td>NaN</td>\n",
       "      <td>NaN</td>\n",
       "      <td>NaN</td>\n",
       "      <td>0</td>\n",
       "      <td>2</td>\n",
       "      <td>2006</td>\n",
       "      <td>WD</td>\n",
       "      <td>Abnorml</td>\n",
       "      <td>140000</td>\n",
       "    </tr>\n",
       "    <tr>\n",
       "      <th>4</th>\n",
       "      <td>5</td>\n",
       "      <td>60</td>\n",
       "      <td>RL</td>\n",
       "      <td>84.0</td>\n",
       "      <td>14260</td>\n",
       "      <td>Pave</td>\n",
       "      <td>NaN</td>\n",
       "      <td>IR1</td>\n",
       "      <td>Lvl</td>\n",
       "      <td>AllPub</td>\n",
       "      <td>...</td>\n",
       "      <td>0</td>\n",
       "      <td>NaN</td>\n",
       "      <td>NaN</td>\n",
       "      <td>NaN</td>\n",
       "      <td>0</td>\n",
       "      <td>12</td>\n",
       "      <td>2008</td>\n",
       "      <td>WD</td>\n",
       "      <td>Normal</td>\n",
       "      <td>250000</td>\n",
       "    </tr>\n",
       "  </tbody>\n",
       "</table>\n",
       "<p>5 rows × 81 columns</p>\n",
       "</div>"
      ],
      "text/plain": [
       "   Id  MSSubClass MSZoning  LotFrontage  LotArea Street Alley LotShape  \\\n",
       "0   1          60       RL         65.0     8450   Pave   NaN      Reg   \n",
       "1   2          20       RL         80.0     9600   Pave   NaN      Reg   \n",
       "2   3          60       RL         68.0    11250   Pave   NaN      IR1   \n",
       "3   4          70       RL         60.0     9550   Pave   NaN      IR1   \n",
       "4   5          60       RL         84.0    14260   Pave   NaN      IR1   \n",
       "\n",
       "  LandContour Utilities  ... PoolArea PoolQC Fence MiscFeature MiscVal MoSold  \\\n",
       "0         Lvl    AllPub  ...        0    NaN   NaN         NaN       0      2   \n",
       "1         Lvl    AllPub  ...        0    NaN   NaN         NaN       0      5   \n",
       "2         Lvl    AllPub  ...        0    NaN   NaN         NaN       0      9   \n",
       "3         Lvl    AllPub  ...        0    NaN   NaN         NaN       0      2   \n",
       "4         Lvl    AllPub  ...        0    NaN   NaN         NaN       0     12   \n",
       "\n",
       "  YrSold  SaleType  SaleCondition  SalePrice  \n",
       "0   2008        WD         Normal     208500  \n",
       "1   2007        WD         Normal     181500  \n",
       "2   2008        WD         Normal     223500  \n",
       "3   2006        WD        Abnorml     140000  \n",
       "4   2008        WD         Normal     250000  \n",
       "\n",
       "[5 rows x 81 columns]"
      ]
     },
     "execution_count": 2,
     "metadata": {},
     "output_type": "execute_result"
    }
   ],
   "source": [
    "# read the data\n",
    "raw_data = pd.read_csv('houseprice.csv')\n",
    "# print the first five rows of the data\n",
    "raw_data.head()"
   ]
  },
  {
   "cell_type": "markdown",
   "metadata": {
    "id": "eiYpIsd7q93G"
   },
   "source": [
    "<a id='data_preparation'></a>\n",
    "## 3. Understand and Prepare the Data"
   ]
  },
  {
   "cell_type": "markdown",
   "metadata": {
    "id": "5bA1VPdrq93G"
   },
   "source": [
    "<table align=\"left\">\n",
    "    <tr>\n",
    "        <td width=\"8%\">\n",
    "            <img src=\"key.png\">\n",
    "        </td>\n",
    "        <td>\n",
    "            <div align=\"left\", style=\"font-size:120%\">\n",
    "                    <b>The process of data preparation entails cleansing, structuring and integrating data to make it ready for analysis. <br><br>\n",
    "                        Here we will analyze and prepare data to perform regression techniques:<br>\n",
    "                        1. Check dimensions and data types of the dataframe <br>\n",
    "                        2. Study summary statistics<br> \n",
    "                        3. Check for missing values<br>\n",
    "                        4. Study correlation<br>\n",
    "                                       </b>\n",
    "                </font>\n",
    "            </div>\n",
    "        </td>\n",
    "    </tr>\n",
    "</table>"
   ]
  },
  {
   "cell_type": "markdown",
   "metadata": {
    "id": "Qv7N0kXaq93H"
   },
   "source": [
    "#### Change index column\n",
    "\n",
    "The first column in the data contains a unique numbering for each observation. We can make this column as an index column"
   ]
  },
  {
   "cell_type": "code",
   "execution_count": 3,
   "metadata": {
    "colab": {
     "base_uri": "https://localhost:8080/",
     "height": 331
    },
    "executionInfo": {
     "elapsed": 469,
     "status": "ok",
     "timestamp": 1679024928849,
     "user": {
      "displayName": "Nikita Tandel",
      "userId": "13201249445825337206"
     },
     "user_tz": -330
    },
    "id": "bEJs3iccq93H",
    "outputId": "9c22de0b-4e63-42e7-a187-a545b90a8192"
   },
   "outputs": [
    {
     "data": {
      "text/html": [
       "<div>\n",
       "<style scoped>\n",
       "    .dataframe tbody tr th:only-of-type {\n",
       "        vertical-align: middle;\n",
       "    }\n",
       "\n",
       "    .dataframe tbody tr th {\n",
       "        vertical-align: top;\n",
       "    }\n",
       "\n",
       "    .dataframe thead th {\n",
       "        text-align: right;\n",
       "    }\n",
       "</style>\n",
       "<table border=\"1\" class=\"dataframe\">\n",
       "  <thead>\n",
       "    <tr style=\"text-align: right;\">\n",
       "      <th></th>\n",
       "      <th>MSSubClass</th>\n",
       "      <th>MSZoning</th>\n",
       "      <th>LotFrontage</th>\n",
       "      <th>LotArea</th>\n",
       "      <th>Street</th>\n",
       "      <th>Alley</th>\n",
       "      <th>LotShape</th>\n",
       "      <th>LandContour</th>\n",
       "      <th>Utilities</th>\n",
       "      <th>LotConfig</th>\n",
       "      <th>...</th>\n",
       "      <th>PoolArea</th>\n",
       "      <th>PoolQC</th>\n",
       "      <th>Fence</th>\n",
       "      <th>MiscFeature</th>\n",
       "      <th>MiscVal</th>\n",
       "      <th>MoSold</th>\n",
       "      <th>YrSold</th>\n",
       "      <th>SaleType</th>\n",
       "      <th>SaleCondition</th>\n",
       "      <th>SalePrice</th>\n",
       "    </tr>\n",
       "    <tr>\n",
       "      <th>Id</th>\n",
       "      <th></th>\n",
       "      <th></th>\n",
       "      <th></th>\n",
       "      <th></th>\n",
       "      <th></th>\n",
       "      <th></th>\n",
       "      <th></th>\n",
       "      <th></th>\n",
       "      <th></th>\n",
       "      <th></th>\n",
       "      <th></th>\n",
       "      <th></th>\n",
       "      <th></th>\n",
       "      <th></th>\n",
       "      <th></th>\n",
       "      <th></th>\n",
       "      <th></th>\n",
       "      <th></th>\n",
       "      <th></th>\n",
       "      <th></th>\n",
       "      <th></th>\n",
       "    </tr>\n",
       "  </thead>\n",
       "  <tbody>\n",
       "    <tr>\n",
       "      <th>1</th>\n",
       "      <td>60</td>\n",
       "      <td>RL</td>\n",
       "      <td>65.0</td>\n",
       "      <td>8450</td>\n",
       "      <td>Pave</td>\n",
       "      <td>NaN</td>\n",
       "      <td>Reg</td>\n",
       "      <td>Lvl</td>\n",
       "      <td>AllPub</td>\n",
       "      <td>Inside</td>\n",
       "      <td>...</td>\n",
       "      <td>0</td>\n",
       "      <td>NaN</td>\n",
       "      <td>NaN</td>\n",
       "      <td>NaN</td>\n",
       "      <td>0</td>\n",
       "      <td>2</td>\n",
       "      <td>2008</td>\n",
       "      <td>WD</td>\n",
       "      <td>Normal</td>\n",
       "      <td>208500</td>\n",
       "    </tr>\n",
       "    <tr>\n",
       "      <th>2</th>\n",
       "      <td>20</td>\n",
       "      <td>RL</td>\n",
       "      <td>80.0</td>\n",
       "      <td>9600</td>\n",
       "      <td>Pave</td>\n",
       "      <td>NaN</td>\n",
       "      <td>Reg</td>\n",
       "      <td>Lvl</td>\n",
       "      <td>AllPub</td>\n",
       "      <td>FR2</td>\n",
       "      <td>...</td>\n",
       "      <td>0</td>\n",
       "      <td>NaN</td>\n",
       "      <td>NaN</td>\n",
       "      <td>NaN</td>\n",
       "      <td>0</td>\n",
       "      <td>5</td>\n",
       "      <td>2007</td>\n",
       "      <td>WD</td>\n",
       "      <td>Normal</td>\n",
       "      <td>181500</td>\n",
       "    </tr>\n",
       "    <tr>\n",
       "      <th>3</th>\n",
       "      <td>60</td>\n",
       "      <td>RL</td>\n",
       "      <td>68.0</td>\n",
       "      <td>11250</td>\n",
       "      <td>Pave</td>\n",
       "      <td>NaN</td>\n",
       "      <td>IR1</td>\n",
       "      <td>Lvl</td>\n",
       "      <td>AllPub</td>\n",
       "      <td>Inside</td>\n",
       "      <td>...</td>\n",
       "      <td>0</td>\n",
       "      <td>NaN</td>\n",
       "      <td>NaN</td>\n",
       "      <td>NaN</td>\n",
       "      <td>0</td>\n",
       "      <td>9</td>\n",
       "      <td>2008</td>\n",
       "      <td>WD</td>\n",
       "      <td>Normal</td>\n",
       "      <td>223500</td>\n",
       "    </tr>\n",
       "    <tr>\n",
       "      <th>4</th>\n",
       "      <td>70</td>\n",
       "      <td>RL</td>\n",
       "      <td>60.0</td>\n",
       "      <td>9550</td>\n",
       "      <td>Pave</td>\n",
       "      <td>NaN</td>\n",
       "      <td>IR1</td>\n",
       "      <td>Lvl</td>\n",
       "      <td>AllPub</td>\n",
       "      <td>Corner</td>\n",
       "      <td>...</td>\n",
       "      <td>0</td>\n",
       "      <td>NaN</td>\n",
       "      <td>NaN</td>\n",
       "      <td>NaN</td>\n",
       "      <td>0</td>\n",
       "      <td>2</td>\n",
       "      <td>2006</td>\n",
       "      <td>WD</td>\n",
       "      <td>Abnorml</td>\n",
       "      <td>140000</td>\n",
       "    </tr>\n",
       "    <tr>\n",
       "      <th>5</th>\n",
       "      <td>60</td>\n",
       "      <td>RL</td>\n",
       "      <td>84.0</td>\n",
       "      <td>14260</td>\n",
       "      <td>Pave</td>\n",
       "      <td>NaN</td>\n",
       "      <td>IR1</td>\n",
       "      <td>Lvl</td>\n",
       "      <td>AllPub</td>\n",
       "      <td>FR2</td>\n",
       "      <td>...</td>\n",
       "      <td>0</td>\n",
       "      <td>NaN</td>\n",
       "      <td>NaN</td>\n",
       "      <td>NaN</td>\n",
       "      <td>0</td>\n",
       "      <td>12</td>\n",
       "      <td>2008</td>\n",
       "      <td>WD</td>\n",
       "      <td>Normal</td>\n",
       "      <td>250000</td>\n",
       "    </tr>\n",
       "  </tbody>\n",
       "</table>\n",
       "<p>5 rows × 80 columns</p>\n",
       "</div>"
      ],
      "text/plain": [
       "    MSSubClass MSZoning  LotFrontage  LotArea Street Alley LotShape  \\\n",
       "Id                                                                    \n",
       "1           60       RL         65.0     8450   Pave   NaN      Reg   \n",
       "2           20       RL         80.0     9600   Pave   NaN      Reg   \n",
       "3           60       RL         68.0    11250   Pave   NaN      IR1   \n",
       "4           70       RL         60.0     9550   Pave   NaN      IR1   \n",
       "5           60       RL         84.0    14260   Pave   NaN      IR1   \n",
       "\n",
       "   LandContour Utilities LotConfig  ... PoolArea PoolQC Fence MiscFeature  \\\n",
       "Id                                  ...                                     \n",
       "1          Lvl    AllPub    Inside  ...        0    NaN   NaN         NaN   \n",
       "2          Lvl    AllPub       FR2  ...        0    NaN   NaN         NaN   \n",
       "3          Lvl    AllPub    Inside  ...        0    NaN   NaN         NaN   \n",
       "4          Lvl    AllPub    Corner  ...        0    NaN   NaN         NaN   \n",
       "5          Lvl    AllPub       FR2  ...        0    NaN   NaN         NaN   \n",
       "\n",
       "   MiscVal MoSold  YrSold  SaleType  SaleCondition  SalePrice  \n",
       "Id                                                             \n",
       "1        0      2    2008        WD         Normal     208500  \n",
       "2        0      5    2007        WD         Normal     181500  \n",
       "3        0      9    2008        WD         Normal     223500  \n",
       "4        0      2    2006        WD        Abnorml     140000  \n",
       "5        0     12    2008        WD         Normal     250000  \n",
       "\n",
       "[5 rows x 80 columns]"
      ]
     },
     "execution_count": 3,
     "metadata": {},
     "output_type": "execute_result"
    }
   ],
   "source": [
    "# the parameter 'index_col' will change the index to the specified column\n",
    "raw_data = pd.read_csv('houseprice.csv', index_col=0)\n",
    "\n",
    "# head() to display top five rows\n",
    "raw_data.head()"
   ]
  },
  {
   "cell_type": "markdown",
   "metadata": {
    "id": "yevDHB1Uq93I"
   },
   "source": [
    "<a id='Data_Types'></a>\n",
    "## 3.1 Data Types and Dimensions"
   ]
  },
  {
   "cell_type": "code",
   "execution_count": 4,
   "metadata": {
    "colab": {
     "base_uri": "https://localhost:8080/"
    },
    "executionInfo": {
     "elapsed": 696,
     "status": "ok",
     "timestamp": 1679024947865,
     "user": {
      "displayName": "Nikita Tandel",
      "userId": "13201249445825337206"
     },
     "user_tz": -330
    },
    "id": "5XvyUe2gq93J",
    "outputId": "0253b407-87fb-4d63-d1f3-715707f4eb39"
   },
   "outputs": [
    {
     "name": "stdout",
     "output_type": "stream",
     "text": [
      "<class 'pandas.core.frame.DataFrame'>\n",
      "Int64Index: 1460 entries, 1 to 1460\n",
      "Data columns (total 80 columns):\n",
      " #   Column         Non-Null Count  Dtype  \n",
      "---  ------         --------------  -----  \n",
      " 0   MSSubClass     1460 non-null   int64  \n",
      " 1   MSZoning       1460 non-null   object \n",
      " 2   LotFrontage    1201 non-null   float64\n",
      " 3   LotArea        1460 non-null   int64  \n",
      " 4   Street         1460 non-null   object \n",
      " 5   Alley          91 non-null     object \n",
      " 6   LotShape       1460 non-null   object \n",
      " 7   LandContour    1460 non-null   object \n",
      " 8   Utilities      1460 non-null   object \n",
      " 9   LotConfig      1460 non-null   object \n",
      " 10  LandSlope      1460 non-null   object \n",
      " 11  Neighborhood   1460 non-null   object \n",
      " 12  Condition1     1460 non-null   object \n",
      " 13  Condition2     1460 non-null   object \n",
      " 14  BldgType       1460 non-null   object \n",
      " 15  HouseStyle     1460 non-null   object \n",
      " 16  OverallQual    1460 non-null   int64  \n",
      " 17  OverallCond    1460 non-null   int64  \n",
      " 18  YearBuilt      1460 non-null   int64  \n",
      " 19  YearRemodAdd   1460 non-null   int64  \n",
      " 20  RoofStyle      1460 non-null   object \n",
      " 21  RoofMatl       1460 non-null   object \n",
      " 22  Exterior1st    1460 non-null   object \n",
      " 23  Exterior2nd    1460 non-null   object \n",
      " 24  MasVnrType     1452 non-null   object \n",
      " 25  MasVnrArea     1452 non-null   float64\n",
      " 26  ExterQual      1460 non-null   object \n",
      " 27  ExterCond      1460 non-null   object \n",
      " 28  Foundation     1460 non-null   object \n",
      " 29  BsmtQual       1423 non-null   object \n",
      " 30  BsmtCond       1423 non-null   object \n",
      " 31  BsmtExposure   1422 non-null   object \n",
      " 32  BsmtFinType1   1423 non-null   object \n",
      " 33  BsmtFinSF1     1460 non-null   int64  \n",
      " 34  BsmtFinType2   1422 non-null   object \n",
      " 35  BsmtFinSF2     1460 non-null   int64  \n",
      " 36  BsmtUnfSF      1460 non-null   int64  \n",
      " 37  TotalBsmtSF    1460 non-null   int64  \n",
      " 38  Heating        1460 non-null   object \n",
      " 39  HeatingQC      1460 non-null   object \n",
      " 40  CentralAir     1460 non-null   object \n",
      " 41  Electrical     1459 non-null   object \n",
      " 42  1stFlrSF       1460 non-null   int64  \n",
      " 43  2ndFlrSF       1460 non-null   int64  \n",
      " 44  LowQualFinSF   1460 non-null   int64  \n",
      " 45  GrLivArea      1460 non-null   int64  \n",
      " 46  BsmtFullBath   1460 non-null   int64  \n",
      " 47  BsmtHalfBath   1460 non-null   int64  \n",
      " 48  FullBath       1460 non-null   int64  \n",
      " 49  HalfBath       1460 non-null   int64  \n",
      " 50  BedroomAbvGr   1460 non-null   int64  \n",
      " 51  KitchenAbvGr   1460 non-null   int64  \n",
      " 52  KitchenQual    1460 non-null   object \n",
      " 53  TotRmsAbvGrd   1460 non-null   int64  \n",
      " 54  Functional     1460 non-null   object \n",
      " 55  Fireplaces     1460 non-null   int64  \n",
      " 56  FireplaceQu    770 non-null    object \n",
      " 57  GarageType     1379 non-null   object \n",
      " 58  GarageYrBlt    1379 non-null   float64\n",
      " 59  GarageFinish   1379 non-null   object \n",
      " 60  GarageCars     1460 non-null   int64  \n",
      " 61  GarageArea     1460 non-null   int64  \n",
      " 62  GarageQual     1379 non-null   object \n",
      " 63  GarageCond     1379 non-null   object \n",
      " 64  PavedDrive     1460 non-null   object \n",
      " 65  WoodDeckSF     1460 non-null   int64  \n",
      " 66  OpenPorchSF    1460 non-null   int64  \n",
      " 67  EnclosedPorch  1460 non-null   int64  \n",
      " 68  3SsnPorch      1460 non-null   int64  \n",
      " 69  ScreenPorch    1460 non-null   int64  \n",
      " 70  PoolArea       1460 non-null   int64  \n",
      " 71  PoolQC         7 non-null      object \n",
      " 72  Fence          281 non-null    object \n",
      " 73  MiscFeature    54 non-null     object \n",
      " 74  MiscVal        1460 non-null   int64  \n",
      " 75  MoSold         1460 non-null   int64  \n",
      " 76  YrSold         1460 non-null   int64  \n",
      " 77  SaleType       1460 non-null   object \n",
      " 78  SaleCondition  1460 non-null   object \n",
      " 79  SalePrice      1460 non-null   int64  \n",
      "dtypes: float64(3), int64(34), object(43)\n",
      "memory usage: 923.9+ KB\n"
     ]
    }
   ],
   "source": [
    "# check the data types for variables\n",
    "raw_data.info()"
   ]
  },
  {
   "cell_type": "code",
   "execution_count": 5,
   "metadata": {},
   "outputs": [
    {
     "data": {
      "text/html": [
       "<div>\n",
       "<style scoped>\n",
       "    .dataframe tbody tr th:only-of-type {\n",
       "        vertical-align: middle;\n",
       "    }\n",
       "\n",
       "    .dataframe tbody tr th {\n",
       "        vertical-align: top;\n",
       "    }\n",
       "\n",
       "    .dataframe thead th {\n",
       "        text-align: right;\n",
       "    }\n",
       "</style>\n",
       "<table border=\"1\" class=\"dataframe\">\n",
       "  <thead>\n",
       "    <tr style=\"text-align: right;\">\n",
       "      <th></th>\n",
       "      <th>count</th>\n",
       "      <th>mean</th>\n",
       "      <th>std</th>\n",
       "      <th>min</th>\n",
       "      <th>25%</th>\n",
       "      <th>50%</th>\n",
       "      <th>75%</th>\n",
       "      <th>max</th>\n",
       "    </tr>\n",
       "  </thead>\n",
       "  <tbody>\n",
       "    <tr>\n",
       "      <th>MSSubClass</th>\n",
       "      <td>1460.0</td>\n",
       "      <td>56.897260</td>\n",
       "      <td>42.300571</td>\n",
       "      <td>20.0</td>\n",
       "      <td>20.00</td>\n",
       "      <td>50.0</td>\n",
       "      <td>70.00</td>\n",
       "      <td>190.0</td>\n",
       "    </tr>\n",
       "    <tr>\n",
       "      <th>LotFrontage</th>\n",
       "      <td>1201.0</td>\n",
       "      <td>70.049958</td>\n",
       "      <td>24.284752</td>\n",
       "      <td>21.0</td>\n",
       "      <td>59.00</td>\n",
       "      <td>69.0</td>\n",
       "      <td>80.00</td>\n",
       "      <td>313.0</td>\n",
       "    </tr>\n",
       "    <tr>\n",
       "      <th>LotArea</th>\n",
       "      <td>1460.0</td>\n",
       "      <td>10516.828082</td>\n",
       "      <td>9981.264932</td>\n",
       "      <td>1300.0</td>\n",
       "      <td>7553.50</td>\n",
       "      <td>9478.5</td>\n",
       "      <td>11601.50</td>\n",
       "      <td>215245.0</td>\n",
       "    </tr>\n",
       "    <tr>\n",
       "      <th>OverallQual</th>\n",
       "      <td>1460.0</td>\n",
       "      <td>6.099315</td>\n",
       "      <td>1.382997</td>\n",
       "      <td>1.0</td>\n",
       "      <td>5.00</td>\n",
       "      <td>6.0</td>\n",
       "      <td>7.00</td>\n",
       "      <td>10.0</td>\n",
       "    </tr>\n",
       "    <tr>\n",
       "      <th>OverallCond</th>\n",
       "      <td>1460.0</td>\n",
       "      <td>5.575342</td>\n",
       "      <td>1.112799</td>\n",
       "      <td>1.0</td>\n",
       "      <td>5.00</td>\n",
       "      <td>5.0</td>\n",
       "      <td>6.00</td>\n",
       "      <td>9.0</td>\n",
       "    </tr>\n",
       "    <tr>\n",
       "      <th>YearBuilt</th>\n",
       "      <td>1460.0</td>\n",
       "      <td>1971.267808</td>\n",
       "      <td>30.202904</td>\n",
       "      <td>1872.0</td>\n",
       "      <td>1954.00</td>\n",
       "      <td>1973.0</td>\n",
       "      <td>2000.00</td>\n",
       "      <td>2010.0</td>\n",
       "    </tr>\n",
       "    <tr>\n",
       "      <th>YearRemodAdd</th>\n",
       "      <td>1460.0</td>\n",
       "      <td>1984.865753</td>\n",
       "      <td>20.645407</td>\n",
       "      <td>1950.0</td>\n",
       "      <td>1967.00</td>\n",
       "      <td>1994.0</td>\n",
       "      <td>2004.00</td>\n",
       "      <td>2010.0</td>\n",
       "    </tr>\n",
       "    <tr>\n",
       "      <th>MasVnrArea</th>\n",
       "      <td>1452.0</td>\n",
       "      <td>103.685262</td>\n",
       "      <td>181.066207</td>\n",
       "      <td>0.0</td>\n",
       "      <td>0.00</td>\n",
       "      <td>0.0</td>\n",
       "      <td>166.00</td>\n",
       "      <td>1600.0</td>\n",
       "    </tr>\n",
       "    <tr>\n",
       "      <th>BsmtFinSF1</th>\n",
       "      <td>1460.0</td>\n",
       "      <td>443.639726</td>\n",
       "      <td>456.098091</td>\n",
       "      <td>0.0</td>\n",
       "      <td>0.00</td>\n",
       "      <td>383.5</td>\n",
       "      <td>712.25</td>\n",
       "      <td>5644.0</td>\n",
       "    </tr>\n",
       "    <tr>\n",
       "      <th>BsmtFinSF2</th>\n",
       "      <td>1460.0</td>\n",
       "      <td>46.549315</td>\n",
       "      <td>161.319273</td>\n",
       "      <td>0.0</td>\n",
       "      <td>0.00</td>\n",
       "      <td>0.0</td>\n",
       "      <td>0.00</td>\n",
       "      <td>1474.0</td>\n",
       "    </tr>\n",
       "    <tr>\n",
       "      <th>BsmtUnfSF</th>\n",
       "      <td>1460.0</td>\n",
       "      <td>567.240411</td>\n",
       "      <td>441.866955</td>\n",
       "      <td>0.0</td>\n",
       "      <td>223.00</td>\n",
       "      <td>477.5</td>\n",
       "      <td>808.00</td>\n",
       "      <td>2336.0</td>\n",
       "    </tr>\n",
       "    <tr>\n",
       "      <th>TotalBsmtSF</th>\n",
       "      <td>1460.0</td>\n",
       "      <td>1057.429452</td>\n",
       "      <td>438.705324</td>\n",
       "      <td>0.0</td>\n",
       "      <td>795.75</td>\n",
       "      <td>991.5</td>\n",
       "      <td>1298.25</td>\n",
       "      <td>6110.0</td>\n",
       "    </tr>\n",
       "    <tr>\n",
       "      <th>1stFlrSF</th>\n",
       "      <td>1460.0</td>\n",
       "      <td>1162.626712</td>\n",
       "      <td>386.587738</td>\n",
       "      <td>334.0</td>\n",
       "      <td>882.00</td>\n",
       "      <td>1087.0</td>\n",
       "      <td>1391.25</td>\n",
       "      <td>4692.0</td>\n",
       "    </tr>\n",
       "    <tr>\n",
       "      <th>2ndFlrSF</th>\n",
       "      <td>1460.0</td>\n",
       "      <td>346.992466</td>\n",
       "      <td>436.528436</td>\n",
       "      <td>0.0</td>\n",
       "      <td>0.00</td>\n",
       "      <td>0.0</td>\n",
       "      <td>728.00</td>\n",
       "      <td>2065.0</td>\n",
       "    </tr>\n",
       "    <tr>\n",
       "      <th>LowQualFinSF</th>\n",
       "      <td>1460.0</td>\n",
       "      <td>5.844521</td>\n",
       "      <td>48.623081</td>\n",
       "      <td>0.0</td>\n",
       "      <td>0.00</td>\n",
       "      <td>0.0</td>\n",
       "      <td>0.00</td>\n",
       "      <td>572.0</td>\n",
       "    </tr>\n",
       "    <tr>\n",
       "      <th>GrLivArea</th>\n",
       "      <td>1460.0</td>\n",
       "      <td>1515.463699</td>\n",
       "      <td>525.480383</td>\n",
       "      <td>334.0</td>\n",
       "      <td>1129.50</td>\n",
       "      <td>1464.0</td>\n",
       "      <td>1776.75</td>\n",
       "      <td>5642.0</td>\n",
       "    </tr>\n",
       "    <tr>\n",
       "      <th>BsmtFullBath</th>\n",
       "      <td>1460.0</td>\n",
       "      <td>0.425342</td>\n",
       "      <td>0.518911</td>\n",
       "      <td>0.0</td>\n",
       "      <td>0.00</td>\n",
       "      <td>0.0</td>\n",
       "      <td>1.00</td>\n",
       "      <td>3.0</td>\n",
       "    </tr>\n",
       "    <tr>\n",
       "      <th>BsmtHalfBath</th>\n",
       "      <td>1460.0</td>\n",
       "      <td>0.057534</td>\n",
       "      <td>0.238753</td>\n",
       "      <td>0.0</td>\n",
       "      <td>0.00</td>\n",
       "      <td>0.0</td>\n",
       "      <td>0.00</td>\n",
       "      <td>2.0</td>\n",
       "    </tr>\n",
       "    <tr>\n",
       "      <th>FullBath</th>\n",
       "      <td>1460.0</td>\n",
       "      <td>1.565068</td>\n",
       "      <td>0.550916</td>\n",
       "      <td>0.0</td>\n",
       "      <td>1.00</td>\n",
       "      <td>2.0</td>\n",
       "      <td>2.00</td>\n",
       "      <td>3.0</td>\n",
       "    </tr>\n",
       "    <tr>\n",
       "      <th>HalfBath</th>\n",
       "      <td>1460.0</td>\n",
       "      <td>0.382877</td>\n",
       "      <td>0.502885</td>\n",
       "      <td>0.0</td>\n",
       "      <td>0.00</td>\n",
       "      <td>0.0</td>\n",
       "      <td>1.00</td>\n",
       "      <td>2.0</td>\n",
       "    </tr>\n",
       "    <tr>\n",
       "      <th>BedroomAbvGr</th>\n",
       "      <td>1460.0</td>\n",
       "      <td>2.866438</td>\n",
       "      <td>0.815778</td>\n",
       "      <td>0.0</td>\n",
       "      <td>2.00</td>\n",
       "      <td>3.0</td>\n",
       "      <td>3.00</td>\n",
       "      <td>8.0</td>\n",
       "    </tr>\n",
       "    <tr>\n",
       "      <th>KitchenAbvGr</th>\n",
       "      <td>1460.0</td>\n",
       "      <td>1.046575</td>\n",
       "      <td>0.220338</td>\n",
       "      <td>0.0</td>\n",
       "      <td>1.00</td>\n",
       "      <td>1.0</td>\n",
       "      <td>1.00</td>\n",
       "      <td>3.0</td>\n",
       "    </tr>\n",
       "    <tr>\n",
       "      <th>TotRmsAbvGrd</th>\n",
       "      <td>1460.0</td>\n",
       "      <td>6.517808</td>\n",
       "      <td>1.625393</td>\n",
       "      <td>2.0</td>\n",
       "      <td>5.00</td>\n",
       "      <td>6.0</td>\n",
       "      <td>7.00</td>\n",
       "      <td>14.0</td>\n",
       "    </tr>\n",
       "    <tr>\n",
       "      <th>Fireplaces</th>\n",
       "      <td>1460.0</td>\n",
       "      <td>0.613014</td>\n",
       "      <td>0.644666</td>\n",
       "      <td>0.0</td>\n",
       "      <td>0.00</td>\n",
       "      <td>1.0</td>\n",
       "      <td>1.00</td>\n",
       "      <td>3.0</td>\n",
       "    </tr>\n",
       "    <tr>\n",
       "      <th>GarageYrBlt</th>\n",
       "      <td>1379.0</td>\n",
       "      <td>1978.506164</td>\n",
       "      <td>24.689725</td>\n",
       "      <td>1900.0</td>\n",
       "      <td>1961.00</td>\n",
       "      <td>1980.0</td>\n",
       "      <td>2002.00</td>\n",
       "      <td>2010.0</td>\n",
       "    </tr>\n",
       "    <tr>\n",
       "      <th>GarageCars</th>\n",
       "      <td>1460.0</td>\n",
       "      <td>1.767123</td>\n",
       "      <td>0.747315</td>\n",
       "      <td>0.0</td>\n",
       "      <td>1.00</td>\n",
       "      <td>2.0</td>\n",
       "      <td>2.00</td>\n",
       "      <td>4.0</td>\n",
       "    </tr>\n",
       "    <tr>\n",
       "      <th>GarageArea</th>\n",
       "      <td>1460.0</td>\n",
       "      <td>472.980137</td>\n",
       "      <td>213.804841</td>\n",
       "      <td>0.0</td>\n",
       "      <td>334.50</td>\n",
       "      <td>480.0</td>\n",
       "      <td>576.00</td>\n",
       "      <td>1418.0</td>\n",
       "    </tr>\n",
       "    <tr>\n",
       "      <th>WoodDeckSF</th>\n",
       "      <td>1460.0</td>\n",
       "      <td>94.244521</td>\n",
       "      <td>125.338794</td>\n",
       "      <td>0.0</td>\n",
       "      <td>0.00</td>\n",
       "      <td>0.0</td>\n",
       "      <td>168.00</td>\n",
       "      <td>857.0</td>\n",
       "    </tr>\n",
       "    <tr>\n",
       "      <th>OpenPorchSF</th>\n",
       "      <td>1460.0</td>\n",
       "      <td>46.660274</td>\n",
       "      <td>66.256028</td>\n",
       "      <td>0.0</td>\n",
       "      <td>0.00</td>\n",
       "      <td>25.0</td>\n",
       "      <td>68.00</td>\n",
       "      <td>547.0</td>\n",
       "    </tr>\n",
       "    <tr>\n",
       "      <th>EnclosedPorch</th>\n",
       "      <td>1460.0</td>\n",
       "      <td>21.954110</td>\n",
       "      <td>61.119149</td>\n",
       "      <td>0.0</td>\n",
       "      <td>0.00</td>\n",
       "      <td>0.0</td>\n",
       "      <td>0.00</td>\n",
       "      <td>552.0</td>\n",
       "    </tr>\n",
       "    <tr>\n",
       "      <th>3SsnPorch</th>\n",
       "      <td>1460.0</td>\n",
       "      <td>3.409589</td>\n",
       "      <td>29.317331</td>\n",
       "      <td>0.0</td>\n",
       "      <td>0.00</td>\n",
       "      <td>0.0</td>\n",
       "      <td>0.00</td>\n",
       "      <td>508.0</td>\n",
       "    </tr>\n",
       "    <tr>\n",
       "      <th>ScreenPorch</th>\n",
       "      <td>1460.0</td>\n",
       "      <td>15.060959</td>\n",
       "      <td>55.757415</td>\n",
       "      <td>0.0</td>\n",
       "      <td>0.00</td>\n",
       "      <td>0.0</td>\n",
       "      <td>0.00</td>\n",
       "      <td>480.0</td>\n",
       "    </tr>\n",
       "    <tr>\n",
       "      <th>PoolArea</th>\n",
       "      <td>1460.0</td>\n",
       "      <td>2.758904</td>\n",
       "      <td>40.177307</td>\n",
       "      <td>0.0</td>\n",
       "      <td>0.00</td>\n",
       "      <td>0.0</td>\n",
       "      <td>0.00</td>\n",
       "      <td>738.0</td>\n",
       "    </tr>\n",
       "    <tr>\n",
       "      <th>MiscVal</th>\n",
       "      <td>1460.0</td>\n",
       "      <td>43.489041</td>\n",
       "      <td>496.123024</td>\n",
       "      <td>0.0</td>\n",
       "      <td>0.00</td>\n",
       "      <td>0.0</td>\n",
       "      <td>0.00</td>\n",
       "      <td>15500.0</td>\n",
       "    </tr>\n",
       "    <tr>\n",
       "      <th>MoSold</th>\n",
       "      <td>1460.0</td>\n",
       "      <td>6.321918</td>\n",
       "      <td>2.703626</td>\n",
       "      <td>1.0</td>\n",
       "      <td>5.00</td>\n",
       "      <td>6.0</td>\n",
       "      <td>8.00</td>\n",
       "      <td>12.0</td>\n",
       "    </tr>\n",
       "    <tr>\n",
       "      <th>YrSold</th>\n",
       "      <td>1460.0</td>\n",
       "      <td>2007.815753</td>\n",
       "      <td>1.328095</td>\n",
       "      <td>2006.0</td>\n",
       "      <td>2007.00</td>\n",
       "      <td>2008.0</td>\n",
       "      <td>2009.00</td>\n",
       "      <td>2010.0</td>\n",
       "    </tr>\n",
       "    <tr>\n",
       "      <th>SalePrice</th>\n",
       "      <td>1460.0</td>\n",
       "      <td>180921.195890</td>\n",
       "      <td>79442.502883</td>\n",
       "      <td>34900.0</td>\n",
       "      <td>129975.00</td>\n",
       "      <td>163000.0</td>\n",
       "      <td>214000.00</td>\n",
       "      <td>755000.0</td>\n",
       "    </tr>\n",
       "  </tbody>\n",
       "</table>\n",
       "</div>"
      ],
      "text/plain": [
       "                count           mean           std      min        25%  \\\n",
       "MSSubClass     1460.0      56.897260     42.300571     20.0      20.00   \n",
       "LotFrontage    1201.0      70.049958     24.284752     21.0      59.00   \n",
       "LotArea        1460.0   10516.828082   9981.264932   1300.0    7553.50   \n",
       "OverallQual    1460.0       6.099315      1.382997      1.0       5.00   \n",
       "OverallCond    1460.0       5.575342      1.112799      1.0       5.00   \n",
       "YearBuilt      1460.0    1971.267808     30.202904   1872.0    1954.00   \n",
       "YearRemodAdd   1460.0    1984.865753     20.645407   1950.0    1967.00   \n",
       "MasVnrArea     1452.0     103.685262    181.066207      0.0       0.00   \n",
       "BsmtFinSF1     1460.0     443.639726    456.098091      0.0       0.00   \n",
       "BsmtFinSF2     1460.0      46.549315    161.319273      0.0       0.00   \n",
       "BsmtUnfSF      1460.0     567.240411    441.866955      0.0     223.00   \n",
       "TotalBsmtSF    1460.0    1057.429452    438.705324      0.0     795.75   \n",
       "1stFlrSF       1460.0    1162.626712    386.587738    334.0     882.00   \n",
       "2ndFlrSF       1460.0     346.992466    436.528436      0.0       0.00   \n",
       "LowQualFinSF   1460.0       5.844521     48.623081      0.0       0.00   \n",
       "GrLivArea      1460.0    1515.463699    525.480383    334.0    1129.50   \n",
       "BsmtFullBath   1460.0       0.425342      0.518911      0.0       0.00   \n",
       "BsmtHalfBath   1460.0       0.057534      0.238753      0.0       0.00   \n",
       "FullBath       1460.0       1.565068      0.550916      0.0       1.00   \n",
       "HalfBath       1460.0       0.382877      0.502885      0.0       0.00   \n",
       "BedroomAbvGr   1460.0       2.866438      0.815778      0.0       2.00   \n",
       "KitchenAbvGr   1460.0       1.046575      0.220338      0.0       1.00   \n",
       "TotRmsAbvGrd   1460.0       6.517808      1.625393      2.0       5.00   \n",
       "Fireplaces     1460.0       0.613014      0.644666      0.0       0.00   \n",
       "GarageYrBlt    1379.0    1978.506164     24.689725   1900.0    1961.00   \n",
       "GarageCars     1460.0       1.767123      0.747315      0.0       1.00   \n",
       "GarageArea     1460.0     472.980137    213.804841      0.0     334.50   \n",
       "WoodDeckSF     1460.0      94.244521    125.338794      0.0       0.00   \n",
       "OpenPorchSF    1460.0      46.660274     66.256028      0.0       0.00   \n",
       "EnclosedPorch  1460.0      21.954110     61.119149      0.0       0.00   \n",
       "3SsnPorch      1460.0       3.409589     29.317331      0.0       0.00   \n",
       "ScreenPorch    1460.0      15.060959     55.757415      0.0       0.00   \n",
       "PoolArea       1460.0       2.758904     40.177307      0.0       0.00   \n",
       "MiscVal        1460.0      43.489041    496.123024      0.0       0.00   \n",
       "MoSold         1460.0       6.321918      2.703626      1.0       5.00   \n",
       "YrSold         1460.0    2007.815753      1.328095   2006.0    2007.00   \n",
       "SalePrice      1460.0  180921.195890  79442.502883  34900.0  129975.00   \n",
       "\n",
       "                    50%        75%       max  \n",
       "MSSubClass         50.0      70.00     190.0  \n",
       "LotFrontage        69.0      80.00     313.0  \n",
       "LotArea          9478.5   11601.50  215245.0  \n",
       "OverallQual         6.0       7.00      10.0  \n",
       "OverallCond         5.0       6.00       9.0  \n",
       "YearBuilt        1973.0    2000.00    2010.0  \n",
       "YearRemodAdd     1994.0    2004.00    2010.0  \n",
       "MasVnrArea          0.0     166.00    1600.0  \n",
       "BsmtFinSF1        383.5     712.25    5644.0  \n",
       "BsmtFinSF2          0.0       0.00    1474.0  \n",
       "BsmtUnfSF         477.5     808.00    2336.0  \n",
       "TotalBsmtSF       991.5    1298.25    6110.0  \n",
       "1stFlrSF         1087.0    1391.25    4692.0  \n",
       "2ndFlrSF            0.0     728.00    2065.0  \n",
       "LowQualFinSF        0.0       0.00     572.0  \n",
       "GrLivArea        1464.0    1776.75    5642.0  \n",
       "BsmtFullBath        0.0       1.00       3.0  \n",
       "BsmtHalfBath        0.0       0.00       2.0  \n",
       "FullBath            2.0       2.00       3.0  \n",
       "HalfBath            0.0       1.00       2.0  \n",
       "BedroomAbvGr        3.0       3.00       8.0  \n",
       "KitchenAbvGr        1.0       1.00       3.0  \n",
       "TotRmsAbvGrd        6.0       7.00      14.0  \n",
       "Fireplaces          1.0       1.00       3.0  \n",
       "GarageYrBlt      1980.0    2002.00    2010.0  \n",
       "GarageCars          2.0       2.00       4.0  \n",
       "GarageArea        480.0     576.00    1418.0  \n",
       "WoodDeckSF          0.0     168.00     857.0  \n",
       "OpenPorchSF        25.0      68.00     547.0  \n",
       "EnclosedPorch       0.0       0.00     552.0  \n",
       "3SsnPorch           0.0       0.00     508.0  \n",
       "ScreenPorch         0.0       0.00     480.0  \n",
       "PoolArea            0.0       0.00     738.0  \n",
       "MiscVal             0.0       0.00   15500.0  \n",
       "MoSold              6.0       8.00      12.0  \n",
       "YrSold           2008.0    2009.00    2010.0  \n",
       "SalePrice      163000.0  214000.00  755000.0  "
      ]
     },
     "execution_count": 5,
     "metadata": {},
     "output_type": "execute_result"
    }
   ],
   "source": [
    "raw_data.describe().T"
   ]
  },
  {
   "cell_type": "markdown",
   "metadata": {
    "id": "V2zHfHPXq93J"
   },
   "source": [
    "<table align='left'>\n",
    "    <tr>\n",
    "        <td width='8%'>\n",
    "            <img src='note.png'>\n",
    "        </td>\n",
    "        <td>\n",
    "            <div align='left', style='font-size:120%'>\n",
    "                    <b>From the above output, we see that not all the variables are numeric. Many variables, including the target variable are categorical variables<br>\n",
    "                    </br></b>\n",
    "                </font>\n",
    "            </div>\n",
    "        </td>\n",
    "    </tr>\n",
    "</table>"
   ]
  },
  {
   "cell_type": "code",
   "execution_count": 6,
   "metadata": {
    "id": "pypVsXcgq93K",
    "outputId": "d447e341-3353-477f-e073-6a718df51c43"
   },
   "outputs": [
    {
     "name": "stdout",
     "output_type": "stream",
     "text": [
      "(1460, 80)\n"
     ]
    }
   ],
   "source": [
    "# get the shape\n",
    "print(raw_data.shape)"
   ]
  },
  {
   "cell_type": "markdown",
   "metadata": {
    "id": "3-L40Ptcq93K"
   },
   "source": [
    "**We see the dataframe has 80 columns and 1460 observations**"
   ]
  },
  {
   "cell_type": "markdown",
   "metadata": {
    "id": "8pkyq-iNq93L"
   },
   "source": [
    "<table align='left'>\n",
    "    <tr>\n",
    "        <td width='8%'>\n",
    "            <img src='note.png'>\n",
    "        </td>\n",
    "        <td>\n",
    "            <div align='left', style='font-size:120%'>\n",
    "                    <b>From the above output, we see that the data type of the variables like 'MSSubclass', 'OverallQual', 'OverallCond' has 'int64' data type<br><br>\n",
    "                        But by data definition these are 'categorical' variables. So we will convert the data type of these variables  to object\n",
    "                    </br></b>\n",
    "                </font>\n",
    "            </div>\n",
    "        </td>\n",
    "    </tr>\n",
    "</table>"
   ]
  },
  {
   "cell_type": "code",
   "execution_count": 7,
   "metadata": {
    "executionInfo": {
     "elapsed": 414,
     "status": "ok",
     "timestamp": 1679024954747,
     "user": {
      "displayName": "Nikita Tandel",
      "userId": "13201249445825337206"
     },
     "user_tz": -330
    },
    "id": "9wcdz9Chq93L"
   },
   "outputs": [],
   "source": [
    "# Use .astype() to change the data type\n",
    "# use 'for' loop to change the data type of a large number of columns\n",
    "for feature in ['MSSubClass','OverallQual','OverallCond']:\n",
    "    raw_data[feature] = raw_data[feature].astype('object')"
   ]
  },
  {
   "cell_type": "markdown",
   "metadata": {
    "id": "Y7fKKPQaq93M"
   },
   "source": [
    "**Let us now recheck the data type once again after we have done the conversion in the immediate last step**"
   ]
  },
  {
   "cell_type": "code",
   "execution_count": 8,
   "metadata": {
    "id": "VVVunJFtq93M",
    "outputId": "0e880b6a-bae2-4257-d342-4fb44aab2a9b"
   },
   "outputs": [
    {
     "data": {
      "text/plain": [
       "MSSubClass        object\n",
       "MSZoning          object\n",
       "LotFrontage      float64\n",
       "LotArea            int64\n",
       "Street            object\n",
       "                  ...   \n",
       "MoSold             int64\n",
       "YrSold             int64\n",
       "SaleType          object\n",
       "SaleCondition     object\n",
       "SalePrice          int64\n",
       "Length: 80, dtype: object"
      ]
     },
     "execution_count": 8,
     "metadata": {},
     "output_type": "execute_result"
    }
   ],
   "source": [
    "# recheck of the data type\n",
    "raw_data.dtypes"
   ]
  },
  {
   "cell_type": "markdown",
   "metadata": {
    "id": "3EN7qDAwq93N"
   },
   "source": [
    "<a id='Feature_Engineering'></a>\n",
    "## 3.2 Feature Engineering\n",
    "\n",
    "\n"
   ]
  },
  {
   "cell_type": "markdown",
   "metadata": {
    "id": "JFhAl9oGq93N"
   },
   "source": [
    "<table align=\"left\">\n",
    "    <tr>\n",
    "        <td width=\"8%\">\n",
    "            <img src=\"key.png\">\n",
    "        </td>\n",
    "        <td>\n",
    "            <div align=\"left\", style=\"font-size:120%\">\n",
    "                    <b> Features like 'YearBuilt' and 'YearRemodAdd' represent the initial construction year and year of remodeling respectively. Create new columns namely, 'Buiding_age' and 'Remodel_age' that provide the information about the age of building and years since remodeled\n",
    "          <br>\n",
    "                    </b>\n",
    "                </font>\n",
    "            </div>\n",
    "        </td>\n",
    "    </tr>\n",
    "</table>"
   ]
  },
  {
   "cell_type": "code",
   "execution_count": 9,
   "metadata": {
    "executionInfo": {
     "elapsed": 1006,
     "status": "ok",
     "timestamp": 1679024960715,
     "user": {
      "displayName": "Nikita Tandel",
      "userId": "13201249445825337206"
     },
     "user_tz": -330
    },
    "id": "lIFZqg28q93O"
   },
   "outputs": [],
   "source": [
    "# 'now().year' gives the current year\n",
    "# store the year as 'current_year'\n",
    "current_year = int(dt.datetime.now().year)          "
   ]
  },
  {
   "cell_type": "code",
   "execution_count": 10,
   "metadata": {
    "executionInfo": {
     "elapsed": 5,
     "status": "ok",
     "timestamp": 1679024960716,
     "user": {
      "displayName": "Nikita Tandel",
      "userId": "13201249445825337206"
     },
     "user_tz": -330
    },
    "id": "kj8AZesqq93O"
   },
   "outputs": [],
   "source": [
    "# creating 2 new columns as 'Buiding_age' and 'Remoel_age' \n",
    "Buiding_age = current_year - raw_data.YearBuilt\n",
    "Remodel_age = current_year - raw_data.YearRemodAdd"
   ]
  },
  {
   "cell_type": "code",
   "execution_count": 11,
   "metadata": {
    "executionInfo": {
     "elapsed": 6,
     "status": "ok",
     "timestamp": 1679024961312,
     "user": {
      "displayName": "Nikita Tandel",
      "userId": "13201249445825337206"
     },
     "user_tz": -330
    },
    "id": "KvQU2M1mq93O"
   },
   "outputs": [],
   "source": [
    "# add the above columns in our dataframe\n",
    "raw_data['Buiding_age'] = Buiding_age\n",
    "raw_data['Remodel_age'] = Remodel_age"
   ]
  },
  {
   "cell_type": "code",
   "execution_count": 12,
   "metadata": {
    "colab": {
     "base_uri": "https://localhost:8080/",
     "height": 331
    },
    "executionInfo": {
     "elapsed": 7,
     "status": "ok",
     "timestamp": 1679024961928,
     "user": {
      "displayName": "Nikita Tandel",
      "userId": "13201249445825337206"
     },
     "user_tz": -330
    },
    "id": "kscI9nTiq93P",
    "outputId": "8c947511-8185-4146-a1af-7d65deb0e3fc"
   },
   "outputs": [
    {
     "data": {
      "text/html": [
       "<div>\n",
       "<style scoped>\n",
       "    .dataframe tbody tr th:only-of-type {\n",
       "        vertical-align: middle;\n",
       "    }\n",
       "\n",
       "    .dataframe tbody tr th {\n",
       "        vertical-align: top;\n",
       "    }\n",
       "\n",
       "    .dataframe thead th {\n",
       "        text-align: right;\n",
       "    }\n",
       "</style>\n",
       "<table border=\"1\" class=\"dataframe\">\n",
       "  <thead>\n",
       "    <tr style=\"text-align: right;\">\n",
       "      <th></th>\n",
       "      <th>MSSubClass</th>\n",
       "      <th>MSZoning</th>\n",
       "      <th>LotFrontage</th>\n",
       "      <th>LotArea</th>\n",
       "      <th>Street</th>\n",
       "      <th>Alley</th>\n",
       "      <th>LotShape</th>\n",
       "      <th>LandContour</th>\n",
       "      <th>Utilities</th>\n",
       "      <th>LotConfig</th>\n",
       "      <th>...</th>\n",
       "      <th>Fence</th>\n",
       "      <th>MiscFeature</th>\n",
       "      <th>MiscVal</th>\n",
       "      <th>MoSold</th>\n",
       "      <th>YrSold</th>\n",
       "      <th>SaleType</th>\n",
       "      <th>SaleCondition</th>\n",
       "      <th>SalePrice</th>\n",
       "      <th>Buiding_age</th>\n",
       "      <th>Remodel_age</th>\n",
       "    </tr>\n",
       "    <tr>\n",
       "      <th>Id</th>\n",
       "      <th></th>\n",
       "      <th></th>\n",
       "      <th></th>\n",
       "      <th></th>\n",
       "      <th></th>\n",
       "      <th></th>\n",
       "      <th></th>\n",
       "      <th></th>\n",
       "      <th></th>\n",
       "      <th></th>\n",
       "      <th></th>\n",
       "      <th></th>\n",
       "      <th></th>\n",
       "      <th></th>\n",
       "      <th></th>\n",
       "      <th></th>\n",
       "      <th></th>\n",
       "      <th></th>\n",
       "      <th></th>\n",
       "      <th></th>\n",
       "      <th></th>\n",
       "    </tr>\n",
       "  </thead>\n",
       "  <tbody>\n",
       "    <tr>\n",
       "      <th>1</th>\n",
       "      <td>60</td>\n",
       "      <td>RL</td>\n",
       "      <td>65.0</td>\n",
       "      <td>8450</td>\n",
       "      <td>Pave</td>\n",
       "      <td>NaN</td>\n",
       "      <td>Reg</td>\n",
       "      <td>Lvl</td>\n",
       "      <td>AllPub</td>\n",
       "      <td>Inside</td>\n",
       "      <td>...</td>\n",
       "      <td>NaN</td>\n",
       "      <td>NaN</td>\n",
       "      <td>0</td>\n",
       "      <td>2</td>\n",
       "      <td>2008</td>\n",
       "      <td>WD</td>\n",
       "      <td>Normal</td>\n",
       "      <td>208500</td>\n",
       "      <td>20</td>\n",
       "      <td>20</td>\n",
       "    </tr>\n",
       "    <tr>\n",
       "      <th>2</th>\n",
       "      <td>20</td>\n",
       "      <td>RL</td>\n",
       "      <td>80.0</td>\n",
       "      <td>9600</td>\n",
       "      <td>Pave</td>\n",
       "      <td>NaN</td>\n",
       "      <td>Reg</td>\n",
       "      <td>Lvl</td>\n",
       "      <td>AllPub</td>\n",
       "      <td>FR2</td>\n",
       "      <td>...</td>\n",
       "      <td>NaN</td>\n",
       "      <td>NaN</td>\n",
       "      <td>0</td>\n",
       "      <td>5</td>\n",
       "      <td>2007</td>\n",
       "      <td>WD</td>\n",
       "      <td>Normal</td>\n",
       "      <td>181500</td>\n",
       "      <td>47</td>\n",
       "      <td>47</td>\n",
       "    </tr>\n",
       "    <tr>\n",
       "      <th>3</th>\n",
       "      <td>60</td>\n",
       "      <td>RL</td>\n",
       "      <td>68.0</td>\n",
       "      <td>11250</td>\n",
       "      <td>Pave</td>\n",
       "      <td>NaN</td>\n",
       "      <td>IR1</td>\n",
       "      <td>Lvl</td>\n",
       "      <td>AllPub</td>\n",
       "      <td>Inside</td>\n",
       "      <td>...</td>\n",
       "      <td>NaN</td>\n",
       "      <td>NaN</td>\n",
       "      <td>0</td>\n",
       "      <td>9</td>\n",
       "      <td>2008</td>\n",
       "      <td>WD</td>\n",
       "      <td>Normal</td>\n",
       "      <td>223500</td>\n",
       "      <td>22</td>\n",
       "      <td>21</td>\n",
       "    </tr>\n",
       "    <tr>\n",
       "      <th>4</th>\n",
       "      <td>70</td>\n",
       "      <td>RL</td>\n",
       "      <td>60.0</td>\n",
       "      <td>9550</td>\n",
       "      <td>Pave</td>\n",
       "      <td>NaN</td>\n",
       "      <td>IR1</td>\n",
       "      <td>Lvl</td>\n",
       "      <td>AllPub</td>\n",
       "      <td>Corner</td>\n",
       "      <td>...</td>\n",
       "      <td>NaN</td>\n",
       "      <td>NaN</td>\n",
       "      <td>0</td>\n",
       "      <td>2</td>\n",
       "      <td>2006</td>\n",
       "      <td>WD</td>\n",
       "      <td>Abnorml</td>\n",
       "      <td>140000</td>\n",
       "      <td>108</td>\n",
       "      <td>53</td>\n",
       "    </tr>\n",
       "    <tr>\n",
       "      <th>5</th>\n",
       "      <td>60</td>\n",
       "      <td>RL</td>\n",
       "      <td>84.0</td>\n",
       "      <td>14260</td>\n",
       "      <td>Pave</td>\n",
       "      <td>NaN</td>\n",
       "      <td>IR1</td>\n",
       "      <td>Lvl</td>\n",
       "      <td>AllPub</td>\n",
       "      <td>FR2</td>\n",
       "      <td>...</td>\n",
       "      <td>NaN</td>\n",
       "      <td>NaN</td>\n",
       "      <td>0</td>\n",
       "      <td>12</td>\n",
       "      <td>2008</td>\n",
       "      <td>WD</td>\n",
       "      <td>Normal</td>\n",
       "      <td>250000</td>\n",
       "      <td>23</td>\n",
       "      <td>23</td>\n",
       "    </tr>\n",
       "  </tbody>\n",
       "</table>\n",
       "<p>5 rows × 82 columns</p>\n",
       "</div>"
      ],
      "text/plain": [
       "   MSSubClass MSZoning  LotFrontage  LotArea Street Alley LotShape  \\\n",
       "Id                                                                   \n",
       "1          60       RL         65.0     8450   Pave   NaN      Reg   \n",
       "2          20       RL         80.0     9600   Pave   NaN      Reg   \n",
       "3          60       RL         68.0    11250   Pave   NaN      IR1   \n",
       "4          70       RL         60.0     9550   Pave   NaN      IR1   \n",
       "5          60       RL         84.0    14260   Pave   NaN      IR1   \n",
       "\n",
       "   LandContour Utilities LotConfig  ... Fence MiscFeature MiscVal MoSold  \\\n",
       "Id                                  ...                                    \n",
       "1          Lvl    AllPub    Inside  ...   NaN         NaN       0      2   \n",
       "2          Lvl    AllPub       FR2  ...   NaN         NaN       0      5   \n",
       "3          Lvl    AllPub    Inside  ...   NaN         NaN       0      9   \n",
       "4          Lvl    AllPub    Corner  ...   NaN         NaN       0      2   \n",
       "5          Lvl    AllPub       FR2  ...   NaN         NaN       0     12   \n",
       "\n",
       "   YrSold SaleType SaleCondition SalePrice  Buiding_age  Remodel_age  \n",
       "Id                                                                    \n",
       "1    2008       WD        Normal    208500           20           20  \n",
       "2    2007       WD        Normal    181500           47           47  \n",
       "3    2008       WD        Normal    223500           22           21  \n",
       "4    2006       WD       Abnorml    140000          108           53  \n",
       "5    2008       WD        Normal    250000           23           23  \n",
       "\n",
       "[5 rows x 82 columns]"
      ]
     },
     "execution_count": 12,
     "metadata": {},
     "output_type": "execute_result"
    }
   ],
   "source": [
    "# printing the head of the data to check whether the new columns are added or not\n",
    "raw_data.head()"
   ]
  },
  {
   "cell_type": "code",
   "execution_count": 13,
   "metadata": {
    "colab": {
     "base_uri": "https://localhost:8080/"
    },
    "executionInfo": {
     "elapsed": 9,
     "status": "ok",
     "timestamp": 1679024962539,
     "user": {
      "displayName": "Nikita Tandel",
      "userId": "13201249445825337206"
     },
     "user_tz": -330
    },
    "id": "ZmEAr-ljq93P",
    "outputId": "8520657f-6c36-43dc-bd9c-a9bbff7f1dcc"
   },
   "outputs": [
    {
     "data": {
      "text/plain": [
       "(1460, 82)"
      ]
     },
     "execution_count": 13,
     "metadata": {},
     "output_type": "execute_result"
    }
   ],
   "source": [
    "raw_data.shape"
   ]
  },
  {
   "cell_type": "markdown",
   "metadata": {
    "id": "chuUrP-Uq93Q"
   },
   "source": [
    "**We see the dataframe has 82 columns and 1460 observations**"
   ]
  },
  {
   "cell_type": "markdown",
   "metadata": {
    "id": "bEsGoIr1q93Q"
   },
   "source": [
    "<a id='Missing_Data_Treatment'></a>\n",
    "## 3.3. Missing Data Treatment\n",
    "We can not perform the matrix operations in PCA without removing null values in the data "
   ]
  },
  {
   "cell_type": "markdown",
   "metadata": {
    "id": "BgnHXCpPq93Q"
   },
   "source": [
    "**First run a check for the presence of missing values and their percentage for each column. Then choose the right approach to remove them**"
   ]
  },
  {
   "cell_type": "markdown",
   "metadata": {
    "id": "_Ff02T4-q93Q"
   },
   "source": [
    "<table align=\"left\">\n",
    "    <tr>\n",
    "        <td width=\"8%\">\n",
    "            <img src=\"key.png\">\n",
    "        </td>\n",
    "        <td>\n",
    "            <div align=\"left\", style=\"font-size:120%\">\n",
    "                    <b>In order to get the count of missing values in each column, we use the in-built function .isnull().sum()\n",
    "                    </b>\n",
    "                </font>\n",
    "            </div>\n",
    "        </td>\n",
    "    </tr>\n",
    "</table>"
   ]
  },
  {
   "cell_type": "code",
   "execution_count": 14,
   "metadata": {},
   "outputs": [
    {
     "data": {
      "text/plain": [
       "6965"
      ]
     },
     "execution_count": 14,
     "metadata": {},
     "output_type": "execute_result"
    }
   ],
   "source": [
    "raw_data.isnull().sum().sum()"
   ]
  },
  {
   "cell_type": "code",
   "execution_count": 15,
   "metadata": {},
   "outputs": [
    {
     "data": {
      "text/plain": [
       "PoolQC         1453\n",
       "MiscFeature    1406\n",
       "Alley          1369\n",
       "Fence          1179\n",
       "FireplaceQu     690\n",
       "               ... \n",
       "Foundation        0\n",
       "ExterCond         0\n",
       "ExterQual         0\n",
       "Exterior2nd       0\n",
       "Remodel_age       0\n",
       "Length: 82, dtype: int64"
      ]
     },
     "execution_count": 15,
     "metadata": {},
     "output_type": "execute_result"
    }
   ],
   "source": [
    "raw_data.isnull().sum().sort_values(ascending=False)"
   ]
  },
  {
   "cell_type": "code",
   "execution_count": 16,
   "metadata": {
    "colab": {
     "base_uri": "https://localhost:8080/",
     "height": 424
    },
    "executionInfo": {
     "elapsed": 21,
     "status": "ok",
     "timestamp": 1679024965275,
     "user": {
      "displayName": "Nikita Tandel",
      "userId": "13201249445825337206"
     },
     "user_tz": -330
    },
    "id": "Ba09wA_Pq93R",
    "outputId": "d894f62d-d8ee-4041-a3ca-fd9b37892165"
   },
   "outputs": [
    {
     "data": {
      "text/html": [
       "<div>\n",
       "<style scoped>\n",
       "    .dataframe tbody tr th:only-of-type {\n",
       "        vertical-align: middle;\n",
       "    }\n",
       "\n",
       "    .dataframe tbody tr th {\n",
       "        vertical-align: top;\n",
       "    }\n",
       "\n",
       "    .dataframe thead th {\n",
       "        text-align: right;\n",
       "    }\n",
       "</style>\n",
       "<table border=\"1\" class=\"dataframe\">\n",
       "  <thead>\n",
       "    <tr style=\"text-align: right;\">\n",
       "      <th></th>\n",
       "      <th>Total</th>\n",
       "      <th>Percent</th>\n",
       "    </tr>\n",
       "  </thead>\n",
       "  <tbody>\n",
       "    <tr>\n",
       "      <th>PoolQC</th>\n",
       "      <td>1453</td>\n",
       "      <td>99.520548</td>\n",
       "    </tr>\n",
       "    <tr>\n",
       "      <th>MiscFeature</th>\n",
       "      <td>1406</td>\n",
       "      <td>96.301370</td>\n",
       "    </tr>\n",
       "    <tr>\n",
       "      <th>Alley</th>\n",
       "      <td>1369</td>\n",
       "      <td>93.767123</td>\n",
       "    </tr>\n",
       "    <tr>\n",
       "      <th>Fence</th>\n",
       "      <td>1179</td>\n",
       "      <td>80.753425</td>\n",
       "    </tr>\n",
       "    <tr>\n",
       "      <th>FireplaceQu</th>\n",
       "      <td>690</td>\n",
       "      <td>47.260274</td>\n",
       "    </tr>\n",
       "    <tr>\n",
       "      <th>...</th>\n",
       "      <td>...</td>\n",
       "      <td>...</td>\n",
       "    </tr>\n",
       "    <tr>\n",
       "      <th>Foundation</th>\n",
       "      <td>0</td>\n",
       "      <td>0.000000</td>\n",
       "    </tr>\n",
       "    <tr>\n",
       "      <th>ExterCond</th>\n",
       "      <td>0</td>\n",
       "      <td>0.000000</td>\n",
       "    </tr>\n",
       "    <tr>\n",
       "      <th>ExterQual</th>\n",
       "      <td>0</td>\n",
       "      <td>0.000000</td>\n",
       "    </tr>\n",
       "    <tr>\n",
       "      <th>Exterior2nd</th>\n",
       "      <td>0</td>\n",
       "      <td>0.000000</td>\n",
       "    </tr>\n",
       "    <tr>\n",
       "      <th>Remodel_age</th>\n",
       "      <td>0</td>\n",
       "      <td>0.000000</td>\n",
       "    </tr>\n",
       "  </tbody>\n",
       "</table>\n",
       "<p>82 rows × 2 columns</p>\n",
       "</div>"
      ],
      "text/plain": [
       "             Total    Percent\n",
       "PoolQC        1453  99.520548\n",
       "MiscFeature   1406  96.301370\n",
       "Alley         1369  93.767123\n",
       "Fence         1179  80.753425\n",
       "FireplaceQu    690  47.260274\n",
       "...            ...        ...\n",
       "Foundation       0   0.000000\n",
       "ExterCond        0   0.000000\n",
       "ExterQual        0   0.000000\n",
       "Exterior2nd      0   0.000000\n",
       "Remodel_age      0   0.000000\n",
       "\n",
       "[82 rows x 2 columns]"
      ]
     },
     "execution_count": 16,
     "metadata": {},
     "output_type": "execute_result"
    }
   ],
   "source": [
    "# sorting variables on the basis of null values\n",
    "# 'ascending = False' sorts values in the descending order\n",
    "Total = raw_data.isnull().sum().sort_values(ascending=False)          \n",
    "\n",
    "# percentage of missing values\n",
    "Percent = (raw_data.isnull().sum()*100/raw_data.isnull().count()).sort_values(ascending=False)   \n",
    "\n",
    "# concat the 'Total' and 'Percent' columns using 'concat' function\n",
    "# 'keys' is the list of column names\n",
    "# 'axis = 1' concats along the columns\n",
    "missing_data = pd.concat([Total, Percent], axis=1, keys=['Total', 'Percent'])    \n",
    "missing_data"
   ]
  },
  {
   "cell_type": "markdown",
   "metadata": {
    "id": "wukRoSmLq93R"
   },
   "source": [
    "<table align=\"left\">\n",
    "    <tr>\n",
    "        <td width=\"8%\">\n",
    "            <img src=\"note.png\">\n",
    "        </td>\n",
    "        <td>\n",
    "            <div align=\"left\", style=\"font-size:120%\">\n",
    "<b>The variables 'PoolQC', 'MiscFeature', 'Alley', etc. have a higher percentage of missing values. So maybe removing these variables will be a good option<br><br>\n",
    "\n",
    "But, there is a catch here!<br><br>\n",
    "\n",
    "According to the data definition, for the variable 'Alley', 'NA' is the type of alley access. But, Python treats this 'NA' as a null value. <br>\n",
    "\n",
    "Check for such false missing values and replace them with their actual meaning</b>     </font>\n",
    "            </div>\n",
    "        </td>\n",
    "    </tr>\n",
    "</table>"
   ]
  },
  {
   "cell_type": "markdown",
   "metadata": {
    "id": "ouoSwdf9q93R"
   },
   "source": [
    "**Replace the 'NA' values with their actual meaning as per the data definition**"
   ]
  },
  {
   "cell_type": "code",
   "execution_count": 17,
   "metadata": {},
   "outputs": [
    {
     "data": {
      "text/plain": [
       "Grvl    50\n",
       "Pave    41\n",
       "Name: Alley, dtype: int64"
      ]
     },
     "execution_count": 17,
     "metadata": {},
     "output_type": "execute_result"
    }
   ],
   "source": [
    "raw_data['Alley'].value_counts()"
   ]
  },
  {
   "cell_type": "code",
   "execution_count": 18,
   "metadata": {
    "executionInfo": {
     "elapsed": 9,
     "status": "ok",
     "timestamp": 1679024966966,
     "user": {
      "displayName": "Nikita Tandel",
      "userId": "13201249445825337206"
     },
     "user_tz": -330
    },
    "id": "gD_-Y6Bxq93S"
   },
   "outputs": [],
   "source": [
    "# replace NA values in 'Alley' with a valid value, 'No alley access' \n",
    "raw_data['Alley'].fillna('No alley access' , inplace = True)"
   ]
  },
  {
   "cell_type": "code",
   "execution_count": 19,
   "metadata": {
    "executionInfo": {
     "elapsed": 3,
     "status": "ok",
     "timestamp": 1679024968975,
     "user": {
      "displayName": "Nikita Tandel",
      "userId": "13201249445825337206"
     },
     "user_tz": -330
    },
    "id": "l9a4uRu7q93S"
   },
   "outputs": [],
   "source": [
    "# 'MasVnrType' have 0.55% NA values, replace it with 'None'\n",
    "raw_data['MasVnrType'].fillna('None' , inplace = True)"
   ]
  },
  {
   "cell_type": "code",
   "execution_count": 20,
   "metadata": {
    "executionInfo": {
     "elapsed": 3,
     "status": "ok",
     "timestamp": 1679024969433,
     "user": {
      "displayName": "Nikita Tandel",
      "userId": "13201249445825337206"
     },
     "user_tz": -330
    },
    "id": "BftiYmj7q93T"
   },
   "outputs": [],
   "source": [
    "# use 'for' loop for filling NA values with 'No Basement' in the following 5 columns \n",
    "for col in ['BsmtQual','BsmtCond','BsmtExposure','BsmtFinType1','BsmtFinType2']:\n",
    "    raw_data[col].fillna('No Basement' , inplace = True)"
   ]
  },
  {
   "cell_type": "code",
   "execution_count": 21,
   "metadata": {
    "executionInfo": {
     "elapsed": 3,
     "status": "ok",
     "timestamp": 1679024969953,
     "user": {
      "displayName": "Nikita Tandel",
      "userId": "13201249445825337206"
     },
     "user_tz": -330
    },
    "id": "JJ6MgUDYq93T"
   },
   "outputs": [],
   "source": [
    "# replace NA values in 'Electrical' with its mode 'SBrkr'\n",
    "raw_data['Electrical'].fillna('SBrkr' , inplace = True)"
   ]
  },
  {
   "cell_type": "code",
   "execution_count": 22,
   "metadata": {
    "executionInfo": {
     "elapsed": 3,
     "status": "ok",
     "timestamp": 1679024970533,
     "user": {
      "displayName": "Nikita Tandel",
      "userId": "13201249445825337206"
     },
     "user_tz": -330
    },
    "id": "8c2mD1oIq93U"
   },
   "outputs": [],
   "source": [
    "# replace null values in 'FireplaceQu' with a valid value, 'No Fireplace' \n",
    "raw_data['FireplaceQu'].fillna('No Fireplace' , inplace = True)"
   ]
  },
  {
   "cell_type": "code",
   "execution_count": 23,
   "metadata": {
    "executionInfo": {
     "elapsed": 3,
     "status": "ok",
     "timestamp": 1679024970534,
     "user": {
      "displayName": "Nikita Tandel",
      "userId": "13201249445825337206"
     },
     "user_tz": -330
    },
    "id": "vceKkXxRq93V"
   },
   "outputs": [],
   "source": [
    "# use 'for loop' to replace NA values in the below columns with a valid value, 'No Garage' \n",
    "for col in ['GarageType','GarageFinish','GarageQual','GarageCond']:\n",
    "    raw_data[col].fillna('No Garage' , inplace = True)"
   ]
  },
  {
   "cell_type": "code",
   "execution_count": 24,
   "metadata": {
    "executionInfo": {
     "elapsed": 2,
     "status": "ok",
     "timestamp": 1679024971137,
     "user": {
      "displayName": "Nikita Tandel",
      "userId": "13201249445825337206"
     },
     "user_tz": -330
    },
    "id": "Nn6VyNX_q93W"
   },
   "outputs": [],
   "source": [
    "# replace NA values in 'PoolQC' with a valid value, 'No Pool'\n",
    "raw_data['PoolQC'].fillna('No Pool' , inplace = True)"
   ]
  },
  {
   "cell_type": "code",
   "execution_count": 25,
   "metadata": {
    "executionInfo": {
     "elapsed": 470,
     "status": "ok",
     "timestamp": 1679024972599,
     "user": {
      "displayName": "Nikita Tandel",
      "userId": "13201249445825337206"
     },
     "user_tz": -330
    },
    "id": "KUgK6rZ0q93W"
   },
   "outputs": [],
   "source": [
    "# replace NA values in 'Fence' with a valid value, 'No Fence'\n",
    "raw_data['Fence'].fillna('No Fence' , inplace = True)"
   ]
  },
  {
   "cell_type": "code",
   "execution_count": 26,
   "metadata": {
    "executionInfo": {
     "elapsed": 4,
     "status": "ok",
     "timestamp": 1679024972599,
     "user": {
      "displayName": "Nikita Tandel",
      "userId": "13201249445825337206"
     },
     "user_tz": -330
    },
    "id": "4Yd1cLGFq93X"
   },
   "outputs": [],
   "source": [
    "# replace NA values in 'MiscFeature' with a valid value, 'None'\n",
    "raw_data['MiscFeature'].fillna('None' , inplace = True)"
   ]
  },
  {
   "cell_type": "markdown",
   "metadata": {
    "id": "8KYBRNG3q93X"
   },
   "source": [
    "<table align=\"left\">\n",
    "    <tr>\n",
    "        <td width=\"8%\">\n",
    "            <img src=\"note.png\">\n",
    "        </td>\n",
    "        <td>\n",
    "            <div align=\"left\", style=\"font-size:120%\">\n",
    "                <font color=\"#21618C\">\n",
    "                    <b>For the numerical variables, replace the missing values by their respective mean, median or mode as per the requirement </b>\n",
    "                </font>\n",
    "            </div>\n",
    "        </td>\n",
    "    </tr>\n",
    "</table>"
   ]
  },
  {
   "cell_type": "code",
   "execution_count": 27,
   "metadata": {
    "executionInfo": {
     "elapsed": 7,
     "status": "ok",
     "timestamp": 1679024973253,
     "user": {
      "displayName": "Nikita Tandel",
      "userId": "13201249445825337206"
     },
     "user_tz": -330
    },
    "id": "MU3XUUbSq93Y"
   },
   "outputs": [],
   "source": [
    "# 'LotFrontage' has 17.74% of missing values, Replace these with its median value\n",
    "raw_data['LotFrontage'].fillna(raw_data['LotFrontage'].median() , inplace = True)"
   ]
  },
  {
   "cell_type": "code",
   "execution_count": 28,
   "metadata": {
    "executionInfo": {
     "elapsed": 5,
     "status": "ok",
     "timestamp": 1679024974246,
     "user": {
      "displayName": "Nikita Tandel",
      "userId": "13201249445825337206"
     },
     "user_tz": -330
    },
    "id": "Bt4vMDS5q93Y"
   },
   "outputs": [],
   "source": [
    "# 'MasVnrArea' have 0.55% missing values, replace it with its mode 0\n",
    "raw_data['MasVnrArea'].fillna(0 , inplace = True)"
   ]
  },
  {
   "cell_type": "code",
   "execution_count": 29,
   "metadata": {
    "executionInfo": {
     "elapsed": 12,
     "status": "ok",
     "timestamp": 1679024974833,
     "user": {
      "displayName": "Nikita Tandel",
      "userId": "13201249445825337206"
     },
     "user_tz": -330
    },
    "id": "eXUyqWoKq93Y"
   },
   "outputs": [],
   "source": [
    "# replace missing values in 'GarageYrBlt' with its mode 0\n",
    "raw_data['GarageYrBlt'].fillna(0 , inplace = True)"
   ]
  },
  {
   "cell_type": "markdown",
   "metadata": {
    "id": "-GwUqCDRq93Y"
   },
   "source": [
    "**After replacing the null values, check for the null values for the final time**"
   ]
  },
  {
   "cell_type": "code",
   "execution_count": 30,
   "metadata": {
    "colab": {
     "base_uri": "https://localhost:8080/"
    },
    "executionInfo": {
     "elapsed": 4,
     "status": "ok",
     "timestamp": 1679024975837,
     "user": {
      "displayName": "Nikita Tandel",
      "userId": "13201249445825337206"
     },
     "user_tz": -330
    },
    "id": "BKfPL2VKq93Z",
    "outputId": "deec8a77-5a5a-4663-f652-ed727f97ac38"
   },
   "outputs": [
    {
     "data": {
      "text/plain": [
       "0"
      ]
     },
     "execution_count": 30,
     "metadata": {},
     "output_type": "execute_result"
    }
   ],
   "source": [
    "# any().sum() gives the total number of columns with null values\n",
    "raw_data.isnull().any().sum()  "
   ]
  },
  {
   "cell_type": "markdown",
   "metadata": {
    "id": "fQekpp9gq93Z"
   },
   "source": [
    "<table align=\"left\">\n",
    "    <tr>\n",
    "        <td width=\"8%\">\n",
    "            <img src=\"note.png\">\n",
    "        </td>\n",
    "        <td>\n",
    "            <div align=\"left\", style=\"font-size:120%\">\n",
    "                <font color=\"#21618C\">\n",
    "                    <b> The above output shows that there are no missing values in the data</b>\n",
    "                </font>\n",
    "            </div>\n",
    "        </td>\n",
    "    </tr>\n",
    "</table>"
   ]
  },
  {
   "cell_type": "markdown",
   "metadata": {
    "id": "5-RdoI3Xq93a"
   },
   "source": [
    "<a id=\"CPCS\"> </a>\n",
    "## 4. Compute Principal Components (from scratch)"
   ]
  },
  {
   "cell_type": "markdown",
   "metadata": {
    "id": "CAEQ9J-8q93a"
   },
   "source": [
    "<table align=\"left\">\n",
    "    <tr>\n",
    "        <td width=\"8%\">\n",
    "            <img src=\"key.png\">\n",
    "        </td>\n",
    "        <td>\n",
    "            <div align=\"left\", style=\"font-size:120%\">\n",
    "                    <b>Perform PCA with the following steps:<br><br>\n",
    "                        1. Filter the numerical variables <br>\n",
    "                        2. Scale the data to get variables on the same scale\n",
    "<br>\n",
    "                        3. Compute covariance matrix<br>\n",
    "                        4. Calculate eigenvalues and eigenvectors of the covariance matrix<br>\n",
    "                        5. Decide the number of principal components<br>\n",
    "                        6. Obtain principal components\n",
    "                </b>\n",
    "                </font>\n",
    "            </div>\n",
    "        </td>\n",
    "    </tr>\n",
    "</table>"
   ]
  },
  {
   "cell_type": "markdown",
   "metadata": {
    "id": "OvYzYFuhq93a"
   },
   "source": [
    "<a id='Data_Prepare'></a>\n",
    "### 4.1 Prepare the Data \n",
    "\n",
    "Separate the numerical variables, as we will perform PCA on the numerical data\n"
   ]
  },
  {
   "cell_type": "code",
   "execution_count": 31,
   "metadata": {
    "colab": {
     "base_uri": "https://localhost:8080/",
     "height": 331
    },
    "executionInfo": {
     "elapsed": 14,
     "status": "ok",
     "timestamp": 1679024979536,
     "user": {
      "displayName": "Nikita Tandel",
      "userId": "13201249445825337206"
     },
     "user_tz": -330
    },
    "id": "kbOJfsY3q93a",
    "outputId": "e2b93ba5-7ca4-48e4-80de-42635dedc07e"
   },
   "outputs": [
    {
     "data": {
      "text/html": [
       "<div>\n",
       "<style scoped>\n",
       "    .dataframe tbody tr th:only-of-type {\n",
       "        vertical-align: middle;\n",
       "    }\n",
       "\n",
       "    .dataframe tbody tr th {\n",
       "        vertical-align: top;\n",
       "    }\n",
       "\n",
       "    .dataframe thead th {\n",
       "        text-align: right;\n",
       "    }\n",
       "</style>\n",
       "<table border=\"1\" class=\"dataframe\">\n",
       "  <thead>\n",
       "    <tr style=\"text-align: right;\">\n",
       "      <th></th>\n",
       "      <th>LotFrontage</th>\n",
       "      <th>LotArea</th>\n",
       "      <th>YearBuilt</th>\n",
       "      <th>YearRemodAdd</th>\n",
       "      <th>MasVnrArea</th>\n",
       "      <th>BsmtFinSF1</th>\n",
       "      <th>BsmtFinSF2</th>\n",
       "      <th>BsmtUnfSF</th>\n",
       "      <th>TotalBsmtSF</th>\n",
       "      <th>1stFlrSF</th>\n",
       "      <th>...</th>\n",
       "      <th>OpenPorchSF</th>\n",
       "      <th>EnclosedPorch</th>\n",
       "      <th>3SsnPorch</th>\n",
       "      <th>ScreenPorch</th>\n",
       "      <th>PoolArea</th>\n",
       "      <th>MiscVal</th>\n",
       "      <th>MoSold</th>\n",
       "      <th>YrSold</th>\n",
       "      <th>Buiding_age</th>\n",
       "      <th>Remodel_age</th>\n",
       "    </tr>\n",
       "    <tr>\n",
       "      <th>Id</th>\n",
       "      <th></th>\n",
       "      <th></th>\n",
       "      <th></th>\n",
       "      <th></th>\n",
       "      <th></th>\n",
       "      <th></th>\n",
       "      <th></th>\n",
       "      <th></th>\n",
       "      <th></th>\n",
       "      <th></th>\n",
       "      <th></th>\n",
       "      <th></th>\n",
       "      <th></th>\n",
       "      <th></th>\n",
       "      <th></th>\n",
       "      <th></th>\n",
       "      <th></th>\n",
       "      <th></th>\n",
       "      <th></th>\n",
       "      <th></th>\n",
       "      <th></th>\n",
       "    </tr>\n",
       "  </thead>\n",
       "  <tbody>\n",
       "    <tr>\n",
       "      <th>1</th>\n",
       "      <td>65.0</td>\n",
       "      <td>8450</td>\n",
       "      <td>2003</td>\n",
       "      <td>2003</td>\n",
       "      <td>196.0</td>\n",
       "      <td>706</td>\n",
       "      <td>0</td>\n",
       "      <td>150</td>\n",
       "      <td>856</td>\n",
       "      <td>856</td>\n",
       "      <td>...</td>\n",
       "      <td>61</td>\n",
       "      <td>0</td>\n",
       "      <td>0</td>\n",
       "      <td>0</td>\n",
       "      <td>0</td>\n",
       "      <td>0</td>\n",
       "      <td>2</td>\n",
       "      <td>2008</td>\n",
       "      <td>20</td>\n",
       "      <td>20</td>\n",
       "    </tr>\n",
       "    <tr>\n",
       "      <th>2</th>\n",
       "      <td>80.0</td>\n",
       "      <td>9600</td>\n",
       "      <td>1976</td>\n",
       "      <td>1976</td>\n",
       "      <td>0.0</td>\n",
       "      <td>978</td>\n",
       "      <td>0</td>\n",
       "      <td>284</td>\n",
       "      <td>1262</td>\n",
       "      <td>1262</td>\n",
       "      <td>...</td>\n",
       "      <td>0</td>\n",
       "      <td>0</td>\n",
       "      <td>0</td>\n",
       "      <td>0</td>\n",
       "      <td>0</td>\n",
       "      <td>0</td>\n",
       "      <td>5</td>\n",
       "      <td>2007</td>\n",
       "      <td>47</td>\n",
       "      <td>47</td>\n",
       "    </tr>\n",
       "    <tr>\n",
       "      <th>3</th>\n",
       "      <td>68.0</td>\n",
       "      <td>11250</td>\n",
       "      <td>2001</td>\n",
       "      <td>2002</td>\n",
       "      <td>162.0</td>\n",
       "      <td>486</td>\n",
       "      <td>0</td>\n",
       "      <td>434</td>\n",
       "      <td>920</td>\n",
       "      <td>920</td>\n",
       "      <td>...</td>\n",
       "      <td>42</td>\n",
       "      <td>0</td>\n",
       "      <td>0</td>\n",
       "      <td>0</td>\n",
       "      <td>0</td>\n",
       "      <td>0</td>\n",
       "      <td>9</td>\n",
       "      <td>2008</td>\n",
       "      <td>22</td>\n",
       "      <td>21</td>\n",
       "    </tr>\n",
       "    <tr>\n",
       "      <th>4</th>\n",
       "      <td>60.0</td>\n",
       "      <td>9550</td>\n",
       "      <td>1915</td>\n",
       "      <td>1970</td>\n",
       "      <td>0.0</td>\n",
       "      <td>216</td>\n",
       "      <td>0</td>\n",
       "      <td>540</td>\n",
       "      <td>756</td>\n",
       "      <td>961</td>\n",
       "      <td>...</td>\n",
       "      <td>35</td>\n",
       "      <td>272</td>\n",
       "      <td>0</td>\n",
       "      <td>0</td>\n",
       "      <td>0</td>\n",
       "      <td>0</td>\n",
       "      <td>2</td>\n",
       "      <td>2006</td>\n",
       "      <td>108</td>\n",
       "      <td>53</td>\n",
       "    </tr>\n",
       "    <tr>\n",
       "      <th>5</th>\n",
       "      <td>84.0</td>\n",
       "      <td>14260</td>\n",
       "      <td>2000</td>\n",
       "      <td>2000</td>\n",
       "      <td>350.0</td>\n",
       "      <td>655</td>\n",
       "      <td>0</td>\n",
       "      <td>490</td>\n",
       "      <td>1145</td>\n",
       "      <td>1145</td>\n",
       "      <td>...</td>\n",
       "      <td>84</td>\n",
       "      <td>0</td>\n",
       "      <td>0</td>\n",
       "      <td>0</td>\n",
       "      <td>0</td>\n",
       "      <td>0</td>\n",
       "      <td>12</td>\n",
       "      <td>2008</td>\n",
       "      <td>23</td>\n",
       "      <td>23</td>\n",
       "    </tr>\n",
       "  </tbody>\n",
       "</table>\n",
       "<p>5 rows × 35 columns</p>\n",
       "</div>"
      ],
      "text/plain": [
       "    LotFrontage  LotArea  YearBuilt  YearRemodAdd  MasVnrArea  BsmtFinSF1  \\\n",
       "Id                                                                          \n",
       "1          65.0     8450       2003          2003       196.0         706   \n",
       "2          80.0     9600       1976          1976         0.0         978   \n",
       "3          68.0    11250       2001          2002       162.0         486   \n",
       "4          60.0     9550       1915          1970         0.0         216   \n",
       "5          84.0    14260       2000          2000       350.0         655   \n",
       "\n",
       "    BsmtFinSF2  BsmtUnfSF  TotalBsmtSF  1stFlrSF  ...  OpenPorchSF  \\\n",
       "Id                                                ...                \n",
       "1            0        150          856       856  ...           61   \n",
       "2            0        284         1262      1262  ...            0   \n",
       "3            0        434          920       920  ...           42   \n",
       "4            0        540          756       961  ...           35   \n",
       "5            0        490         1145      1145  ...           84   \n",
       "\n",
       "    EnclosedPorch  3SsnPorch  ScreenPorch  PoolArea  MiscVal  MoSold  YrSold  \\\n",
       "Id                                                                             \n",
       "1               0          0            0         0        0       2    2008   \n",
       "2               0          0            0         0        0       5    2007   \n",
       "3               0          0            0         0        0       9    2008   \n",
       "4             272          0            0         0        0       2    2006   \n",
       "5               0          0            0         0        0      12    2008   \n",
       "\n",
       "    Buiding_age  Remodel_age  \n",
       "Id                            \n",
       "1            20           20  \n",
       "2            47           47  \n",
       "3            22           21  \n",
       "4           108           53  \n",
       "5            23           23  \n",
       "\n",
       "[5 rows x 35 columns]"
      ]
     },
     "execution_count": 31,
     "metadata": {},
     "output_type": "execute_result"
    }
   ],
   "source": [
    "# select the numerical variables and store it as 'df_numeric_features'\n",
    "df_numeric_features = raw_data.select_dtypes(include=[np.number])\n",
    "\n",
    "# to select all the 'numerical' features(independent variables), drop target variable from 'df_numeric_features' \n",
    "# use 'drop' function to drop the entire column\n",
    "df_num = df_numeric_features.drop('SalePrice',axis=1)       \n",
    "\n",
    "# head() to display top five rows\n",
    "df_num.head()"
   ]
  },
  {
   "cell_type": "markdown",
   "metadata": {
    "id": "dNeKEs5jq93b"
   },
   "source": [
    "<a id='Scale'></a>\n",
    "### 4.2 Scale the Data\n",
    "The variables like 'YearBuilt', 'MasVnrArea', 'OpenPorchSF', etc. have a different value range. We scale the variable to get all the variables in the same range. With this, we can avoid a problem in which some features come to dominate solely because they tend to have larger values than others\n"
   ]
  },
  {
   "cell_type": "code",
   "execution_count": 32,
   "metadata": {
    "colab": {
     "base_uri": "https://localhost:8080/"
    },
    "executionInfo": {
     "elapsed": 394,
     "status": "ok",
     "timestamp": 1679024984549,
     "user": {
      "displayName": "Nikita Tandel",
      "userId": "13201249445825337206"
     },
     "user_tz": -330
    },
    "id": "pkgx6_N5q93b",
    "outputId": "a86cfe8a-18ee-4466-948b-11b6629c93a4"
   },
   "outputs": [
    {
     "name": "stdout",
     "output_type": "stream",
     "text": [
      "[[-0.22087509 -0.20714171  1.05099379 ...  0.13877749 -1.05099379\n",
      "  -0.87866809]\n",
      " [ 0.46031974 -0.09188637  0.15673371 ... -0.61443862 -0.15673371\n",
      "   0.42957697]\n",
      " [-0.08463612  0.07347998  0.9847523  ...  0.13877749 -0.9847523\n",
      "  -0.83021457]\n",
      " ...\n",
      " [-0.1754621  -0.14781027 -1.00249232 ...  1.64520971  1.00249232\n",
      "  -1.02402865]\n",
      " [-0.08463612 -0.08016039 -0.70440562 ...  1.64520971  0.70440562\n",
      "  -0.53949344]\n",
      " [ 0.23325479 -0.05811155 -0.20759447 ...  0.13877749  0.20759447\n",
      "   0.96256569]]\n"
     ]
    }
   ],
   "source": [
    "# fit_transform() transforms the data by first computing the mean and sd and later scaling the data\n",
    "df_num_std = StandardScaler().fit_transform(df_num)\n",
    "\n",
    "print(df_num_std)"
   ]
  },
  {
   "cell_type": "code",
   "execution_count": 33,
   "metadata": {
    "colab": {
     "base_uri": "https://localhost:8080/"
    },
    "executionInfo": {
     "elapsed": 412,
     "status": "ok",
     "timestamp": 1679024990080,
     "user": {
      "displayName": "Nikita Tandel",
      "userId": "13201249445825337206"
     },
     "user_tz": -330
    },
    "id": "Lxg8MwrRq93c",
    "outputId": "e3bb976f-0bcd-4e89-ee6a-f341df16b9be"
   },
   "outputs": [
    {
     "name": "stdout",
     "output_type": "stream",
     "text": [
      "(1460, 35)\n"
     ]
    }
   ],
   "source": [
    "# 'shape' function gives the total number of rows and columns in the scaled data\n",
    "print(df_num_std.shape)"
   ]
  },
  {
   "cell_type": "markdown",
   "metadata": {
    "id": "QwCAPFBzq93c"
   },
   "source": [
    "**Use these 35 standardized variables to find the principal components**"
   ]
  },
  {
   "cell_type": "markdown",
   "metadata": {
    "id": "FVQqvYsHq93d"
   },
   "source": [
    "<a id='cov_mat'></a>\n",
    "### 4.3 Covariance Matrix\n",
    "\n",
    "PCA aims to minimize the distortions and to summarize the essential information in the data. These distortions (noise, redundancy, etc.) reflect in the off-diagonal values of the covariance matrix"
   ]
  },
  {
   "cell_type": "code",
   "execution_count": 34,
   "metadata": {
    "id": "I2Lwq4z_q93d",
    "outputId": "88fffb80-7e61-4207-b73d-522aa00b1b02"
   },
   "outputs": [
    {
     "name": "stdout",
     "output_type": "stream",
     "text": [
      "[[ 1.00068540e+00  3.04730891e-01  1.16765369e-01  8.34052140e-02\n",
      "   1.78590896e-01  2.14513541e-01  4.24923323e-02  1.24183267e-01\n",
      "   3.63721436e-01  4.14056133e-01  7.24376356e-02  3.74949923e-02\n",
      "   3.68259672e-01  9.04047865e-02 -6.98377770e-03  1.80657531e-01\n",
      "   4.72540062e-02  2.37002365e-01 -4.90803219e-03  3.20737339e-01\n",
      "   2.33380490e-01  9.92638352e-02  2.69723997e-01  3.23732664e-01\n",
      "   7.55938857e-02  1.37107470e-01  1.02942634e-02  6.19876851e-02\n",
      "   3.76808863e-02  1.80942511e-01 -2.55539426e-04  1.04578463e-02\n",
      "   6.38480650e-03 -1.16765369e-01 -8.34052140e-02]\n",
      " [ 3.04730891e-01  1.00068540e+00  1.42374034e-02  1.37978777e-02\n",
      "   1.03391322e-01  2.14249877e-01  1.11245941e-01 -2.62015458e-03\n",
      "   2.61011910e-01  2.99679839e-01  5.10208941e-02  4.78224538e-03\n",
      "   2.63296507e-01  1.58262930e-01  4.80785014e-02  1.26117008e-01\n",
      "   1.42692420e-02  1.19771944e-01 -1.77960596e-02  1.90145014e-01\n",
      "   2.71550003e-01  7.26485272e-02  1.54976888e-01  1.80526403e-01\n",
      "   1.71815369e-01  8.48319129e-02 -1.83523037e-02  2.04368274e-02\n",
      "   4.31899599e-02  7.77256286e-02  3.80937837e-02  1.20581412e-03\n",
      "  -1.42711821e-02 -1.42374034e-02 -1.37978777e-02]\n",
      " [ 1.16765369e-01  1.42374034e-02  1.00068540e+00  5.93261320e-01\n",
      "   3.11813678e-01  2.49674206e-01 -4.91404891e-02  1.49142544e-01\n",
      "   3.91720304e-01  2.82179132e-01  1.03147245e-02 -1.83910310e-01\n",
      "   1.99146115e-01  1.87727130e-01 -3.81879618e-02  4.68591740e-01\n",
      "   2.42822227e-01 -7.06996413e-02 -1.74920054e-01  9.56546452e-02\n",
      "   1.47817644e-01  2.72215770e-01  5.38218735e-01  4.79282095e-01\n",
      "   2.25034275e-01  1.88815165e-01 -3.87533217e-01  3.13760035e-02\n",
      "  -5.03989544e-02  4.95312016e-03 -3.44067050e-02  1.24069685e-02\n",
      "  -1.36270136e-02 -1.00068540e+00 -5.93261320e-01]\n",
      " [ 8.34052140e-02  1.37978777e-02  5.93261320e-01  1.00068540e+00\n",
      "   1.76650174e-01  1.28538587e-01 -6.78049553e-02  1.81257236e-01\n",
      "   2.91265079e-01  2.40544024e-01  1.40119751e-01 -6.24618822e-02\n",
      "   2.87585496e-01  1.19551764e-01 -1.23454879e-02  4.39347407e-01\n",
      "   1.83456267e-01 -4.06087423e-02 -1.49700055e-01  1.91871235e-01\n",
      "   1.12658482e-01  1.46457537e-01  4.20910450e-01  3.71854504e-01\n",
      "   2.05866925e-01  2.26452737e-01 -1.94052059e-01  4.53168488e-02\n",
      "  -3.87665632e-02  5.83336749e-03 -1.02932990e-02  2.15047315e-02\n",
      "   3.57677456e-02 -5.93261320e-01 -1.00068540e+00]\n",
      " [ 1.78590896e-01  1.03391322e-01  3.11813678e-01  1.76650174e-01\n",
      "   1.00068540e+00  2.61435120e-01 -7.13785170e-02  1.13940204e-01\n",
      "   3.60314159e-01  3.40083347e-01  1.73919123e-01 -6.86750176e-02\n",
      "   3.88318023e-01  8.30669430e-02  2.74214441e-02  2.73185969e-01\n",
      "   1.99243988e-01  1.02844958e-01 -3.84764658e-02  2.79759504e-01\n",
      "   2.47184582e-01  1.32787338e-01  3.62192643e-01  3.71138357e-01\n",
      "   1.60100187e-01  1.22612313e-01 -1.09982127e-01  1.91569055e-02\n",
      "   6.22903758e-02  1.19365698e-02 -2.95324764e-02 -6.72781203e-03\n",
      "  -8.32232280e-03 -3.11813678e-01 -1.76650174e-01]]\n"
     ]
    }
   ],
   "source": [
    "# generate the covariance matrix using 'cov' function\n",
    "cov_mat = np.cov(df_num_std.T)\n",
    "\n",
    "# as 'cov_mat' is a numpy array, select first five observations with [0:5]\n",
    "print(cov_mat[0:5])"
   ]
  },
  {
   "cell_type": "markdown",
   "metadata": {
    "id": "JlIBdfIYq93e"
   },
   "source": [
    "<table align=\"left\">\n",
    "    <tr>\n",
    "        <td width=\"8%\">\n",
    "            <img src=\"note.png\">\n",
    "        </td>\n",
    "        <td>\n",
    "            <div align=\"left\", style=\"font-size:120%\">\n",
    "                <font color=\"#21618C\">\n",
    "                    <b> The covariance matrix is a square matrix consists of covariance between 35 variables </b>\n",
    "                </font>\n",
    "            </div>\n",
    "        </td>\n",
    "    </tr>\n",
    "</table>"
   ]
  },
  {
   "cell_type": "markdown",
   "metadata": {
    "id": "E2-XvFtlq93e"
   },
   "source": [
    "<a id='eigen'></a>\n",
    "### 4.4 Compute Eigenvalues and Eigenvectors \n"
   ]
  },
  {
   "cell_type": "markdown",
   "metadata": {
    "id": "RjgdLRBeq93f"
   },
   "source": [
    "<table align=\"left\">\n",
    "    <tr>\n",
    "        <td width=\"8%\">\n",
    "            <img src=\"key.png\">\n",
    "        </td>\n",
    "        <td>\n",
    "            <div align=\"left\", style=\"font-size:120%\">\n",
    "                <font color=\"#21618C\">\n",
    "                    <b>Eigenvalues: The diagonal values of the diagonalized covariance matrix are called eigenvalues of the covariance matrix. Large eigenvalues correspond to large variances<br><br>\n",
    "                        \n",
    "Eigenvectors: The eigenvectors give directions of the new rotated axes \n",
    "                     </b>\n",
    "                </font>\n",
    "            </div>\n",
    "        </td>\n",
    "    </tr>\n",
    "</table>\n",
    "\n"
   ]
  },
  {
   "cell_type": "code",
   "execution_count": 35,
   "metadata": {
    "id": "DQKhu_SPq93f",
    "outputId": "b3d717ef-a792-4a89-cc1d-c5af0a0f25e8"
   },
   "outputs": [
    {
     "name": "stdout",
     "output_type": "stream",
     "text": [
      "Eigenvalues: \n",
      " \n",
      " [ 7.02177050e+00  3.31255010e+00  2.62014342e+00  1.89709198e+00\n",
      "  1.49734667e+00  9.99263899e-02  1.36214989e-01  1.95108720e-01\n",
      "  2.13950778e-01  3.01103966e-01  3.54408421e-01  4.01613912e-01\n",
      "  1.27323863e+00  5.45571325e-01  5.57495391e-01  6.14455332e-01\n",
      "  6.53106933e-01  6.65210391e-01  1.17628474e+00  7.70438353e-01\n",
      "  7.98982584e-01  8.42159693e-01  8.54295919e-01  1.12605403e+00\n",
      "  1.11386919e+00  9.17108768e-01  1.06812304e+00  1.04387620e+00\n",
      "  9.58644771e-01  1.01349985e+00  9.80344037e-01  5.18499810e-16\n",
      " -6.99892347e-16  2.19183308e-17  2.32222512e-16] \n",
      "\n",
      "Eigenvectors: \n",
      " \n",
      " [[-1.57341483e-01 -8.14685975e-02 -2.25870623e-01 ... -8.19176766e-17\n",
      "  -1.59902296e-17 -6.81194334e-17]\n",
      " [-1.05975763e-01 -4.68261206e-02 -2.65177563e-01 ...  2.27580133e-16\n",
      "   6.41843294e-17  2.02723722e-16]\n",
      " [-2.55985052e-01  2.51938290e-01  2.26447644e-01 ... -2.79135303e-02\n",
      "   5.69561865e-01 -6.27031802e-01]\n",
      " ...\n",
      " [ 1.05407256e-02  3.81464928e-02 -5.52812401e-03 ...  6.51239762e-17\n",
      "   4.36794247e-17  7.62217123e-17]\n",
      " [ 2.55985052e-01 -2.51938290e-01 -2.26447644e-01 ... -2.79135303e-02\n",
      "   5.69561865e-01 -6.27031802e-01]\n",
      " [ 2.32779058e-01 -1.54450719e-01 -2.75319895e-01 ...  1.58526255e-03\n",
      "   4.19041306e-01  2.80949030e-01]] \n",
      "\n"
     ]
    }
   ],
   "source": [
    "# use 'eig' function to compute eigenvalues and eigenvectors of the covariance matrix\n",
    "eig_val, eig_vec = np.linalg.eig(cov_mat)\n",
    "\n",
    "print('Eigenvalues:','\\n','\\n', eig_val,\"\\n\")\n",
    "\n",
    "print('Eigenvectors:','\\n','\\n',eig_vec,'\\n')"
   ]
  },
  {
   "cell_type": "code",
   "execution_count": 36,
   "metadata": {},
   "outputs": [],
   "source": [
    "tot=sum(eig_val)\n",
    "var_exp=[(i/tot)*100 for i in sorted(eig_val,reverse=True)]"
   ]
  },
  {
   "cell_type": "code",
   "execution_count": 37,
   "metadata": {},
   "outputs": [
    {
     "data": {
      "text/plain": [
       "[20.048460193041766,\n",
       " 9.457946383536356,\n",
       " 7.480996575225528,\n",
       " 5.416550285282154,\n",
       " 4.2752031281180605,\n",
       " 3.635333002556579,\n",
       " 3.3585116024262334,\n",
       " 3.215093596845727,\n",
       " 3.180303617608995,\n",
       " 3.049689860535577,\n",
       " 2.9804606214287928,\n",
       " 2.893730505117426,\n",
       " 2.799064481326307,\n",
       " 2.7371090431414005,\n",
       " 2.618516031920206,\n",
       " 2.4391736707093985,\n",
       " 2.404522488685413,\n",
       " 2.2812438169426392,\n",
       " 2.1997447286613703,\n",
       " 1.8992993357537347,\n",
       " 1.8647417123128402,\n",
       " 1.7543842054586514,\n",
       " 1.5917529855496166,\n",
       " 1.557707559951338,\n",
       " 1.1466823830049626,\n",
       " 1.0119019286612452,\n",
       " 0.8597078021221851,\n",
       " 0.6108692478185995,\n",
       " 0.5570716676850815,\n",
       " 0.3889191180250956,\n",
       " 0.28530842054674566,\n",
       " 1.4804133529306436e-15,\n",
       " 6.630384453279798e-16,\n",
       " 6.258090925692712e-17,\n",
       " -1.9983227690268024e-15]"
      ]
     },
     "execution_count": 37,
     "metadata": {},
     "output_type": "execute_result"
    }
   ],
   "source": [
    "var_exp"
   ]
  },
  {
   "cell_type": "code",
   "execution_count": 38,
   "metadata": {},
   "outputs": [],
   "source": [
    "cum_var_exp=np.cumsum(var_exp)"
   ]
  },
  {
   "cell_type": "code",
   "execution_count": 39,
   "metadata": {},
   "outputs": [
    {
     "data": {
      "text/plain": [
       "array([ 20.04846019,  29.50640658,  36.98740315,  42.40395344,\n",
       "        46.67915657,  50.31448957,  53.67300117,  56.88809477,\n",
       "        60.06839838,  63.11808825,  66.09854887,  68.99227937,\n",
       "        71.79134385,  74.5284529 ,  77.14696893,  79.5861426 ,\n",
       "        81.99066509,  84.2719089 ,  86.47165363,  88.37095297,\n",
       "        90.23569468,  91.99007889,  93.58183187,  95.13953943,\n",
       "        96.28622182,  97.29812374,  98.15783155,  98.76870079,\n",
       "        99.32577246,  99.71469158, 100.        , 100.        ,\n",
       "       100.        , 100.        , 100.        ])"
      ]
     },
     "execution_count": 39,
     "metadata": {},
     "output_type": "execute_result"
    }
   ],
   "source": [
    "cum_var_exp"
   ]
  },
  {
   "cell_type": "code",
   "execution_count": 40,
   "metadata": {},
   "outputs": [],
   "source": [
    "import seaborn as sns"
   ]
  },
  {
   "cell_type": "code",
   "execution_count": 46,
   "metadata": {},
   "outputs": [
    {
     "data": {
      "image/png": "[encoded data removed]",
      "text/plain": [
       "<Figure size 864x504 with 1 Axes>"
      ]
     },
     "metadata": {
      "needs_background": "light"
     },
     "output_type": "display_data"
    }
   ],
   "source": [
    "plt.figure(figsize=(12,7))\n",
    "sns.lineplot(y=var_exp,x=range(1,len(var_exp)+1),marker='*',markeredgecolor='red')\n",
    "plt.xlabel('Number of Components',fontsize=15)\n",
    "plt.ylabel('Variance Explained',fontsize=15)\n",
    "plt.title('Scree Plot',fontsize=15)\n",
    "plt.annotate(text ='Elbow Point', xy=(17,2.3), xytext=(23, 7.5), arrowprops=dict(facecolor='black', arrowstyle = 'simple'))\n",
    "plt.grid()\n",
    "plt.show()"
   ]
  },
  {
   "cell_type": "markdown",
   "metadata": {
    "id": "UeWVvKYzq93g"
   },
   "source": [
    "<a id='components'></a>\n",
    "### 4.5 Decide Number of Principal Components"
   ]
  },
  {
   "cell_type": "markdown",
   "metadata": {
    "id": "2Tu0b_lfq93g"
   },
   "source": [
    "<table align=\"left\">\n",
    "    <tr>\n",
    "        <td width=\"8%\">\n",
    "            <img src=\"key.png\">\n",
    "        </td>\n",
    "        <td>\n",
    "            <div align=\"left\", style=\"font-size:120%\">\n",
    "                <font color=\"#21618C\">\n",
    "                    <b>There are two ways to decide the number of principal components<br><br>\n",
    "1) eigenvalue-one criteria: Select the components that have eigenvalues greater than 1<br>\n",
    "2) Choose the number of components before the elbow point of the scree plot</b>\n",
    "                </font>\n",
    "            </div>\n",
    "        </td>\n",
    "    </tr>\n",
    "</table>\n",
    "\n"
   ]
  },
  {
   "cell_type": "code",
   "execution_count": 43,
   "metadata": {
    "id": "wMbYY2sfq93h",
    "outputId": "e823e566-48c0-498b-bdd8-53fa4f998cc8"
   },
   "outputs": [
    {
     "name": "stdout",
     "output_type": "stream",
     "text": [
      "[7.021770499413534, 3.3125501041720904, 2.6201434201098333, 1.8970919779158204, 1.497346674755538, 1.2732386321497002, 1.1762847353254324, 1.1260540287787302, 1.1138691902660707, 1.0681230423123238, 1.0438762011995297, 1.0134998547738212, 0.980344036982689, 0.9586447711070982, 0.9171087678623894, 0.8542959189393442, 0.842159692747256, 0.7989825842753182, 0.770438352533215, 0.6652103910693343, 0.653106932825128, 0.6144553317267795, 0.5574953911006542, 0.5455713249726758, 0.4016139120737054, 0.35440842052494614, 0.30110396633614583, 0.21395077836552742, 0.19510871979923014, 0.13621498924662367, 0.0999263899241858, 5.184998103821516e-16, 2.322225123801219e-16, 2.191833079526372e-17, -6.998923474795725e-16]\n"
     ]
    }
   ],
   "source": [
    "# create a list of eigenvalues\n",
    "eig_val = list(eig_val)\n",
    "\n",
    "# 'sort(reverse = True)' will sort the eigenvalues in the descending order\n",
    "\n",
    "eig_val.sort(reverse = True)\n",
    "print(eig_val)"
   ]
  },
  {
   "cell_type": "markdown",
   "metadata": {
    "id": "RjtMviAtq93i"
   },
   "source": [
    "**Now let us use the scree plot to decide the number of components**"
   ]
  },
  {
   "cell_type": "markdown",
   "metadata": {
    "id": "-fjL2zXtq93i"
   },
   "source": [
    "#### Scree plot: Plot the eigenvalues and choose the components before elbow point "
   ]
  },
  {
   "cell_type": "code",
   "execution_count": 44,
   "metadata": {
    "id": "0xI12IM6q93i",
    "outputId": "63766c7d-79cb-4779-c79f-006ec201c391"
   },
   "outputs": [
    {
     "data": {
      "image/png": "[encoded data removed]",
      "text/plain": [
       "<Figure size 432x288 with 1 Axes>"
      ]
     },
     "metadata": {
      "needs_background": "light"
     },
     "output_type": "display_data"
    }
   ],
   "source": [
    "# 'bp' represents blue color and pentagonal shape of points\n",
    "plt.plot(eig_val,'bp')            \n",
    "\n",
    "# plot a line plot\n",
    "plt.plot(eig_val) \n",
    "\n",
    "# label the x-axis\n",
    "plt.xlabel('Principal Components')    \n",
    "\n",
    "# label the y-axis\n",
    "plt.ylabel('Percentage of explained variance')      \n",
    "\n",
    "# use 'annonate' function to draw an arrow between points xy and xytext\n",
    "# 's' is a argument to write text\n",
    "# we can change the facecolor and arrowstyle; this is only for representation purpose\n",
    "plt.annotate(text ='Elbow Point', xy=(4,1.5), xytext=(5, 2.5), arrowprops=dict(facecolor='black', arrowstyle = 'simple'))\n",
    "\n",
    "# title of the plot\n",
    "plt.title('Scree Plot')\n",
    "\n",
    "plt.show()  "
   ]
  },
  {
   "cell_type": "markdown",
   "metadata": {
    "id": "xFOyN_y9q93i"
   },
   "source": [
    "<table align=\"left\">\n",
    "    <tr>\n",
    "        <td width=\"8%\">\n",
    "            <img src=\"note.png\">\n",
    "        </td>\n",
    "        <td>\n",
    "            <div align=\"left\", style=\"font-size:120%\">\n",
    "                <font color=\"#21618C\">\n",
    "                    <b>It can be observed that, after the elbow point, principal components do not contribute much to the variance in the data. That means, we can choose eigenvectors corresponding to first five eigenvalues as principal components\n",
    "                       </b>\n",
    "                </font>\n",
    "            </div>\n",
    "        </td>\n",
    "    </tr>\n",
    "</table>"
   ]
  },
  {
   "cell_type": "markdown",
   "metadata": {
    "id": "nMiimrh1q93j"
   },
   "source": [
    "<a id='pca'></a>\n",
    "### 4.6 Calculate Principal Components \n"
   ]
  },
  {
   "cell_type": "code",
   "execution_count": 47,
   "metadata": {
    "id": "1OMS4OF1q93j",
    "outputId": "56262073-c18d-4940-d726-34e6fc55e1a0"
   },
   "outputs": [
    {
     "data": {
      "text/plain": [
       "array([[-0.15734148, -0.0814686 , -0.22587062, -0.10722212, -0.00752845],\n",
       "       [-0.10597576, -0.04682612, -0.26517756,  0.01500761, -0.00786312],\n",
       "       [-0.25598505,  0.25193829,  0.22644764,  0.03246855,  0.04820808],\n",
       "       [-0.23277906,  0.15445072,  0.2753199 ,  0.01428159,  0.26832427],\n",
       "       [-0.1912835 , -0.00691731, -0.04663417,  0.02642127, -0.07848375],\n",
       "       [-0.14599174,  0.21408979, -0.34881371,  0.2640932 ,  0.14572962],\n",
       "       [ 0.00973451,  0.03635902, -0.17643327,  0.08698812, -0.03447938],\n",
       "       [-0.10716365, -0.12447427,  0.17122358, -0.56562785, -0.04965918],\n",
       "       [-0.25613609,  0.11057602, -0.25506258, -0.26315384,  0.08881146],\n",
       "       [-0.25253012,  0.03831097, -0.30414927, -0.28994057,  0.09159884],\n",
       "       [-0.12387082, -0.38214632,  0.18281738,  0.33480834, -0.02535135],\n",
       "       [ 0.02405102, -0.14573334, -0.06296919, -0.03670041,  0.18515617],\n",
       "       [-0.28645931, -0.30275762, -0.07771394,  0.06143218,  0.06346053],\n",
       "       [-0.08222127,  0.23681672, -0.28979777,  0.28738891,  0.21119068],\n",
       "       [ 0.00858439, -0.00471851, -0.04312103,  0.04234185, -0.11468022],\n",
       "       [-0.2590985 , -0.13874686,  0.14049036, -0.0834809 ,  0.15246878],\n",
       "       [-0.12665322, -0.16777286,  0.18518577,  0.40155483, -0.10217345],\n",
       "       [-0.10198228, -0.38862065, -0.01122215,  0.01765954,  0.0675895 ],\n",
       "       [ 0.02477659, -0.18242983, -0.04827735, -0.12265694,  0.20341807],\n",
       "       [-0.22719516, -0.36690744, -0.03125338,  0.01331827,  0.09111303],\n",
       "       [-0.17925338, -0.06901932, -0.19246494,  0.09390436, -0.12730308],\n",
       "       [-0.15040881,  0.09155029,  0.01928724,  0.03807494, -0.56606944],\n",
       "       [-0.29356932,  0.0630344 ,  0.04501941, -0.03321251, -0.33115807],\n",
       "       [-0.28656797,  0.07257837, -0.02766991, -0.04467316, -0.31271792],\n",
       "       [-0.13762475,  0.04933351, -0.05884225,  0.12311454,  0.08001895],\n",
       "       [-0.14605669, -0.05274852,  0.0198202 ,  0.03831603,  0.08039055],\n",
       "       [ 0.08753259, -0.15254462, -0.13007553, -0.06074706, -0.04267263],\n",
       "       [-0.01905378,  0.02616779,  0.00066212, -0.05503394, -0.00734891],\n",
       "       [-0.02868622, -0.04202624, -0.10976166,  0.06826703, -0.18150387],\n",
       "       [-0.04809051, -0.04887335, -0.14877925,  0.06046919,  0.07998556],\n",
       "       [ 0.00997078, -0.02733478, -0.01981117,  0.02244414,  0.04027825],\n",
       "       [-0.02004068, -0.02899349,  0.01806787, -0.04144468, -0.06368279],\n",
       "       [ 0.01054073,  0.03814649, -0.00552812,  0.0435918 ,  0.12413176],\n",
       "       [ 0.25598505, -0.25193829, -0.22644764, -0.03246855, -0.04820808],\n",
       "       [ 0.23277906, -0.15445072, -0.2753199 , -0.01428159, -0.26832427]])"
      ]
     },
     "execution_count": 47,
     "metadata": {},
     "output_type": "execute_result"
    }
   ],
   "source": [
    "eigenvector = eig_vec[:,0:5]\n",
    "\n",
    "eigenvector"
   ]
  },
  {
   "cell_type": "markdown",
   "metadata": {
    "id": "lFAZV147q93j"
   },
   "source": [
    "**Generate a new dataset of reduced dimensions by multiplying standardize data and set of eigenvectors**"
   ]
  },
  {
   "cell_type": "code",
   "execution_count": 48,
   "metadata": {
    "id": "umuc2bFQq93k",
    "outputId": "f22e1242-94a8-4e24-ea84-6768f6fd27e5"
   },
   "outputs": [
    {
     "data": {
      "text/html": [
       "<div>\n",
       "<style scoped>\n",
       "    .dataframe tbody tr th:only-of-type {\n",
       "        vertical-align: middle;\n",
       "    }\n",
       "\n",
       "    .dataframe tbody tr th {\n",
       "        vertical-align: top;\n",
       "    }\n",
       "\n",
       "    .dataframe thead th {\n",
       "        text-align: right;\n",
       "    }\n",
       "</style>\n",
       "<table border=\"1\" class=\"dataframe\">\n",
       "  <thead>\n",
       "    <tr style=\"text-align: right;\">\n",
       "      <th></th>\n",
       "      <th>PC1</th>\n",
       "      <th>PC2</th>\n",
       "      <th>PC3</th>\n",
       "      <th>PC4</th>\n",
       "      <th>PC5</th>\n",
       "    </tr>\n",
       "  </thead>\n",
       "  <tbody>\n",
       "    <tr>\n",
       "      <th>0</th>\n",
       "      <td>-1.571468</td>\n",
       "      <td>0.233699</td>\n",
       "      <td>1.586585</td>\n",
       "      <td>2.219473</td>\n",
       "      <td>0.715615</td>\n",
       "    </tr>\n",
       "    <tr>\n",
       "      <th>1</th>\n",
       "      <td>-0.199890</td>\n",
       "      <td>0.835867</td>\n",
       "      <td>-1.050234</td>\n",
       "      <td>-0.097077</td>\n",
       "      <td>-0.627275</td>\n",
       "    </tr>\n",
       "    <tr>\n",
       "      <th>2</th>\n",
       "      <td>-1.740971</td>\n",
       "      <td>0.251788</td>\n",
       "      <td>1.391157</td>\n",
       "      <td>1.637273</td>\n",
       "      <td>0.046151</td>\n",
       "    </tr>\n",
       "    <tr>\n",
       "      <th>3</th>\n",
       "      <td>1.470652</td>\n",
       "      <td>-1.877190</td>\n",
       "      <td>-1.515307</td>\n",
       "      <td>0.180157</td>\n",
       "      <td>-1.837106</td>\n",
       "    </tr>\n",
       "    <tr>\n",
       "      <th>4</th>\n",
       "      <td>-4.216754</td>\n",
       "      <td>-1.116376</td>\n",
       "      <td>0.533713</td>\n",
       "      <td>1.621483</td>\n",
       "      <td>-0.334647</td>\n",
       "    </tr>\n",
       "  </tbody>\n",
       "</table>\n",
       "</div>"
      ],
      "text/plain": [
       "        PC1       PC2       PC3       PC4       PC5\n",
       "0 -1.571468  0.233699  1.586585  2.219473  0.715615\n",
       "1 -0.199890  0.835867 -1.050234 -0.097077 -0.627275\n",
       "2 -1.740971  0.251788  1.391157  1.637273  0.046151\n",
       "3  1.470652 -1.877190 -1.515307  0.180157 -1.837106\n",
       "4 -4.216754 -1.116376  0.533713  1.621483 -0.334647"
      ]
     },
     "execution_count": 48,
     "metadata": {},
     "output_type": "execute_result"
    }
   ],
   "source": [
    "# take the dot product of 'df_num_std' with 'eigenvector' to obtain new dataset\n",
    "# create a dataframe of principal components\n",
    "df_pca = pd.DataFrame(df_num_std.dot(eigenvector), columns= ['PC1','PC2','PC3','PC4','PC5'])\n",
    "\n",
    "# head() to display top five rows\n",
    "df_pca.head()"
   ]
  },
  {
   "cell_type": "code",
   "execution_count": 49,
   "metadata": {
    "id": "TG8SNHkPq93k",
    "outputId": "15eccfa1-03f3-4497-fd75-109a378a3348"
   },
   "outputs": [
    {
     "data": {
      "text/plain": [
       "(1460, 5)"
      ]
     },
     "execution_count": 49,
     "metadata": {},
     "output_type": "execute_result"
    }
   ],
   "source": [
    "# checking shape of new data\n",
    "df_pca.shape"
   ]
  },
  {
   "cell_type": "markdown",
   "metadata": {
    "id": "Ku6LS0iVq93k"
   },
   "source": [
    "<table align=\"left\">\n",
    "    <tr>\n",
    "        <td width=\"8%\">\n",
    "            <img src=\"note.png\">\n",
    "        </td>\n",
    "        <td>\n",
    "            <div align=\"left\", style=\"font-size:120%\">\n",
    "                <font color=\"#21618C\">\n",
    "                    <b>In the above output, we obtained the data with reduced dimensions. The new dataset has 1460 observations and 5 columns, i.e. we have decreased the number of numerical features from 35 to 5</b>\n",
    "                </font>\n",
    "            </div>\n",
    "        </td>\n",
    "    </tr>\n",
    "</table>"
   ]
  },
  {
   "cell_type": "markdown",
   "metadata": {
    "id": "JqhX83hOq93k"
   },
   "source": [
    "**Now, we will use the in-built python function from sci-kit learn library to compute principal components**"
   ]
  },
  {
   "cell_type": "markdown",
   "metadata": {
    "id": "_z-GRFB9q93l"
   },
   "source": [
    "<a id='pcafunction'></a>\n",
    "## 5. PCA using sklearn \n"
   ]
  },
  {
   "cell_type": "markdown",
   "metadata": {
    "id": "7rYT0xSQq93l"
   },
   "source": [
    "<table align=\"left\">\n",
    "    <tr>\n",
    "        <td width=\"8%\">\n",
    "            <img src=\"key.png\">\n",
    "        </td>\n",
    "        <td>\n",
    "            <div align=\"left\", style=\"font-size:120%\">\n",
    "                <font color=\"#21618C\">\n",
    "                    <b>Use the in-built PCA function from the sklearn library to perform PCA and check the results with the obtained data with reduced dimensions (using scratch method)\n",
    "                </b>\n",
    "                </font>\n",
    "            </div>\n",
    "        </td>\n",
    "    </tr>\n",
    "</table>"
   ]
  },
  {
   "cell_type": "code",
   "execution_count": 50,
   "metadata": {
    "executionInfo": {
     "elapsed": 389,
     "status": "ok",
     "timestamp": 1679025044845,
     "user": {
      "displayName": "Nikita Tandel",
      "userId": "13201249445825337206"
     },
     "user_tz": -330
    },
    "id": "-YIXGDvJq93m"
   },
   "outputs": [],
   "source": [
    "# specify required no of components\n",
    "# take 'n_components=5' based on the analysis of scree plot\n",
    "pca = PCA(n_components=5, random_state=0)  \n",
    "\n",
    "# fit_transform() computes the principal components \n",
    "# pass the standardized data to fit PCA\n",
    "PrincipalComponents = pca.fit_transform(df_num_std)"
   ]
  },
  {
   "cell_type": "code",
   "execution_count": 51,
   "metadata": {
    "colab": {
     "base_uri": "https://localhost:8080/",
     "height": 206
    },
    "executionInfo": {
     "elapsed": 426,
     "status": "ok",
     "timestamp": 1679025047529,
     "user": {
      "displayName": "Nikita Tandel",
      "userId": "13201249445825337206"
     },
     "user_tz": -330
    },
    "id": "dMkEBX6Dq93m",
    "outputId": "b7e4434b-2373-48cb-f2ae-70a556a60988"
   },
   "outputs": [
    {
     "data": {
      "text/html": [
       "<div>\n",
       "<style scoped>\n",
       "    .dataframe tbody tr th:only-of-type {\n",
       "        vertical-align: middle;\n",
       "    }\n",
       "\n",
       "    .dataframe tbody tr th {\n",
       "        vertical-align: top;\n",
       "    }\n",
       "\n",
       "    .dataframe thead th {\n",
       "        text-align: right;\n",
       "    }\n",
       "</style>\n",
       "<table border=\"1\" class=\"dataframe\">\n",
       "  <thead>\n",
       "    <tr style=\"text-align: right;\">\n",
       "      <th></th>\n",
       "      <th>PC1</th>\n",
       "      <th>PC2</th>\n",
       "      <th>PC3</th>\n",
       "      <th>PC4</th>\n",
       "      <th>PC5</th>\n",
       "    </tr>\n",
       "  </thead>\n",
       "  <tbody>\n",
       "    <tr>\n",
       "      <th>0</th>\n",
       "      <td>1.571352</td>\n",
       "      <td>-0.240622</td>\n",
       "      <td>-1.586777</td>\n",
       "      <td>-2.241474</td>\n",
       "      <td>0.753565</td>\n",
       "    </tr>\n",
       "    <tr>\n",
       "      <th>1</th>\n",
       "      <td>0.199709</td>\n",
       "      <td>-0.835527</td>\n",
       "      <td>1.042285</td>\n",
       "      <td>0.089567</td>\n",
       "      <td>-0.634687</td>\n",
       "    </tr>\n",
       "    <tr>\n",
       "      <th>2</th>\n",
       "      <td>1.741028</td>\n",
       "      <td>-0.250540</td>\n",
       "      <td>-1.389540</td>\n",
       "      <td>-1.627933</td>\n",
       "      <td>0.038217</td>\n",
       "    </tr>\n",
       "    <tr>\n",
       "      <th>3</th>\n",
       "      <td>-1.470503</td>\n",
       "      <td>1.871470</td>\n",
       "      <td>1.526313</td>\n",
       "      <td>-0.195221</td>\n",
       "      <td>-1.759654</td>\n",
       "    </tr>\n",
       "    <tr>\n",
       "      <th>4</th>\n",
       "      <td>4.216874</td>\n",
       "      <td>1.125024</td>\n",
       "      <td>-0.532845</td>\n",
       "      <td>-1.588267</td>\n",
       "      <td>-0.391245</td>\n",
       "    </tr>\n",
       "  </tbody>\n",
       "</table>\n",
       "</div>"
      ],
      "text/plain": [
       "        PC1       PC2       PC3       PC4       PC5\n",
       "0  1.571352 -0.240622 -1.586777 -2.241474  0.753565\n",
       "1  0.199709 -0.835527  1.042285  0.089567 -0.634687\n",
       "2  1.741028 -0.250540 -1.389540 -1.627933  0.038217\n",
       "3 -1.470503  1.871470  1.526313 -0.195221 -1.759654\n",
       "4  4.216874  1.125024 -0.532845 -1.588267 -0.391245"
      ]
     },
     "execution_count": 51,
     "metadata": {},
     "output_type": "execute_result"
    }
   ],
   "source": [
    "# create a dataframe of principal components\n",
    "PCA_df = pd.DataFrame(data = PrincipalComponents, columns = ['PC1', 'PC2','PC3','PC4','PC5'])\n",
    "\n",
    "# head() to display top five rows\n",
    "PCA_df.head()"
   ]
  },
  {
   "cell_type": "markdown",
   "metadata": {
    "id": "oqmNOrU-q93n"
   },
   "source": [
    "**Here, we have used the in-built PCA function to perform dimension reduction and obtained the new dataset with 5 dimensions**"
   ]
  },
  {
   "cell_type": "markdown",
   "metadata": {
    "id": "-Ypstcf4q93n"
   },
   "source": [
    "<table align=\"left\">\n",
    "    <tr>\n",
    "        <td width=\"8%\">\n",
    "            <img src=\"note.png\">\n",
    "        </td>\n",
    "        <td>\n",
    "            <div align=\"left\", style=\"font-size:120%\">\n",
    "                <font color=\"#21618C\">\n",
    "                    <b> The signs of the first four principal components are reversed in the output obtained from the in-built function, as compared to the results obtained from scratch.<br><br>\n",
    "The signs depend on how the algorithm solves the eigenvector problem underlying the PCA operation. The scratch method is using the eigendecomposition method to compute eigenvalues and eigenvectors; while in-built function uses the SVD method.<br>\n",
    "The difference in the signs does not affect the variances explained by the principal components. Let, PC1 be the component of maximum variation. If we consider -(PC1) instead of PC1, then also we will obtain the same variance in the data</b>\n",
    "                </font>\n",
    "            </div>\n",
    "        </td>\n",
    "    </tr>\n",
    "</table>"
   ]
  },
  {
   "cell_type": "markdown",
   "metadata": {
    "id": "6vKNDG37q93n"
   },
   "source": [
    "<a id='Conclusion'></a>\n",
    "## 6. Conclusion "
   ]
  },
  {
   "cell_type": "markdown",
   "metadata": {
    "id": "1PMvpCtqq93o"
   },
   "source": [
    "We have performed the PCA technique using the in-built function as well as from scratch and have reduced the dimension of the numerical variables from 35 to 5. The obtained principal components explains most of the variance in the data without losing much information."
   ]
  }
 ],
 "metadata": {
  "colab": {
   "provenance": []
  },
  "kernelspec": {
   "display_name": "Python 3 (ipykernel)",
   "language": "python",
   "name": "python3"
  },
  "language_info": {
   "codemirror_mode": {
    "name": "ipython",
    "version": 3
   },
   "file_extension": ".py",
   "mimetype": "text/x-python",
   "name": "python",
   "nbconvert_exporter": "python",
   "pygments_lexer": "ipython3",
   "version": "3.9.7"
  }
 },
 "nbformat": 4,
 "nbformat_minor": 1
}
